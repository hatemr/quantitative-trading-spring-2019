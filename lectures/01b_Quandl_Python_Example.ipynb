{
 "cells": [
  {
   "cell_type": "markdown",
   "metadata": {},
   "source": [
    "# Using Python With Quandl Data"
   ]
  },
  {
   "cell_type": "markdown",
   "metadata": {},
   "source": [
    "### Preliminaries"
   ]
  },
  {
   "cell_type": "markdown",
   "metadata": {},
   "source": [
    "We want plots to appear in this notebook rather than in a separate window."
   ]
  },
  {
   "cell_type": "code",
   "execution_count": 9,
   "metadata": {
    "ExecuteTime": {
     "end_time": "2018-03-27T02:18:17.596578Z",
     "start_time": "2018-03-27T02:18:16.436084Z"
    }
   },
   "outputs": [],
   "source": [
    "%matplotlib inline"
   ]
  },
  {
   "cell_type": "markdown",
   "metadata": {},
   "source": [
    "Import Python modules to support our research.  If you are using _Anaconda_ then you may need to run _conda install seaborn_ and similar commands."
   ]
  },
  {
   "cell_type": "code",
   "execution_count": 10,
   "metadata": {
    "ExecuteTime": {
     "end_time": "2018-03-27T02:18:20.680220Z",
     "start_time": "2018-03-27T02:18:19.349005Z"
    }
   },
   "outputs": [],
   "source": [
    "import matplotlib.pyplot as plt\n",
    "import pandas as pd\n",
    "import numpy as np\n",
    "import scipy as sp\n",
    "import quandl\n",
    "import functools\n",
    "import seaborn as sns"
   ]
  },
  {
   "cell_type": "markdown",
   "metadata": {},
   "source": [
    "### Load the Data"
   ]
  },
  {
   "cell_type": "markdown",
   "metadata": {},
   "source": [
    "\n",
    "We are likely to run this notebook over and over, so we add memoizaiton to the data loading function. This makes testing and re-running our code far faster, and even lets us work offline.  Note that if we change the code inside our function, we may get unexpectedly stale results out of the cache!"
   ]
  },
  {
   "cell_type": "code",
   "execution_count": 11,
   "metadata": {
    "ExecuteTime": {
     "end_time": "2018-03-27T02:18:32.783435Z",
     "start_time": "2018-03-27T02:18:32.775306Z"
    }
   },
   "outputs": [],
   "source": [
    "@functools.lru_cache(maxsize=16)\n",
    "def fetch_quandl(my_securities):\n",
    "    print(\"Fetching from Quandl\")\n",
    "    qdata = quandl.get(list(my_securities), returns=\"pandas\")\n",
    "    return qdata"
   ]
  },
  {
   "cell_type": "code",
   "execution_count": 12,
   "metadata": {
    "ExecuteTime": {
     "end_time": "2018-03-27T02:18:43.868242Z",
     "start_time": "2018-03-27T02:18:33.501616Z"
    }
   },
   "outputs": [
    {
     "name": "stdout",
     "output_type": "stream",
     "text": [
      "Fetching from Quandl\n"
     ]
    }
   ],
   "source": [
    "raw_data = fetch_quandl(('WIKI/XOM', \"NSE/OIL\"))\n"
   ]
  },
  {
   "cell_type": "markdown",
   "metadata": {},
   "source": [
    "### See what we downloaded"
   ]
  },
  {
   "cell_type": "code",
   "execution_count": 13,
   "metadata": {
    "ExecuteTime": {
     "end_time": "2018-03-27T02:18:43.921921Z",
     "start_time": "2018-03-27T02:18:43.871276Z"
    }
   },
   "outputs": [
    {
     "data": {
      "text/html": [
       "<div>\n",
       "<style scoped>\n",
       "    .dataframe tbody tr th:only-of-type {\n",
       "        vertical-align: middle;\n",
       "    }\n",
       "\n",
       "    .dataframe tbody tr th {\n",
       "        vertical-align: top;\n",
       "    }\n",
       "\n",
       "    .dataframe thead th {\n",
       "        text-align: right;\n",
       "    }\n",
       "</style>\n",
       "<table border=\"1\" class=\"dataframe\">\n",
       "  <thead>\n",
       "    <tr style=\"text-align: right;\">\n",
       "      <th></th>\n",
       "      <th>WIKI/XOM - Open</th>\n",
       "      <th>WIKI/XOM - High</th>\n",
       "      <th>WIKI/XOM - Low</th>\n",
       "      <th>WIKI/XOM - Close</th>\n",
       "      <th>WIKI/XOM - Volume</th>\n",
       "      <th>WIKI/XOM - Ex-Dividend</th>\n",
       "      <th>WIKI/XOM - Split Ratio</th>\n",
       "      <th>WIKI/XOM - Adj. Open</th>\n",
       "      <th>WIKI/XOM - Adj. High</th>\n",
       "      <th>WIKI/XOM - Adj. Low</th>\n",
       "      <th>WIKI/XOM - Adj. Close</th>\n",
       "      <th>WIKI/XOM - Adj. Volume</th>\n",
       "      <th>NSE/OIL - Open</th>\n",
       "      <th>NSE/OIL - High</th>\n",
       "      <th>NSE/OIL - Low</th>\n",
       "      <th>NSE/OIL - Last</th>\n",
       "      <th>NSE/OIL - Close</th>\n",
       "      <th>NSE/OIL - Total Trade Quantity</th>\n",
       "      <th>NSE/OIL - Turnover (Lacs)</th>\n",
       "    </tr>\n",
       "    <tr>\n",
       "      <th>Date</th>\n",
       "      <th></th>\n",
       "      <th></th>\n",
       "      <th></th>\n",
       "      <th></th>\n",
       "      <th></th>\n",
       "      <th></th>\n",
       "      <th></th>\n",
       "      <th></th>\n",
       "      <th></th>\n",
       "      <th></th>\n",
       "      <th></th>\n",
       "      <th></th>\n",
       "      <th></th>\n",
       "      <th></th>\n",
       "      <th></th>\n",
       "      <th></th>\n",
       "      <th></th>\n",
       "      <th></th>\n",
       "      <th></th>\n",
       "    </tr>\n",
       "  </thead>\n",
       "  <tbody>\n",
       "    <tr>\n",
       "      <th>2018-12-31</th>\n",
       "      <td>NaN</td>\n",
       "      <td>NaN</td>\n",
       "      <td>NaN</td>\n",
       "      <td>NaN</td>\n",
       "      <td>NaN</td>\n",
       "      <td>NaN</td>\n",
       "      <td>NaN</td>\n",
       "      <td>NaN</td>\n",
       "      <td>NaN</td>\n",
       "      <td>NaN</td>\n",
       "      <td>NaN</td>\n",
       "      <td>NaN</td>\n",
       "      <td>178.10</td>\n",
       "      <td>179.00</td>\n",
       "      <td>174.35</td>\n",
       "      <td>175.00</td>\n",
       "      <td>174.80</td>\n",
       "      <td>761462.0</td>\n",
       "      <td>1343.75</td>\n",
       "    </tr>\n",
       "    <tr>\n",
       "      <th>2019-01-01</th>\n",
       "      <td>NaN</td>\n",
       "      <td>NaN</td>\n",
       "      <td>NaN</td>\n",
       "      <td>NaN</td>\n",
       "      <td>NaN</td>\n",
       "      <td>NaN</td>\n",
       "      <td>NaN</td>\n",
       "      <td>NaN</td>\n",
       "      <td>NaN</td>\n",
       "      <td>NaN</td>\n",
       "      <td>NaN</td>\n",
       "      <td>NaN</td>\n",
       "      <td>175.00</td>\n",
       "      <td>176.40</td>\n",
       "      <td>174.15</td>\n",
       "      <td>175.15</td>\n",
       "      <td>175.75</td>\n",
       "      <td>381570.0</td>\n",
       "      <td>669.16</td>\n",
       "    </tr>\n",
       "    <tr>\n",
       "      <th>2019-01-02</th>\n",
       "      <td>NaN</td>\n",
       "      <td>NaN</td>\n",
       "      <td>NaN</td>\n",
       "      <td>NaN</td>\n",
       "      <td>NaN</td>\n",
       "      <td>NaN</td>\n",
       "      <td>NaN</td>\n",
       "      <td>NaN</td>\n",
       "      <td>NaN</td>\n",
       "      <td>NaN</td>\n",
       "      <td>NaN</td>\n",
       "      <td>NaN</td>\n",
       "      <td>175.80</td>\n",
       "      <td>176.20</td>\n",
       "      <td>171.00</td>\n",
       "      <td>172.35</td>\n",
       "      <td>172.40</td>\n",
       "      <td>722532.0</td>\n",
       "      <td>1251.85</td>\n",
       "    </tr>\n",
       "    <tr>\n",
       "      <th>2019-01-03</th>\n",
       "      <td>NaN</td>\n",
       "      <td>NaN</td>\n",
       "      <td>NaN</td>\n",
       "      <td>NaN</td>\n",
       "      <td>NaN</td>\n",
       "      <td>NaN</td>\n",
       "      <td>NaN</td>\n",
       "      <td>NaN</td>\n",
       "      <td>NaN</td>\n",
       "      <td>NaN</td>\n",
       "      <td>NaN</td>\n",
       "      <td>NaN</td>\n",
       "      <td>172.80</td>\n",
       "      <td>175.70</td>\n",
       "      <td>171.50</td>\n",
       "      <td>172.00</td>\n",
       "      <td>172.00</td>\n",
       "      <td>698190.0</td>\n",
       "      <td>1212.34</td>\n",
       "    </tr>\n",
       "    <tr>\n",
       "      <th>2019-01-04</th>\n",
       "      <td>NaN</td>\n",
       "      <td>NaN</td>\n",
       "      <td>NaN</td>\n",
       "      <td>NaN</td>\n",
       "      <td>NaN</td>\n",
       "      <td>NaN</td>\n",
       "      <td>NaN</td>\n",
       "      <td>NaN</td>\n",
       "      <td>NaN</td>\n",
       "      <td>NaN</td>\n",
       "      <td>NaN</td>\n",
       "      <td>NaN</td>\n",
       "      <td>172.05</td>\n",
       "      <td>174.95</td>\n",
       "      <td>172.05</td>\n",
       "      <td>174.55</td>\n",
       "      <td>174.55</td>\n",
       "      <td>431122.0</td>\n",
       "      <td>749.99</td>\n",
       "    </tr>\n",
       "  </tbody>\n",
       "</table>\n",
       "</div>"
      ],
      "text/plain": [
       "            WIKI/XOM - Open  WIKI/XOM - High  WIKI/XOM - Low  \\\n",
       "Date                                                           \n",
       "2018-12-31              NaN              NaN             NaN   \n",
       "2019-01-01              NaN              NaN             NaN   \n",
       "2019-01-02              NaN              NaN             NaN   \n",
       "2019-01-03              NaN              NaN             NaN   \n",
       "2019-01-04              NaN              NaN             NaN   \n",
       "\n",
       "            WIKI/XOM - Close  WIKI/XOM - Volume  WIKI/XOM - Ex-Dividend  \\\n",
       "Date                                                                      \n",
       "2018-12-31               NaN                NaN                     NaN   \n",
       "2019-01-01               NaN                NaN                     NaN   \n",
       "2019-01-02               NaN                NaN                     NaN   \n",
       "2019-01-03               NaN                NaN                     NaN   \n",
       "2019-01-04               NaN                NaN                     NaN   \n",
       "\n",
       "            WIKI/XOM - Split Ratio  WIKI/XOM - Adj. Open  \\\n",
       "Date                                                       \n",
       "2018-12-31                     NaN                   NaN   \n",
       "2019-01-01                     NaN                   NaN   \n",
       "2019-01-02                     NaN                   NaN   \n",
       "2019-01-03                     NaN                   NaN   \n",
       "2019-01-04                     NaN                   NaN   \n",
       "\n",
       "            WIKI/XOM - Adj. High  WIKI/XOM - Adj. Low  WIKI/XOM - Adj. Close  \\\n",
       "Date                                                                           \n",
       "2018-12-31                   NaN                  NaN                    NaN   \n",
       "2019-01-01                   NaN                  NaN                    NaN   \n",
       "2019-01-02                   NaN                  NaN                    NaN   \n",
       "2019-01-03                   NaN                  NaN                    NaN   \n",
       "2019-01-04                   NaN                  NaN                    NaN   \n",
       "\n",
       "            WIKI/XOM - Adj. Volume  NSE/OIL - Open  NSE/OIL - High  \\\n",
       "Date                                                                 \n",
       "2018-12-31                     NaN          178.10          179.00   \n",
       "2019-01-01                     NaN          175.00          176.40   \n",
       "2019-01-02                     NaN          175.80          176.20   \n",
       "2019-01-03                     NaN          172.80          175.70   \n",
       "2019-01-04                     NaN          172.05          174.95   \n",
       "\n",
       "            NSE/OIL - Low  NSE/OIL - Last  NSE/OIL - Close  \\\n",
       "Date                                                         \n",
       "2018-12-31         174.35          175.00           174.80   \n",
       "2019-01-01         174.15          175.15           175.75   \n",
       "2019-01-02         171.00          172.35           172.40   \n",
       "2019-01-03         171.50          172.00           172.00   \n",
       "2019-01-04         172.05          174.55           174.55   \n",
       "\n",
       "            NSE/OIL - Total Trade Quantity  NSE/OIL - Turnover (Lacs)  \n",
       "Date                                                                   \n",
       "2018-12-31                        761462.0                    1343.75  \n",
       "2019-01-01                        381570.0                     669.16  \n",
       "2019-01-02                        722532.0                    1251.85  \n",
       "2019-01-03                        698190.0                    1212.34  \n",
       "2019-01-04                        431122.0                     749.99  "
      ]
     },
     "execution_count": 13,
     "metadata": {},
     "output_type": "execute_result"
    }
   ],
   "source": [
    "raw_data.tail()"
   ]
  },
  {
   "cell_type": "markdown",
   "metadata": {},
   "source": [
    "It needs cleaning!"
   ]
  },
  {
   "cell_type": "markdown",
   "metadata": {},
   "source": [
    "### Common Quant Task: Massaging The Data"
   ]
  },
  {
   "cell_type": "markdown",
   "metadata": {},
   "source": [
    "Here we create a function that cleans up column names in our data, for better-looking plot labels and plot specifications"
   ]
  },
  {
   "cell_type": "code",
   "execution_count": 14,
   "metadata": {
    "ExecuteTime": {
     "end_time": "2018-03-27T02:19:31.545184Z",
     "start_time": "2018-03-27T02:19:31.474229Z"
    }
   },
   "outputs": [
    {
     "data": {
      "text/html": [
       "<div>\n",
       "<style scoped>\n",
       "    .dataframe tbody tr th:only-of-type {\n",
       "        vertical-align: middle;\n",
       "    }\n",
       "\n",
       "    .dataframe tbody tr th {\n",
       "        vertical-align: top;\n",
       "    }\n",
       "\n",
       "    .dataframe thead th {\n",
       "        text-align: right;\n",
       "    }\n",
       "</style>\n",
       "<table border=\"1\" class=\"dataframe\">\n",
       "  <thead>\n",
       "    <tr style=\"text-align: right;\">\n",
       "      <th></th>\n",
       "      <th>XOM:Open</th>\n",
       "      <th>XOM:High</th>\n",
       "      <th>XOM:Low</th>\n",
       "      <th>XOM:Close</th>\n",
       "      <th>XOM:Volume</th>\n",
       "      <th>XOM:Ex-Dividend</th>\n",
       "      <th>XOM:Split Ratio</th>\n",
       "      <th>XOM:Adj. Open</th>\n",
       "      <th>XOM:Adj. High</th>\n",
       "      <th>XOM:Adj. Low</th>\n",
       "      <th>XOM:Adj. Close</th>\n",
       "      <th>XOM:Adj. Volume</th>\n",
       "      <th>OIL:Open</th>\n",
       "      <th>OIL:High</th>\n",
       "      <th>OIL:Low</th>\n",
       "      <th>OIL:Last</th>\n",
       "      <th>OIL:Close</th>\n",
       "      <th>OIL:Total Trade Quantity</th>\n",
       "      <th>OIL:Turnover (Lacs)</th>\n",
       "    </tr>\n",
       "    <tr>\n",
       "      <th>Date</th>\n",
       "      <th></th>\n",
       "      <th></th>\n",
       "      <th></th>\n",
       "      <th></th>\n",
       "      <th></th>\n",
       "      <th></th>\n",
       "      <th></th>\n",
       "      <th></th>\n",
       "      <th></th>\n",
       "      <th></th>\n",
       "      <th></th>\n",
       "      <th></th>\n",
       "      <th></th>\n",
       "      <th></th>\n",
       "      <th></th>\n",
       "      <th></th>\n",
       "      <th></th>\n",
       "      <th></th>\n",
       "      <th></th>\n",
       "    </tr>\n",
       "  </thead>\n",
       "  <tbody>\n",
       "    <tr>\n",
       "      <th>2018-12-31</th>\n",
       "      <td>NaN</td>\n",
       "      <td>NaN</td>\n",
       "      <td>NaN</td>\n",
       "      <td>NaN</td>\n",
       "      <td>NaN</td>\n",
       "      <td>NaN</td>\n",
       "      <td>NaN</td>\n",
       "      <td>NaN</td>\n",
       "      <td>NaN</td>\n",
       "      <td>NaN</td>\n",
       "      <td>NaN</td>\n",
       "      <td>NaN</td>\n",
       "      <td>178.10</td>\n",
       "      <td>179.00</td>\n",
       "      <td>174.35</td>\n",
       "      <td>175.00</td>\n",
       "      <td>174.80</td>\n",
       "      <td>761462.0</td>\n",
       "      <td>1343.75</td>\n",
       "    </tr>\n",
       "    <tr>\n",
       "      <th>2019-01-01</th>\n",
       "      <td>NaN</td>\n",
       "      <td>NaN</td>\n",
       "      <td>NaN</td>\n",
       "      <td>NaN</td>\n",
       "      <td>NaN</td>\n",
       "      <td>NaN</td>\n",
       "      <td>NaN</td>\n",
       "      <td>NaN</td>\n",
       "      <td>NaN</td>\n",
       "      <td>NaN</td>\n",
       "      <td>NaN</td>\n",
       "      <td>NaN</td>\n",
       "      <td>175.00</td>\n",
       "      <td>176.40</td>\n",
       "      <td>174.15</td>\n",
       "      <td>175.15</td>\n",
       "      <td>175.75</td>\n",
       "      <td>381570.0</td>\n",
       "      <td>669.16</td>\n",
       "    </tr>\n",
       "    <tr>\n",
       "      <th>2019-01-02</th>\n",
       "      <td>NaN</td>\n",
       "      <td>NaN</td>\n",
       "      <td>NaN</td>\n",
       "      <td>NaN</td>\n",
       "      <td>NaN</td>\n",
       "      <td>NaN</td>\n",
       "      <td>NaN</td>\n",
       "      <td>NaN</td>\n",
       "      <td>NaN</td>\n",
       "      <td>NaN</td>\n",
       "      <td>NaN</td>\n",
       "      <td>NaN</td>\n",
       "      <td>175.80</td>\n",
       "      <td>176.20</td>\n",
       "      <td>171.00</td>\n",
       "      <td>172.35</td>\n",
       "      <td>172.40</td>\n",
       "      <td>722532.0</td>\n",
       "      <td>1251.85</td>\n",
       "    </tr>\n",
       "    <tr>\n",
       "      <th>2019-01-03</th>\n",
       "      <td>NaN</td>\n",
       "      <td>NaN</td>\n",
       "      <td>NaN</td>\n",
       "      <td>NaN</td>\n",
       "      <td>NaN</td>\n",
       "      <td>NaN</td>\n",
       "      <td>NaN</td>\n",
       "      <td>NaN</td>\n",
       "      <td>NaN</td>\n",
       "      <td>NaN</td>\n",
       "      <td>NaN</td>\n",
       "      <td>NaN</td>\n",
       "      <td>172.80</td>\n",
       "      <td>175.70</td>\n",
       "      <td>171.50</td>\n",
       "      <td>172.00</td>\n",
       "      <td>172.00</td>\n",
       "      <td>698190.0</td>\n",
       "      <td>1212.34</td>\n",
       "    </tr>\n",
       "    <tr>\n",
       "      <th>2019-01-04</th>\n",
       "      <td>NaN</td>\n",
       "      <td>NaN</td>\n",
       "      <td>NaN</td>\n",
       "      <td>NaN</td>\n",
       "      <td>NaN</td>\n",
       "      <td>NaN</td>\n",
       "      <td>NaN</td>\n",
       "      <td>NaN</td>\n",
       "      <td>NaN</td>\n",
       "      <td>NaN</td>\n",
       "      <td>NaN</td>\n",
       "      <td>NaN</td>\n",
       "      <td>172.05</td>\n",
       "      <td>174.95</td>\n",
       "      <td>172.05</td>\n",
       "      <td>174.55</td>\n",
       "      <td>174.55</td>\n",
       "      <td>431122.0</td>\n",
       "      <td>749.99</td>\n",
       "    </tr>\n",
       "  </tbody>\n",
       "</table>\n",
       "</div>"
      ],
      "text/plain": [
       "            XOM:Open  XOM:High  XOM:Low  XOM:Close  XOM:Volume  \\\n",
       "Date                                                             \n",
       "2018-12-31       NaN       NaN      NaN        NaN         NaN   \n",
       "2019-01-01       NaN       NaN      NaN        NaN         NaN   \n",
       "2019-01-02       NaN       NaN      NaN        NaN         NaN   \n",
       "2019-01-03       NaN       NaN      NaN        NaN         NaN   \n",
       "2019-01-04       NaN       NaN      NaN        NaN         NaN   \n",
       "\n",
       "            XOM:Ex-Dividend  XOM:Split Ratio  XOM:Adj. Open  XOM:Adj. High  \\\n",
       "Date                                                                         \n",
       "2018-12-31              NaN              NaN            NaN            NaN   \n",
       "2019-01-01              NaN              NaN            NaN            NaN   \n",
       "2019-01-02              NaN              NaN            NaN            NaN   \n",
       "2019-01-03              NaN              NaN            NaN            NaN   \n",
       "2019-01-04              NaN              NaN            NaN            NaN   \n",
       "\n",
       "            XOM:Adj. Low  XOM:Adj. Close  XOM:Adj. Volume  OIL:Open  OIL:High  \\\n",
       "Date                                                                            \n",
       "2018-12-31           NaN             NaN              NaN    178.10    179.00   \n",
       "2019-01-01           NaN             NaN              NaN    175.00    176.40   \n",
       "2019-01-02           NaN             NaN              NaN    175.80    176.20   \n",
       "2019-01-03           NaN             NaN              NaN    172.80    175.70   \n",
       "2019-01-04           NaN             NaN              NaN    172.05    174.95   \n",
       "\n",
       "            OIL:Low  OIL:Last  OIL:Close  OIL:Total Trade Quantity  \\\n",
       "Date                                                                 \n",
       "2018-12-31   174.35    175.00     174.80                  761462.0   \n",
       "2019-01-01   174.15    175.15     175.75                  381570.0   \n",
       "2019-01-02   171.00    172.35     172.40                  722532.0   \n",
       "2019-01-03   171.50    172.00     172.00                  698190.0   \n",
       "2019-01-04   172.05    174.55     174.55                  431122.0   \n",
       "\n",
       "            OIL:Turnover (Lacs)  \n",
       "Date                             \n",
       "2018-12-31              1343.75  \n",
       "2019-01-01               669.16  \n",
       "2019-01-02              1251.85  \n",
       "2019-01-03              1212.34  \n",
       "2019-01-04               749.99  "
      ]
     },
     "execution_count": 14,
     "metadata": {},
     "output_type": "execute_result"
    }
   ],
   "source": [
    "def clean_quandl_columns(dataframe):\n",
    "    replacement_columns = {}\n",
    "    for c in dataframe.columns:\n",
    "        series_name, variable = c.split(' - ')\n",
    "        source_name, asset = series_name.split('/')\n",
    "        replacement_columns[c] = asset+\":\"+variable\n",
    "    renamed_data = dataframe.rename(columns=replacement_columns)\n",
    "    return renamed_data\n",
    "renamed_data = clean_quandl_columns(raw_data)\n",
    "renamed_data.tail()\n"
   ]
  },
  {
   "cell_type": "code",
   "execution_count": 15,
   "metadata": {
    "ExecuteTime": {
     "end_time": "2018-03-27T02:19:44.096466Z",
     "start_time": "2018-03-27T02:19:44.080726Z"
    }
   },
   "outputs": [
    {
     "data": {
      "text/html": [
       "<div>\n",
       "<style scoped>\n",
       "    .dataframe tbody tr th:only-of-type {\n",
       "        vertical-align: middle;\n",
       "    }\n",
       "\n",
       "    .dataframe tbody tr th {\n",
       "        vertical-align: top;\n",
       "    }\n",
       "\n",
       "    .dataframe thead th {\n",
       "        text-align: right;\n",
       "    }\n",
       "</style>\n",
       "<table border=\"1\" class=\"dataframe\">\n",
       "  <thead>\n",
       "    <tr style=\"text-align: right;\">\n",
       "      <th></th>\n",
       "      <th>XOM:Adj. Close</th>\n",
       "      <th>OIL:Close</th>\n",
       "    </tr>\n",
       "    <tr>\n",
       "      <th>Date</th>\n",
       "      <th></th>\n",
       "      <th></th>\n",
       "    </tr>\n",
       "  </thead>\n",
       "  <tbody>\n",
       "    <tr>\n",
       "      <th>2018-12-31</th>\n",
       "      <td>NaN</td>\n",
       "      <td>174.80</td>\n",
       "    </tr>\n",
       "    <tr>\n",
       "      <th>2019-01-01</th>\n",
       "      <td>NaN</td>\n",
       "      <td>175.75</td>\n",
       "    </tr>\n",
       "    <tr>\n",
       "      <th>2019-01-02</th>\n",
       "      <td>NaN</td>\n",
       "      <td>172.40</td>\n",
       "    </tr>\n",
       "    <tr>\n",
       "      <th>2019-01-03</th>\n",
       "      <td>NaN</td>\n",
       "      <td>172.00</td>\n",
       "    </tr>\n",
       "    <tr>\n",
       "      <th>2019-01-04</th>\n",
       "      <td>NaN</td>\n",
       "      <td>174.55</td>\n",
       "    </tr>\n",
       "  </tbody>\n",
       "</table>\n",
       "</div>"
      ],
      "text/plain": [
       "            XOM:Adj. Close  OIL:Close\n",
       "Date                                 \n",
       "2018-12-31             NaN     174.80\n",
       "2019-01-01             NaN     175.75\n",
       "2019-01-02             NaN     172.40\n",
       "2019-01-03             NaN     172.00\n",
       "2019-01-04             NaN     174.55"
      ]
     },
     "execution_count": 15,
     "metadata": {},
     "output_type": "execute_result"
    }
   ],
   "source": [
    "renamed_data[[\"XOM:Adj. Close\",\"OIL:Close\"]].tail()"
   ]
  },
  {
   "cell_type": "markdown",
   "metadata": {},
   "source": [
    "Now it looks better!"
   ]
  },
  {
   "cell_type": "markdown",
   "metadata": {},
   "source": [
    "### Examining The Data"
   ]
  },
  {
   "cell_type": "markdown",
   "metadata": {},
   "source": [
    "We will now display the data and fit a model $y \\sim x + \\epsilon$"
   ]
  },
  {
   "cell_type": "code",
   "execution_count": 16,
   "metadata": {
    "ExecuteTime": {
     "end_time": "2018-03-27T02:19:49.574582Z",
     "start_time": "2018-03-27T02:19:49.297297Z"
    }
   },
   "outputs": [
    {
     "data": {
      "text/plain": [
       "Text(0.5, 0.98, 'Oil and an Oil Firm, 1970-2015')"
      ]
     },
     "execution_count": 16,
     "metadata": {},
     "output_type": "execute_result"
    },
    {
     "data": {
      "image/png": "[encoded data removed]",
      "text/plain": [
       "<Figure size 432x288 with 1 Axes>"
      ]
     },
     "metadata": {
      "needs_background": "light"
     },
     "output_type": "display_data"
    }
   ],
   "source": [
    "fig, ax = plt.subplots()\n",
    "splot = sns.regplot(\"XOM:Adj. Close\",\"OIL:Close\",data=renamed_data, ax=ax)\n",
    "fig.suptitle('Oil and an Oil Firm, 1970-2015')"
   ]
  },
  {
   "cell_type": "code",
   "execution_count": null,
   "metadata": {
    "collapsed": true
   },
   "outputs": [],
   "source": []
  }
 ],
 "metadata": {
  "kernelspec": {
   "display_name": "Python 3",
   "language": "python",
   "name": "python3"
  },
  "language_info": {
   "codemirror_mode": {
    "name": "ipython",
    "version": 3
   },
   "file_extension": ".py",
   "mimetype": "text/x-python",
   "name": "python",
   "nbconvert_exporter": "python",
   "pygments_lexer": "ipython3",
   "version": "3.6.8"
  }
 },
 "nbformat": 4,
 "nbformat_minor": 2
}
