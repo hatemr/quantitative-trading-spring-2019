{
 "cells": [
  {
   "cell_type": "markdown",
   "metadata": {},
   "source": [
    "# Homework: Robust Regression and Equity Beta\n",
    "Robert Hatem"
   ]
  },
  {
   "cell_type": "code",
   "execution_count": 1,
   "metadata": {},
   "outputs": [],
   "source": [
    "import matplotlib.pyplot as plt\n",
    "import pandas as pd\n",
    "import numpy as np\n",
    "import scipy as sp\n",
    "import quandl\n",
    "import functools\n",
    "import seaborn as sns\n",
    "import time\n",
    "import h5py\n",
    "import statsmodels.api as sm\n",
    "import copy\n",
    "%matplotlib inline"
   ]
  },
  {
   "cell_type": "code",
   "execution_count": 3,
   "metadata": {},
   "outputs": [],
   "source": [
    "# API key\n",
    "quandl.ApiConfig.api_key = \"wFcUAbwJv3FbxzDwExsY\""
   ]
  },
  {
   "cell_type": "code",
   "execution_count": 4,
   "metadata": {},
   "outputs": [],
   "source": [
    "# for quandl data\n",
    "@functools.lru_cache(maxsize=16)\n",
    "def fetch_quandl(my_securities, start_date=\"2011-01-01\", end_date=\"2018-01-01\"):\n",
    "    #print(\"Fetching from Quandl\")\n",
    "    if len(my_securities) != 1:\n",
    "        qdata = quandl.get(list(my_securities), start_date=start_date, end_date=end_date, returns=\"pandas\")\n",
    "    elif len(my_securities) == 1:\n",
    "        my_securities = my_securities[0]\n",
    "        qdata = quandl.get(list(my_securities), start_date=\"2010-12-01\", end_date=\"2018-01-01\", returns=\"pandas\")\n",
    "    return qdata"
   ]
  },
  {
   "cell_type": "markdown",
   "metadata": {},
   "source": [
    "# Data Processing\n",
    "The data processing steps are as follows:\n",
    "* Get excel with top 40 tickers (or less) of each ETF\n",
    "* In a dictionary, collect the ETFs for each stock\n",
    "* Upload returns for each ticker\n",
    "* Note that I use 60 days for Jan-March. The first 45 days are in-sample and the last 15 days are the out-of-sample."
   ]
  },
  {
   "cell_type": "markdown",
   "metadata": {},
   "source": [
    "The holdings for each of the 9 ETFs are read in from their excel sheet."
   ]
  },
  {
   "cell_type": "code",
   "execution_count": 9,
   "metadata": {},
   "outputs": [
    {
     "name": "stdout",
     "output_type": "stream",
     "text": [
      "ETF : Number of tickers\n",
      "\n",
      "XLU :  29\n",
      "VOX :  40\n",
      "SMH :  25\n",
      "XBI :  40\n",
      "XLF :  40\n",
      "XOP :  40\n",
      "OIH :  24\n",
      "XRT :  40\n",
      "XLV :  40\n"
     ]
    }
   ],
   "source": [
    "# read in all tabs as dictionary\n",
    "etf_holdings = pd.read_excel('ETF Data.xlsx', sheet_name=None)\n",
    "\n",
    "print('ETF :','Number of tickers\\n')\n",
    "for key, value in etf_holdings.items():\n",
    "    print(key, \": \", value.Ticker.unique().shape[0])"
   ]
  },
  {
   "cell_type": "markdown",
   "metadata": {},
   "source": [
    "Turn the dictionary into one large dataframe by concatenating."
   ]
  },
  {
   "cell_type": "code",
   "execution_count": 10,
   "metadata": {},
   "outputs": [
    {
     "data": {
      "text/html": [
       "<div>\n",
       "<style scoped>\n",
       "    .dataframe tbody tr th:only-of-type {\n",
       "        vertical-align: middle;\n",
       "    }\n",
       "\n",
       "    .dataframe tbody tr th {\n",
       "        vertical-align: top;\n",
       "    }\n",
       "\n",
       "    .dataframe thead th {\n",
       "        text-align: right;\n",
       "    }\n",
       "</style>\n",
       "<table border=\"1\" class=\"dataframe\">\n",
       "  <thead>\n",
       "    <tr style=\"text-align: right;\">\n",
       "      <th></th>\n",
       "      <th>ETF</th>\n",
       "      <th>Ticker</th>\n",
       "      <th>Stock</th>\n",
       "    </tr>\n",
       "  </thead>\n",
       "  <tbody>\n",
       "    <tr>\n",
       "      <th>0</th>\n",
       "      <td>XLU</td>\n",
       "      <td>NEE</td>\n",
       "      <td>NextEra Energy Inc.</td>\n",
       "    </tr>\n",
       "    <tr>\n",
       "      <th>1</th>\n",
       "      <td>XLU</td>\n",
       "      <td>DUK</td>\n",
       "      <td>Duke Energy Corporation</td>\n",
       "    </tr>\n",
       "    <tr>\n",
       "      <th>2</th>\n",
       "      <td>XLU</td>\n",
       "      <td>D</td>\n",
       "      <td>Dominion Energy Inc</td>\n",
       "    </tr>\n",
       "    <tr>\n",
       "      <th>3</th>\n",
       "      <td>XLU</td>\n",
       "      <td>SO</td>\n",
       "      <td>Southern Company</td>\n",
       "    </tr>\n",
       "    <tr>\n",
       "      <th>4</th>\n",
       "      <td>XLU</td>\n",
       "      <td>EXC</td>\n",
       "      <td>Exelon Corporation</td>\n",
       "    </tr>\n",
       "  </tbody>\n",
       "</table>\n",
       "</div>"
      ],
      "text/plain": [
       "   ETF Ticker                    Stock\n",
       "0  XLU    NEE      NextEra Energy Inc.\n",
       "1  XLU    DUK  Duke Energy Corporation\n",
       "2  XLU      D      Dominion Energy Inc\n",
       "3  XLU     SO         Southern Company\n",
       "4  XLU    EXC       Exelon Corporation"
      ]
     },
     "execution_count": 10,
     "metadata": {},
     "output_type": "execute_result"
    }
   ],
   "source": [
    "# Concatenate all ETF holdings together\n",
    "holdings = etf_holdings['XLU'].copy()\n",
    "for key, value in etf_holdings.items():\n",
    "    if key=='XLU': continue\n",
    "    else:\n",
    "        holdings = pd.concat([holdings, value])\n",
    "        \n",
    "# change order of columns\n",
    "cols = holdings.columns.tolist()\n",
    "cols = [cols[2], cols[1], cols[0]]\n",
    "holdings = holdings[cols]\n",
    "\n",
    "holdings.head()"
   ]
  },
  {
   "cell_type": "markdown",
   "metadata": {},
   "source": [
    "Now, for each ticker, list the ETFs in which it is contained in the its top 40."
   ]
  },
  {
   "cell_type": "code",
   "execution_count": 11,
   "metadata": {},
   "outputs": [
    {
     "name": "stdout",
     "output_type": "stream",
     "text": [
      "For example:\n",
      "\n",
      "DUK is in ETFs ['QQQ', 'SPY', 'XLU']\n"
     ]
    }
   ],
   "source": [
    "# find ETFs for each ticker\n",
    "ticker_etfs = {}\n",
    "for ticker in holdings.Ticker.unique():\n",
    "    if type(ticker)!=str: print(ticker)\n",
    "    ticker_etfs[ticker] = ['QQQ', 'SPY'] + list(holdings.loc[holdings.Ticker==ticker].ETF.unique())\n",
    "    \n",
    "print('For example:\\n')\n",
    "print('DUK is in ETFs',ticker_etfs['DUK'])"
   ]
  },
  {
   "cell_type": "markdown",
   "metadata": {},
   "source": [
    "Now upload the adjusted closing prices of the ETFs from Quandl for each stock, so we can calculate returns."
   ]
  },
  {
   "cell_type": "code",
   "execution_count": 12,
   "metadata": {},
   "outputs": [
    {
     "data": {
      "text/html": [
       "<div>\n",
       "<style scoped>\n",
       "    .dataframe tbody tr th:only-of-type {\n",
       "        vertical-align: middle;\n",
       "    }\n",
       "\n",
       "    .dataframe tbody tr th {\n",
       "        vertical-align: top;\n",
       "    }\n",
       "\n",
       "    .dataframe thead th {\n",
       "        text-align: right;\n",
       "    }\n",
       "</style>\n",
       "<table border=\"1\" class=\"dataframe\">\n",
       "  <thead>\n",
       "    <tr style=\"text-align: right;\">\n",
       "      <th></th>\n",
       "      <th>QQQ</th>\n",
       "      <th>SPY</th>\n",
       "      <th>XLU</th>\n",
       "      <th>VOX</th>\n",
       "      <th>SMH</th>\n",
       "      <th>XBI</th>\n",
       "      <th>XLF</th>\n",
       "      <th>XOP</th>\n",
       "      <th>OIH</th>\n",
       "      <th>XRT</th>\n",
       "      <th>XLV</th>\n",
       "    </tr>\n",
       "    <tr>\n",
       "      <th>Date</th>\n",
       "      <th></th>\n",
       "      <th></th>\n",
       "      <th></th>\n",
       "      <th></th>\n",
       "      <th></th>\n",
       "      <th></th>\n",
       "      <th></th>\n",
       "      <th></th>\n",
       "      <th></th>\n",
       "      <th></th>\n",
       "      <th></th>\n",
       "    </tr>\n",
       "  </thead>\n",
       "  <tbody>\n",
       "    <tr>\n",
       "      <th>2019-01-02</th>\n",
       "      <td>154.599123</td>\n",
       "      <td>249.088142</td>\n",
       "      <td>51.628311</td>\n",
       "      <td>74.911264</td>\n",
       "      <td>87.92</td>\n",
       "      <td>72.86</td>\n",
       "      <td>23.899113</td>\n",
       "      <td>27.223245</td>\n",
       "      <td>14.37</td>\n",
       "      <td>41.443272</td>\n",
       "      <td>84.885428</td>\n",
       "    </tr>\n",
       "    <tr>\n",
       "      <th>2019-01-03</th>\n",
       "      <td>149.548299</td>\n",
       "      <td>243.144197</td>\n",
       "      <td>51.618384</td>\n",
       "      <td>73.902997</td>\n",
       "      <td>82.64</td>\n",
       "      <td>71.21</td>\n",
       "      <td>23.361831</td>\n",
       "      <td>27.033710</td>\n",
       "      <td>14.49</td>\n",
       "      <td>40.865040</td>\n",
       "      <td>83.161816</td>\n",
       "    </tr>\n",
       "    <tr>\n",
       "      <th>2019-01-04</th>\n",
       "      <td>155.946674</td>\n",
       "      <td>251.288497</td>\n",
       "      <td>52.382733</td>\n",
       "      <td>76.967730</td>\n",
       "      <td>86.49</td>\n",
       "      <td>75.02</td>\n",
       "      <td>24.137906</td>\n",
       "      <td>28.559967</td>\n",
       "      <td>15.19</td>\n",
       "      <td>42.121199</td>\n",
       "      <td>85.642622</td>\n",
       "    </tr>\n",
       "    <tr>\n",
       "      <th>2019-01-07</th>\n",
       "      <td>157.803301</td>\n",
       "      <td>253.269812</td>\n",
       "      <td>52.025375</td>\n",
       "      <td>77.686495</td>\n",
       "      <td>88.16</td>\n",
       "      <td>79.50</td>\n",
       "      <td>24.167755</td>\n",
       "      <td>29.537570</td>\n",
       "      <td>15.78</td>\n",
       "      <td>43.427205</td>\n",
       "      <td>85.971404</td>\n",
       "    </tr>\n",
       "    <tr>\n",
       "      <th>2019-01-08</th>\n",
       "      <td>159.230708</td>\n",
       "      <td>255.649381</td>\n",
       "      <td>52.670605</td>\n",
       "      <td>79.004230</td>\n",
       "      <td>87.65</td>\n",
       "      <td>80.48</td>\n",
       "      <td>24.187654</td>\n",
       "      <td>29.806909</td>\n",
       "      <td>15.94</td>\n",
       "      <td>43.806047</td>\n",
       "      <td>86.638930</td>\n",
       "    </tr>\n",
       "  </tbody>\n",
       "</table>\n",
       "</div>"
      ],
      "text/plain": [
       "                   QQQ         SPY        XLU        VOX    SMH    XBI  \\\n",
       "Date                                                                     \n",
       "2019-01-02  154.599123  249.088142  51.628311  74.911264  87.92  72.86   \n",
       "2019-01-03  149.548299  243.144197  51.618384  73.902997  82.64  71.21   \n",
       "2019-01-04  155.946674  251.288497  52.382733  76.967730  86.49  75.02   \n",
       "2019-01-07  157.803301  253.269812  52.025375  77.686495  88.16  79.50   \n",
       "2019-01-08  159.230708  255.649381  52.670605  79.004230  87.65  80.48   \n",
       "\n",
       "                  XLF        XOP    OIH        XRT        XLV  \n",
       "Date                                                           \n",
       "2019-01-02  23.899113  27.223245  14.37  41.443272  84.885428  \n",
       "2019-01-03  23.361831  27.033710  14.49  40.865040  83.161816  \n",
       "2019-01-04  24.137906  28.559967  15.19  42.121199  85.642622  \n",
       "2019-01-07  24.167755  29.537570  15.78  43.427205  85.971404  \n",
       "2019-01-08  24.187654  29.806909  15.94  43.806047  86.638930  "
      ]
     },
     "execution_count": 12,
     "metadata": {},
     "output_type": "execute_result"
    }
   ],
   "source": [
    "# upload ETF returns\n",
    "etfs = holdings.ETF.unique().tolist()\n",
    "etfs = ['QQQ', 'SPY'] + etfs\n",
    "query = tuple(['EOD/'+e+'.11' for e in etfs])\n",
    "\n",
    "# query Quandl\n",
    "etf_adj_close = fetch_quandl(query, start_date=\"2019-01-01\", end_date=\"2019-03-31\")\n",
    "\n",
    "# rename cols\n",
    "etf_adj_close.columns = etfs\n",
    "\n",
    "etf_adj_close.head()"
   ]
  },
  {
   "cell_type": "markdown",
   "metadata": {},
   "source": [
    "Upload the adjusted closing prices of the stocks from Quandl. I did this once then saved in a csv file."
   ]
  },
  {
   "cell_type": "code",
   "execution_count": 13,
   "metadata": {},
   "outputs": [
    {
     "name": "stdout",
     "output_type": "stream",
     "text": [
      "0.11939501762390137 seconds\n"
     ]
    },
    {
     "data": {
      "text/html": [
       "<div>\n",
       "<style scoped>\n",
       "    .dataframe tbody tr th:only-of-type {\n",
       "        vertical-align: middle;\n",
       "    }\n",
       "\n",
       "    .dataframe tbody tr th {\n",
       "        vertical-align: top;\n",
       "    }\n",
       "\n",
       "    .dataframe thead th {\n",
       "        text-align: right;\n",
       "    }\n",
       "</style>\n",
       "<table border=\"1\" class=\"dataframe\">\n",
       "  <thead>\n",
       "    <tr style=\"text-align: right;\">\n",
       "      <th></th>\n",
       "      <th>NEE</th>\n",
       "      <th>DUK</th>\n",
       "      <th>D</th>\n",
       "      <th>SO</th>\n",
       "      <th>EXC</th>\n",
       "      <th>AEP</th>\n",
       "      <th>SRE</th>\n",
       "      <th>PEG</th>\n",
       "      <th>XEL</th>\n",
       "      <th>ED</th>\n",
       "      <th>...</th>\n",
       "      <th>HUM</th>\n",
       "      <th>HCA</th>\n",
       "      <th>ZBH</th>\n",
       "      <th>MCK</th>\n",
       "      <th>ALGN</th>\n",
       "      <th>CNC</th>\n",
       "      <th>CERN</th>\n",
       "      <th>A</th>\n",
       "      <th>IDXX</th>\n",
       "      <th>IQV</th>\n",
       "    </tr>\n",
       "    <tr>\n",
       "      <th>Date</th>\n",
       "      <th></th>\n",
       "      <th></th>\n",
       "      <th></th>\n",
       "      <th></th>\n",
       "      <th></th>\n",
       "      <th></th>\n",
       "      <th></th>\n",
       "      <th></th>\n",
       "      <th></th>\n",
       "      <th></th>\n",
       "      <th></th>\n",
       "      <th></th>\n",
       "      <th></th>\n",
       "      <th></th>\n",
       "      <th></th>\n",
       "      <th></th>\n",
       "      <th></th>\n",
       "      <th></th>\n",
       "      <th></th>\n",
       "      <th></th>\n",
       "      <th></th>\n",
       "    </tr>\n",
       "  </thead>\n",
       "  <tbody>\n",
       "    <tr>\n",
       "      <th>2019-01-02</th>\n",
       "      <td>168.701171</td>\n",
       "      <td>82.922975</td>\n",
       "      <td>70.309318</td>\n",
       "      <td>42.694559</td>\n",
       "      <td>43.419285</td>\n",
       "      <td>71.749948</td>\n",
       "      <td>105.945649</td>\n",
       "      <td>50.428283</td>\n",
       "      <td>47.874749</td>\n",
       "      <td>73.795695</td>\n",
       "      <td>...</td>\n",
       "      <td>281.001482</td>\n",
       "      <td>121.410717</td>\n",
       "      <td>102.087019</td>\n",
       "      <td>112.724274</td>\n",
       "      <td>202.12</td>\n",
       "      <td>56.500</td>\n",
       "      <td>51.87</td>\n",
       "      <td>65.558176</td>\n",
       "      <td>182.46</td>\n",
       "      <td>114.31</td>\n",
       "    </tr>\n",
       "    <tr>\n",
       "      <th>2019-01-03</th>\n",
       "      <td>168.283963</td>\n",
       "      <td>82.893604</td>\n",
       "      <td>69.973477</td>\n",
       "      <td>43.300017</td>\n",
       "      <td>43.468547</td>\n",
       "      <td>71.582721</td>\n",
       "      <td>106.431911</td>\n",
       "      <td>50.418362</td>\n",
       "      <td>47.686110</td>\n",
       "      <td>73.982295</td>\n",
       "      <td>...</td>\n",
       "      <td>269.136332</td>\n",
       "      <td>119.097372</td>\n",
       "      <td>100.240509</td>\n",
       "      <td>112.594672</td>\n",
       "      <td>184.78</td>\n",
       "      <td>54.960</td>\n",
       "      <td>50.70</td>\n",
       "      <td>63.143033</td>\n",
       "      <td>178.02</td>\n",
       "      <td>109.96</td>\n",
       "    </tr>\n",
       "    <tr>\n",
       "      <th>2019-01-04</th>\n",
       "      <td>171.383225</td>\n",
       "      <td>83.578918</td>\n",
       "      <td>71.326719</td>\n",
       "      <td>43.661339</td>\n",
       "      <td>43.961164</td>\n",
       "      <td>72.241790</td>\n",
       "      <td>109.617425</td>\n",
       "      <td>50.964015</td>\n",
       "      <td>48.152745</td>\n",
       "      <td>75.180469</td>\n",
       "      <td>...</td>\n",
       "      <td>276.041869</td>\n",
       "      <td>123.036041</td>\n",
       "      <td>103.664038</td>\n",
       "      <td>113.980422</td>\n",
       "      <td>186.71</td>\n",
       "      <td>56.765</td>\n",
       "      <td>52.23</td>\n",
       "      <td>65.328638</td>\n",
       "      <td>187.43</td>\n",
       "      <td>115.07</td>\n",
       "    </tr>\n",
       "    <tr>\n",
       "      <th>2019-01-07</th>\n",
       "      <td>171.134887</td>\n",
       "      <td>83.226471</td>\n",
       "      <td>70.635282</td>\n",
       "      <td>43.563684</td>\n",
       "      <td>44.039983</td>\n",
       "      <td>71.838479</td>\n",
       "      <td>109.597578</td>\n",
       "      <td>51.073146</td>\n",
       "      <td>47.944248</td>\n",
       "      <td>74.090328</td>\n",
       "      <td>...</td>\n",
       "      <td>276.001952</td>\n",
       "      <td>124.083029</td>\n",
       "      <td>103.703962</td>\n",
       "      <td>115.007272</td>\n",
       "      <td>189.92</td>\n",
       "      <td>57.250</td>\n",
       "      <td>51.93</td>\n",
       "      <td>66.715848</td>\n",
       "      <td>186.89</td>\n",
       "      <td>117.20</td>\n",
       "    </tr>\n",
       "    <tr>\n",
       "      <th>2019-01-08</th>\n",
       "      <td>172.386512</td>\n",
       "      <td>84.274022</td>\n",
       "      <td>71.455129</td>\n",
       "      <td>44.803897</td>\n",
       "      <td>44.719794</td>\n",
       "      <td>72.723795</td>\n",
       "      <td>112.664008</td>\n",
       "      <td>51.271565</td>\n",
       "      <td>48.500239</td>\n",
       "      <td>74.542098</td>\n",
       "      <td>...</td>\n",
       "      <td>274.355401</td>\n",
       "      <td>125.828009</td>\n",
       "      <td>101.378358</td>\n",
       "      <td>117.350087</td>\n",
       "      <td>192.95</td>\n",
       "      <td>58.040</td>\n",
       "      <td>53.13</td>\n",
       "      <td>67.693882</td>\n",
       "      <td>189.29</td>\n",
       "      <td>119.63</td>\n",
       "    </tr>\n",
       "  </tbody>\n",
       "</table>\n",
       "<p>5 rows × 309 columns</p>\n",
       "</div>"
      ],
      "text/plain": [
       "                   NEE        DUK          D         SO        EXC        AEP  \\\n",
       "Date                                                                            \n",
       "2019-01-02  168.701171  82.922975  70.309318  42.694559  43.419285  71.749948   \n",
       "2019-01-03  168.283963  82.893604  69.973477  43.300017  43.468547  71.582721   \n",
       "2019-01-04  171.383225  83.578918  71.326719  43.661339  43.961164  72.241790   \n",
       "2019-01-07  171.134887  83.226471  70.635282  43.563684  44.039983  71.838479   \n",
       "2019-01-08  172.386512  84.274022  71.455129  44.803897  44.719794  72.723795   \n",
       "\n",
       "                   SRE        PEG        XEL         ED  ...         HUM  \\\n",
       "Date                                                     ...               \n",
       "2019-01-02  105.945649  50.428283  47.874749  73.795695  ...  281.001482   \n",
       "2019-01-03  106.431911  50.418362  47.686110  73.982295  ...  269.136332   \n",
       "2019-01-04  109.617425  50.964015  48.152745  75.180469  ...  276.041869   \n",
       "2019-01-07  109.597578  51.073146  47.944248  74.090328  ...  276.001952   \n",
       "2019-01-08  112.664008  51.271565  48.500239  74.542098  ...  274.355401   \n",
       "\n",
       "                   HCA         ZBH         MCK    ALGN     CNC   CERN  \\\n",
       "Date                                                                    \n",
       "2019-01-02  121.410717  102.087019  112.724274  202.12  56.500  51.87   \n",
       "2019-01-03  119.097372  100.240509  112.594672  184.78  54.960  50.70   \n",
       "2019-01-04  123.036041  103.664038  113.980422  186.71  56.765  52.23   \n",
       "2019-01-07  124.083029  103.703962  115.007272  189.92  57.250  51.93   \n",
       "2019-01-08  125.828009  101.378358  117.350087  192.95  58.040  53.13   \n",
       "\n",
       "                    A    IDXX     IQV  \n",
       "Date                                   \n",
       "2019-01-02  65.558176  182.46  114.31  \n",
       "2019-01-03  63.143033  178.02  109.96  \n",
       "2019-01-04  65.328638  187.43  115.07  \n",
       "2019-01-07  66.715848  186.89  117.20  \n",
       "2019-01-08  67.693882  189.29  119.63  \n",
       "\n",
       "[5 rows x 309 columns]"
      ]
     },
     "execution_count": 13,
     "metadata": {},
     "output_type": "execute_result"
    }
   ],
   "source": [
    "# tickers returns\n",
    "ticker_list = list(ticker_etfs.keys())\n",
    "query1 = tuple(['EOD/'+t+'.11' for t in ticker_list])\n",
    "\n",
    "# get ticker prices from Quandl (~80 secs)\n",
    "t0 = time.time()\n",
    "#df_temp = fetch_quandl(query1, start_date=\"2019-01-01\", end_date=\"2019-03-31\")\n",
    "#df_temp.columns = ticker_list\n",
    "#df_temp.to_csv('ticker_returns_all.csv', index_label=\"Date\")\n",
    "\n",
    "df_temp1 = pd.read_csv('ticker_returns_all.csv').set_index('Date')\n",
    "df_temp1.index = pd.to_datetime(df_temp1.index)\n",
    "print(time.time()-t0, 'seconds')\n",
    "\n",
    "df_temp1.head()"
   ]
  },
  {
   "cell_type": "markdown",
   "metadata": {},
   "source": [
    "Create a dictionary with the ticker symbols as keys, and a dataframe with the stock's returns and the returns of its corresponding ETFs as a dataframe as the value."
   ]
  },
  {
   "cell_type": "code",
   "execution_count": 14,
   "metadata": {},
   "outputs": [
    {
     "name": "stdout",
     "output_type": "stream",
     "text": [
      "0\n",
      "50\n",
      "100\n",
      "150\n",
      "200\n",
      "250\n",
      "300\n"
     ]
    }
   ],
   "source": [
    "# datasets for each ticker\n",
    "ticker_returns_temp = {}\n",
    "for i, ticker in enumerate(ticker_etfs.keys()):\n",
    "    if i%50==0: print(i)\n",
    "    df_temp2 = df_temp1.loc[:, [ticker]].copy().merge(etf_adj_close[ticker_etfs[ticker]], left_index=True, right_index=True, how='left').pct_change()\n",
    "    ticker_returns_temp[ticker] = df_temp2"
   ]
  },
  {
   "cell_type": "code",
   "execution_count": 17,
   "metadata": {},
   "outputs": [
    {
     "name": "stdout",
     "output_type": "stream",
     "text": [
      "309\n"
     ]
    }
   ],
   "source": [
    "import pickle\n",
    "\n",
    "#a = {'hello': 'world'}\n",
    "\n",
    "with open('returns_by_ticker.pickle', 'wb') as handle:\n",
    "    pickle.dump(ticker_returns_temp, handle, protocol=pickle.HIGHEST_PROTOCOL)\n",
    "\n",
    "#with open('returns_by_ticker.pickle', 'rb') as handle:\n",
    "#    b = pickle.load(handle)\n",
    "\n",
    "#print(len(returns_by_ticker))"
   ]
  },
  {
   "cell_type": "code",
   "execution_count": 8,
   "metadata": {},
   "outputs": [
    {
     "ename": "TypeError",
     "evalue": "cannot properly create the storer for: [_TYPE_MAP] [group->/A (Group) '',value-><class 'tables.group.Group'>,format->fixed,append->False,kwargs->{'encoding': None}]",
     "output_type": "error",
     "traceback": [
      "\u001b[0;31m---------------------------------------------------------------------------\u001b[0m",
      "\u001b[0;31mKeyError\u001b[0m                                  Traceback (most recent call last)",
      "\u001b[0;32m~/anaconda3/lib/python3.6/site-packages/pandas/io/pytables.py\u001b[0m in \u001b[0;36m_create_storer\u001b[0;34m(self, group, format, value, append, **kwargs)\u001b[0m\n\u001b[1;32m   1308\u001b[0m                 \u001b[0;32mtry\u001b[0m\u001b[0;34m:\u001b[0m\u001b[0;34m\u001b[0m\u001b[0;34m\u001b[0m\u001b[0m\n\u001b[0;32m-> 1309\u001b[0;31m                     \u001b[0mpt\u001b[0m \u001b[0;34m=\u001b[0m \u001b[0m_TYPE_MAP\u001b[0m\u001b[0;34m[\u001b[0m\u001b[0mtype\u001b[0m\u001b[0;34m(\u001b[0m\u001b[0mvalue\u001b[0m\u001b[0;34m)\u001b[0m\u001b[0;34m]\u001b[0m\u001b[0;34m\u001b[0m\u001b[0;34m\u001b[0m\u001b[0m\n\u001b[0m\u001b[1;32m   1310\u001b[0m                 \u001b[0;32mexcept\u001b[0m \u001b[0mKeyError\u001b[0m\u001b[0;34m:\u001b[0m\u001b[0;34m\u001b[0m\u001b[0;34m\u001b[0m\u001b[0m\n",
      "\u001b[0;31mKeyError\u001b[0m: <class 'tables.group.Group'>",
      "\nDuring handling of the above exception, another exception occurred:\n",
      "\u001b[0;31mTypeError\u001b[0m                                 Traceback (most recent call last)",
      "\u001b[0;32m<ipython-input-8-12434060c371>\u001b[0m in \u001b[0;36m<module>\u001b[0;34m\u001b[0m\n\u001b[1;32m      4\u001b[0m \u001b[0;31m# fill h5 file\u001b[0m\u001b[0;34m\u001b[0m\u001b[0;34m\u001b[0m\u001b[0;34m\u001b[0m\u001b[0m\n\u001b[1;32m      5\u001b[0m \u001b[0;32mfor\u001b[0m \u001b[0mkey\u001b[0m\u001b[0;34m,\u001b[0m \u001b[0mvalue\u001b[0m \u001b[0;32min\u001b[0m \u001b[0mticker_returns_temp\u001b[0m\u001b[0;34m.\u001b[0m\u001b[0mitems\u001b[0m\u001b[0;34m(\u001b[0m\u001b[0;34m)\u001b[0m\u001b[0;34m:\u001b[0m\u001b[0;34m\u001b[0m\u001b[0;34m\u001b[0m\u001b[0m\n\u001b[0;32m----> 6\u001b[0;31m     \u001b[0mticker_returns\u001b[0m\u001b[0;34m[\u001b[0m\u001b[0mkey\u001b[0m\u001b[0;34m]\u001b[0m\u001b[0;34m=\u001b[0m\u001b[0mvalue\u001b[0m\u001b[0;34m\u001b[0m\u001b[0;34m\u001b[0m\u001b[0m\n\u001b[0m\u001b[1;32m      7\u001b[0m \u001b[0mticker_returns\u001b[0m\u001b[0;34m.\u001b[0m\u001b[0mclose\u001b[0m\u001b[0;34m(\u001b[0m\u001b[0;34m)\u001b[0m\u001b[0;34m\u001b[0m\u001b[0;34m\u001b[0m\u001b[0m\n",
      "\u001b[0;32m~/anaconda3/lib/python3.6/site-packages/pandas/io/pytables.py\u001b[0m in \u001b[0;36m__setitem__\u001b[0;34m(self, key, value)\u001b[0m\n\u001b[1;32m    505\u001b[0m \u001b[0;34m\u001b[0m\u001b[0m\n\u001b[1;32m    506\u001b[0m     \u001b[0;32mdef\u001b[0m \u001b[0m__setitem__\u001b[0m\u001b[0;34m(\u001b[0m\u001b[0mself\u001b[0m\u001b[0;34m,\u001b[0m \u001b[0mkey\u001b[0m\u001b[0;34m,\u001b[0m \u001b[0mvalue\u001b[0m\u001b[0;34m)\u001b[0m\u001b[0;34m:\u001b[0m\u001b[0;34m\u001b[0m\u001b[0;34m\u001b[0m\u001b[0m\n\u001b[0;32m--> 507\u001b[0;31m         \u001b[0mself\u001b[0m\u001b[0;34m.\u001b[0m\u001b[0mput\u001b[0m\u001b[0;34m(\u001b[0m\u001b[0mkey\u001b[0m\u001b[0;34m,\u001b[0m \u001b[0mvalue\u001b[0m\u001b[0;34m)\u001b[0m\u001b[0;34m\u001b[0m\u001b[0;34m\u001b[0m\u001b[0m\n\u001b[0m\u001b[1;32m    508\u001b[0m \u001b[0;34m\u001b[0m\u001b[0m\n\u001b[1;32m    509\u001b[0m     \u001b[0;32mdef\u001b[0m \u001b[0m__delitem__\u001b[0m\u001b[0;34m(\u001b[0m\u001b[0mself\u001b[0m\u001b[0;34m,\u001b[0m \u001b[0mkey\u001b[0m\u001b[0;34m)\u001b[0m\u001b[0;34m:\u001b[0m\u001b[0;34m\u001b[0m\u001b[0;34m\u001b[0m\u001b[0m\n",
      "\u001b[0;32m~/anaconda3/lib/python3.6/site-packages/pandas/io/pytables.py\u001b[0m in \u001b[0;36mput\u001b[0;34m(self, key, value, format, append, **kwargs)\u001b[0m\n\u001b[1;32m    887\u001b[0m             \u001b[0mformat\u001b[0m \u001b[0;34m=\u001b[0m \u001b[0mget_option\u001b[0m\u001b[0;34m(\u001b[0m\u001b[0;34m\"io.hdf.default_format\"\u001b[0m\u001b[0;34m)\u001b[0m \u001b[0;32mor\u001b[0m \u001b[0;34m'fixed'\u001b[0m\u001b[0;34m\u001b[0m\u001b[0;34m\u001b[0m\u001b[0m\n\u001b[1;32m    888\u001b[0m         \u001b[0mkwargs\u001b[0m \u001b[0;34m=\u001b[0m \u001b[0mself\u001b[0m\u001b[0;34m.\u001b[0m\u001b[0m_validate_format\u001b[0m\u001b[0;34m(\u001b[0m\u001b[0mformat\u001b[0m\u001b[0;34m,\u001b[0m \u001b[0mkwargs\u001b[0m\u001b[0;34m)\u001b[0m\u001b[0;34m\u001b[0m\u001b[0;34m\u001b[0m\u001b[0m\n\u001b[0;32m--> 889\u001b[0;31m         \u001b[0mself\u001b[0m\u001b[0;34m.\u001b[0m\u001b[0m_write_to_group\u001b[0m\u001b[0;34m(\u001b[0m\u001b[0mkey\u001b[0m\u001b[0;34m,\u001b[0m \u001b[0mvalue\u001b[0m\u001b[0;34m,\u001b[0m \u001b[0mappend\u001b[0m\u001b[0;34m=\u001b[0m\u001b[0mappend\u001b[0m\u001b[0;34m,\u001b[0m \u001b[0;34m**\u001b[0m\u001b[0mkwargs\u001b[0m\u001b[0;34m)\u001b[0m\u001b[0;34m\u001b[0m\u001b[0;34m\u001b[0m\u001b[0m\n\u001b[0m\u001b[1;32m    890\u001b[0m \u001b[0;34m\u001b[0m\u001b[0m\n\u001b[1;32m    891\u001b[0m     \u001b[0;32mdef\u001b[0m \u001b[0mremove\u001b[0m\u001b[0;34m(\u001b[0m\u001b[0mself\u001b[0m\u001b[0;34m,\u001b[0m \u001b[0mkey\u001b[0m\u001b[0;34m,\u001b[0m \u001b[0mwhere\u001b[0m\u001b[0;34m=\u001b[0m\u001b[0;32mNone\u001b[0m\u001b[0;34m,\u001b[0m \u001b[0mstart\u001b[0m\u001b[0;34m=\u001b[0m\u001b[0;32mNone\u001b[0m\u001b[0;34m,\u001b[0m \u001b[0mstop\u001b[0m\u001b[0;34m=\u001b[0m\u001b[0;32mNone\u001b[0m\u001b[0;34m)\u001b[0m\u001b[0;34m:\u001b[0m\u001b[0;34m\u001b[0m\u001b[0;34m\u001b[0m\u001b[0m\n",
      "\u001b[0;32m~/anaconda3/lib/python3.6/site-packages/pandas/io/pytables.py\u001b[0m in \u001b[0;36m_write_to_group\u001b[0;34m(self, key, value, format, index, append, complib, encoding, **kwargs)\u001b[0m\n\u001b[1;32m   1395\u001b[0m \u001b[0;34m\u001b[0m\u001b[0m\n\u001b[1;32m   1396\u001b[0m         s = self._create_storer(group, format, value, append=append,\n\u001b[0;32m-> 1397\u001b[0;31m                                 encoding=encoding, **kwargs)\n\u001b[0m\u001b[1;32m   1398\u001b[0m         \u001b[0;32mif\u001b[0m \u001b[0mappend\u001b[0m\u001b[0;34m:\u001b[0m\u001b[0;34m\u001b[0m\u001b[0;34m\u001b[0m\u001b[0m\n\u001b[1;32m   1399\u001b[0m             \u001b[0;31m# raise if we are trying to append to a Fixed format,\u001b[0m\u001b[0;34m\u001b[0m\u001b[0;34m\u001b[0m\u001b[0;34m\u001b[0m\u001b[0m\n",
      "\u001b[0;32m~/anaconda3/lib/python3.6/site-packages/pandas/io/pytables.py\u001b[0m in \u001b[0;36m_create_storer\u001b[0;34m(self, group, format, value, append, **kwargs)\u001b[0m\n\u001b[1;32m   1309\u001b[0m                     \u001b[0mpt\u001b[0m \u001b[0;34m=\u001b[0m \u001b[0m_TYPE_MAP\u001b[0m\u001b[0;34m[\u001b[0m\u001b[0mtype\u001b[0m\u001b[0;34m(\u001b[0m\u001b[0mvalue\u001b[0m\u001b[0;34m)\u001b[0m\u001b[0;34m]\u001b[0m\u001b[0;34m\u001b[0m\u001b[0;34m\u001b[0m\u001b[0m\n\u001b[1;32m   1310\u001b[0m                 \u001b[0;32mexcept\u001b[0m \u001b[0mKeyError\u001b[0m\u001b[0;34m:\u001b[0m\u001b[0;34m\u001b[0m\u001b[0;34m\u001b[0m\u001b[0m\n\u001b[0;32m-> 1311\u001b[0;31m                     \u001b[0merror\u001b[0m\u001b[0;34m(\u001b[0m\u001b[0;34m'_TYPE_MAP'\u001b[0m\u001b[0;34m)\u001b[0m\u001b[0;34m\u001b[0m\u001b[0;34m\u001b[0m\u001b[0m\n\u001b[0m\u001b[1;32m   1312\u001b[0m \u001b[0;34m\u001b[0m\u001b[0m\n\u001b[1;32m   1313\u001b[0m                 \u001b[0;31m# we are actually a table\u001b[0m\u001b[0;34m\u001b[0m\u001b[0;34m\u001b[0m\u001b[0;34m\u001b[0m\u001b[0m\n",
      "\u001b[0;32m~/anaconda3/lib/python3.6/site-packages/pandas/io/pytables.py\u001b[0m in \u001b[0;36merror\u001b[0;34m(t)\u001b[0m\n\u001b[1;32m   1286\u001b[0m                 \"kwargs->{kwargs}]\".format(t=t, group=group,\n\u001b[1;32m   1287\u001b[0m                                            \u001b[0mvalue\u001b[0m\u001b[0;34m=\u001b[0m\u001b[0mtype\u001b[0m\u001b[0;34m(\u001b[0m\u001b[0mvalue\u001b[0m\u001b[0;34m)\u001b[0m\u001b[0;34m,\u001b[0m \u001b[0mformat\u001b[0m\u001b[0;34m=\u001b[0m\u001b[0mformat\u001b[0m\u001b[0;34m,\u001b[0m\u001b[0;34m\u001b[0m\u001b[0;34m\u001b[0m\u001b[0m\n\u001b[0;32m-> 1288\u001b[0;31m                                            append=append, kwargs=kwargs))\n\u001b[0m\u001b[1;32m   1289\u001b[0m \u001b[0;34m\u001b[0m\u001b[0m\n\u001b[1;32m   1290\u001b[0m         \u001b[0mpt\u001b[0m \u001b[0;34m=\u001b[0m \u001b[0m_ensure_decoded\u001b[0m\u001b[0;34m(\u001b[0m\u001b[0mgetattr\u001b[0m\u001b[0;34m(\u001b[0m\u001b[0mgroup\u001b[0m\u001b[0;34m.\u001b[0m\u001b[0m_v_attrs\u001b[0m\u001b[0;34m,\u001b[0m \u001b[0;34m'pandas_type'\u001b[0m\u001b[0;34m,\u001b[0m \u001b[0;32mNone\u001b[0m\u001b[0;34m)\u001b[0m\u001b[0;34m)\u001b[0m\u001b[0;34m\u001b[0m\u001b[0;34m\u001b[0m\u001b[0m\n",
      "\u001b[0;31mTypeError\u001b[0m: cannot properly create the storer for: [_TYPE_MAP] [group->/A (Group) '',value-><class 'tables.group.Group'>,format->fixed,append->False,kwargs->{'encoding': None}]"
     ]
    }
   ],
   "source": [
    "# create store\n",
    "ticker_returns = pd.HDFStore('ticker_returns.h5')\n",
    "\n",
    "# fill h5 file\n",
    "for key, value in ticker_returns_temp.items():\n",
    "    ticker_returns[key]=value\n",
    "ticker_returns.close()"
   ]
  },
  {
   "cell_type": "code",
   "execution_count": 19,
   "metadata": {},
   "outputs": [],
   "source": [
    "ticker_returns = pd.HDFStore('ticker_returns.h5')\n",
    "#reread = pd.read_hdf('./ticker_returns.h5')"
   ]
  },
  {
   "cell_type": "code",
   "execution_count": 20,
   "metadata": {},
   "outputs": [
    {
     "name": "stdout",
     "output_type": "stream",
     "text": [
      "309 tickers:\n"
     ]
    },
    {
     "data": {
      "text/html": [
       "<div>\n",
       "<style scoped>\n",
       "    .dataframe tbody tr th:only-of-type {\n",
       "        vertical-align: middle;\n",
       "    }\n",
       "\n",
       "    .dataframe tbody tr th {\n",
       "        vertical-align: top;\n",
       "    }\n",
       "\n",
       "    .dataframe thead th {\n",
       "        text-align: right;\n",
       "    }\n",
       "</style>\n",
       "<table border=\"1\" class=\"dataframe\">\n",
       "  <thead>\n",
       "    <tr style=\"text-align: right;\">\n",
       "      <th></th>\n",
       "      <th>NEE</th>\n",
       "      <th>QQQ</th>\n",
       "      <th>SPY</th>\n",
       "      <th>XLU</th>\n",
       "    </tr>\n",
       "    <tr>\n",
       "      <th>Date</th>\n",
       "      <th></th>\n",
       "      <th></th>\n",
       "      <th></th>\n",
       "      <th></th>\n",
       "    </tr>\n",
       "  </thead>\n",
       "  <tbody>\n",
       "    <tr>\n",
       "      <th>2019-01-02</th>\n",
       "      <td>NaN</td>\n",
       "      <td>NaN</td>\n",
       "      <td>NaN</td>\n",
       "      <td>NaN</td>\n",
       "    </tr>\n",
       "    <tr>\n",
       "      <th>2019-01-03</th>\n",
       "      <td>-0.002473</td>\n",
       "      <td>-0.032670</td>\n",
       "      <td>-0.023863</td>\n",
       "      <td>-0.000192</td>\n",
       "    </tr>\n",
       "    <tr>\n",
       "      <th>2019-01-04</th>\n",
       "      <td>0.018417</td>\n",
       "      <td>0.042785</td>\n",
       "      <td>0.033496</td>\n",
       "      <td>0.014808</td>\n",
       "    </tr>\n",
       "    <tr>\n",
       "      <th>2019-01-07</th>\n",
       "      <td>-0.001449</td>\n",
       "      <td>0.011906</td>\n",
       "      <td>0.007885</td>\n",
       "      <td>-0.006822</td>\n",
       "    </tr>\n",
       "    <tr>\n",
       "      <th>2019-01-08</th>\n",
       "      <td>0.007314</td>\n",
       "      <td>0.009045</td>\n",
       "      <td>0.009395</td>\n",
       "      <td>0.012402</td>\n",
       "    </tr>\n",
       "  </tbody>\n",
       "</table>\n",
       "</div>"
      ],
      "text/plain": [
       "                 NEE       QQQ       SPY       XLU\n",
       "Date                                              \n",
       "2019-01-02       NaN       NaN       NaN       NaN\n",
       "2019-01-03 -0.002473 -0.032670 -0.023863 -0.000192\n",
       "2019-01-04  0.018417  0.042785  0.033496  0.014808\n",
       "2019-01-07 -0.001449  0.011906  0.007885 -0.006822\n",
       "2019-01-08  0.007314  0.009045  0.009395  0.012402"
      ]
     },
     "execution_count": 20,
     "metadata": {},
     "output_type": "execute_result"
    }
   ],
   "source": [
    "print(len(ticker_returns), 'tickers:')\n",
    "ticker_returns['NEE'].head()"
   ]
  },
  {
   "cell_type": "markdown",
   "metadata": {},
   "source": [
    "# Run Regressions\n",
    "* OLS, Tukey, Huber\n",
    "* Using parameters 0.003 and 0.003 for default. This was chosen based on roughly 25th and 75th quantiles of returns for one of the tickers. It's just a starting point."
   ]
  },
  {
   "cell_type": "markdown",
   "metadata": {},
   "source": [
    "Now create a function which runs regressions for each tickers. The ticker's returns are regression on the returns of QQQ, SPY, and its other corresponding ETFs. THe regression is trained on the first 45 days of the returns, and then applied on the last 16 days. Three regression types are used: OLS, Huber, and Tukey.\n",
    "\n",
    "https://www.statsmodels.org/stable/generated/statsmodels.robust.norms.TukeyBiweight.html#statsmodels.robust.norms.TukeyBiweight"
   ]
  },
  {
   "cell_type": "code",
   "execution_count": 6,
   "metadata": {},
   "outputs": [
    {
     "ename": "NameError",
     "evalue": "name 'ticker_returns_temp' is not defined",
     "output_type": "error",
     "traceback": [
      "\u001b[0;31m---------------------------------------------------------------------------\u001b[0m",
      "\u001b[0;31mNameError\u001b[0m                                 Traceback (most recent call last)",
      "\u001b[0;32m<ipython-input-6-ace279d56844>\u001b[0m in \u001b[0;36m<module>\u001b[0;34m\u001b[0m\n\u001b[1;32m      1\u001b[0m \u001b[0;31m# make copy to be save\u001b[0m\u001b[0;34m\u001b[0m\u001b[0;34m\u001b[0m\u001b[0;34m\u001b[0m\u001b[0m\n\u001b[0;32m----> 2\u001b[0;31m \u001b[0mticker_returns_copy\u001b[0m \u001b[0;34m=\u001b[0m \u001b[0mcopy\u001b[0m\u001b[0;34m.\u001b[0m\u001b[0mdeepcopy\u001b[0m\u001b[0;34m(\u001b[0m\u001b[0mticker_returns_temp\u001b[0m\u001b[0;34m)\u001b[0m\u001b[0;34m\u001b[0m\u001b[0;34m\u001b[0m\u001b[0m\n\u001b[0m",
      "\u001b[0;31mNameError\u001b[0m: name 'ticker_returns_temp' is not defined"
     ]
    }
   ],
   "source": [
    "# make copy to be save\n",
    "ticker_returns_copy = copy.deepcopy(ticker_returns_temp)"
   ]
  },
  {
   "cell_type": "code",
   "execution_count": 490,
   "metadata": {},
   "outputs": [],
   "source": [
    "def run_regression(ticker_returns, huber_param=0.003, tukey_param=0.003):\n",
    "    t0 = time.time()\n",
    "    print('Running 3 regressions for {} tickers:'.format(len(ticker_returns)))\n",
    "    ticker_returns_copy = copy.deepcopy(ticker_returns)\n",
    "    for key, value in ticker_returns_copy.items():\n",
    "        data = value.copy() #dropna()\n",
    "        cutoff = 45\n",
    "\n",
    "        for reg_type in ['OLS', 'Huber', 'Tukey']:\n",
    "            for i in ['noint', 'int']:\n",
    "                if i=='noint':\n",
    "                    X = data.iloc[:, 1:]\n",
    "                elif i=='int':\n",
    "                    X = sm.tools.tools.add_constant(data.iloc[:, 1:])\n",
    "\n",
    "                Y = data.iloc[:,0]\n",
    "\n",
    "                # split into train/test\n",
    "                X_train = X.iloc[:cutoff] #.values\n",
    "                Y_train = Y.iloc[:cutoff] #.values.reshape(-1,1)\n",
    "                X_test = X.iloc[cutoff:] #.values\n",
    "                Y_test = Y.iloc[cutoff:] #.values.reshape(-1,1)\n",
    "                \n",
    "                # train model\n",
    "                if reg_type == 'OLS':\n",
    "                    model = sm.OLS(Y_train,X_train, missing='drop')\n",
    "                    results = model.fit()\n",
    "                elif reg_type == 'Huber':\n",
    "                    model = sm.RLM(Y_train,X_train, missing='drop', M=sm.robust.norms.HuberT(t=huber_param))  # default is 1.345\n",
    "                    results = model.fit()\n",
    "                elif reg_type == 'Tukey':\n",
    "                    model = sm.RLM(Y_train,X_train, missing='drop', M=sm.robust.norms.TukeyBiweight(c=tukey_param))  # default is 4.684\n",
    "                    results = model.fit()\n",
    "                    #return Y_train, X_train\n",
    "                else: print('Reg type problem!')\n",
    "\n",
    "                # predictions\n",
    "                Y_train_pred = model.predict(results.params, X_train)  # in-sample\n",
    "                Y_test_pred = model.predict(results.params, X_test)    # out-of-sample\n",
    "                Y_pred = np.concatenate((Y_train_pred, Y_test_pred), axis=0)\n",
    "                \n",
    "                #if reg_type=='Tukey':return results.params\n",
    "                \n",
    "                NA = np.empty(Y_test.shape[0],)\n",
    "                NA[:] = np.nan\n",
    "                Y_train_pred = np.concatenate([Y_train_pred, NA], axis=0)\n",
    "                \n",
    "                NA = np.empty(Y_train.shape[0],)\n",
    "                NA[:] = np.nan\n",
    "                Y_test_pred = np.concatenate([NA, Y_test_pred], axis=0)\n",
    "                \n",
    "                # residuals\n",
    "                resid = Y-Y_pred\n",
    "                resid_norm = pd.concat([resid[:45], resid[45:]/results.resid.std()])\n",
    "                \n",
    "                # col name\n",
    "                value[reg_type+'_'+i+'_Y_pred_in_samp'] = Y_train_pred\n",
    "                value[reg_type+'_'+i+'_Y_pred_out_samp'] = Y_test_pred\n",
    "                value[reg_type+'_'+i+'_resid'] = resid\n",
    "                value[reg_type+'_'+i+'_resid_norm'] = resid_norm\n",
    "                \n",
    "    \n",
    "    print('Running time: {} secs'.format(round(time.time()-t0),2))\n",
    "    return ticker_returns_copy"
   ]
  },
  {
   "cell_type": "code",
   "execution_count": 491,
   "metadata": {},
   "outputs": [
    {
     "name": "stdout",
     "output_type": "stream",
     "text": [
      "Running 3 regressions for 309 tickers:\n",
      "Running time: 56 secs\n"
     ]
    }
   ],
   "source": [
    "t0 = time.time()\n",
    "#print('Running 3 regressions for {} tickers:'.format(len(ticker_returns_copy)))\n",
    "ticker_returns_1 = run_regression(ticker_returns_copy)\n",
    "#print(time.time()-t0, 'seconds')"
   ]
  },
  {
   "cell_type": "code",
   "execution_count": 495,
   "metadata": {},
   "outputs": [
    {
     "data": {
      "text/plain": [
       "\"Y_train,X_train = run_regression(ticker_returns_copy)\\nnp.concatenate([Y_train.values.reshape(-1,1), X_train], axis=1)[0:5]\\nY=Y_train.values.reshape(-1,1) #ticker_returns_2['NEE'].iloc[:,0].values.reshape(-1,1)\\nX=X_train #ticker_returns_2['NEE'].iloc[:,1:4].values #['Tukey_int_Y_pred_in_samp','Tukey_int_Y_pred_out_samp','Tukey_noint_Y_pred_in_samp','Tukey_noint_Y_pred_out_samp']]\\n#X = sm.tools.tools.add_constant(X)\\n\\nmodel = model = sm.RLM(Y,X, missing='drop', M=sm.robust.norms.TukeyBiweight(c=0.0307215))\\nresults = model.fit()\\nY_pred = model.predict(results.params, X)\""
      ]
     },
     "execution_count": 495,
     "metadata": {},
     "output_type": "execute_result"
    }
   ],
   "source": [
    "#model, results, \n",
    "'''Y_train,X_train = run_regression(ticker_returns_copy)\n",
    "np.concatenate([Y_train.values.reshape(-1,1), X_train], axis=1)[0:5]\n",
    "Y=Y_train.values.reshape(-1,1) #ticker_returns_2['NEE'].iloc[:,0].values.reshape(-1,1)\n",
    "X=X_train #ticker_returns_2['NEE'].iloc[:,1:4].values #['Tukey_int_Y_pred_in_samp','Tukey_int_Y_pred_out_samp','Tukey_noint_Y_pred_in_samp','Tukey_noint_Y_pred_out_samp']]\n",
    "#X = sm.tools.tools.add_constant(X)\n",
    "\n",
    "model = model = sm.RLM(Y,X, missing='drop', M=sm.robust.norms.TukeyBiweight(c=0.0307215))\n",
    "results = model.fit()\n",
    "Y_pred = model.predict(results.params, X)'''"
   ]
  },
  {
   "cell_type": "markdown",
   "metadata": {},
   "source": [
    "Store the dictionary as an HDF5 file using pandas so we don't need to run all the regressions again. "
   ]
  },
  {
   "cell_type": "code",
   "execution_count": 24,
   "metadata": {},
   "outputs": [],
   "source": [
    "# create store\n",
    "stock_regressions = pd.HDFStore('stock_regressions.h5')"
   ]
  },
  {
   "cell_type": "code",
   "execution_count": 611,
   "metadata": {},
   "outputs": [],
   "source": [
    "# fill h5 file\n",
    "for key, value in ticker_returns_1.items():\n",
    "    stock_regressions[key]=value\n",
    "stock_regressions.close()"
   ]
  },
  {
   "cell_type": "markdown",
   "metadata": {},
   "source": [
    "## Explore the Regression Data\n",
    "Now that the regressions are run for each stock, we can upload the h5 file, which acts like a dictionary."
   ]
  },
  {
   "cell_type": "code",
   "execution_count": 5,
   "metadata": {},
   "outputs": [
    {
     "data": {
      "text/html": [
       "<div>\n",
       "<style scoped>\n",
       "    .dataframe tbody tr th:only-of-type {\n",
       "        vertical-align: middle;\n",
       "    }\n",
       "\n",
       "    .dataframe tbody tr th {\n",
       "        vertical-align: top;\n",
       "    }\n",
       "\n",
       "    .dataframe thead th {\n",
       "        text-align: right;\n",
       "    }\n",
       "</style>\n",
       "<table border=\"1\" class=\"dataframe\">\n",
       "  <thead>\n",
       "    <tr style=\"text-align: right;\">\n",
       "      <th></th>\n",
       "      <th>DUK</th>\n",
       "      <th>QQQ</th>\n",
       "      <th>SPY</th>\n",
       "      <th>XLU</th>\n",
       "      <th>OLS_noint_Y_pred_in_samp</th>\n",
       "      <th>OLS_noint_Y_pred_out_samp</th>\n",
       "      <th>OLS_noint_resid</th>\n",
       "      <th>OLS_noint_resid_norm</th>\n",
       "      <th>OLS_int_Y_pred_in_samp</th>\n",
       "      <th>OLS_int_Y_pred_out_samp</th>\n",
       "      <th>...</th>\n",
       "      <th>Huber_int_resid</th>\n",
       "      <th>Huber_int_resid_norm</th>\n",
       "      <th>Tukey_noint_Y_pred_in_samp</th>\n",
       "      <th>Tukey_noint_Y_pred_out_samp</th>\n",
       "      <th>Tukey_noint_resid</th>\n",
       "      <th>Tukey_noint_resid_norm</th>\n",
       "      <th>Tukey_int_Y_pred_in_samp</th>\n",
       "      <th>Tukey_int_Y_pred_out_samp</th>\n",
       "      <th>Tukey_int_resid</th>\n",
       "      <th>Tukey_int_resid_norm</th>\n",
       "    </tr>\n",
       "    <tr>\n",
       "      <th>Date</th>\n",
       "      <th></th>\n",
       "      <th></th>\n",
       "      <th></th>\n",
       "      <th></th>\n",
       "      <th></th>\n",
       "      <th></th>\n",
       "      <th></th>\n",
       "      <th></th>\n",
       "      <th></th>\n",
       "      <th></th>\n",
       "      <th></th>\n",
       "      <th></th>\n",
       "      <th></th>\n",
       "      <th></th>\n",
       "      <th></th>\n",
       "      <th></th>\n",
       "      <th></th>\n",
       "      <th></th>\n",
       "      <th></th>\n",
       "      <th></th>\n",
       "      <th></th>\n",
       "    </tr>\n",
       "  </thead>\n",
       "  <tbody>\n",
       "    <tr>\n",
       "      <th>2019-01-02</th>\n",
       "      <td>NaN</td>\n",
       "      <td>NaN</td>\n",
       "      <td>NaN</td>\n",
       "      <td>NaN</td>\n",
       "      <td>NaN</td>\n",
       "      <td>NaN</td>\n",
       "      <td>NaN</td>\n",
       "      <td>NaN</td>\n",
       "      <td>NaN</td>\n",
       "      <td>NaN</td>\n",
       "      <td>...</td>\n",
       "      <td>NaN</td>\n",
       "      <td>NaN</td>\n",
       "      <td>NaN</td>\n",
       "      <td>NaN</td>\n",
       "      <td>NaN</td>\n",
       "      <td>NaN</td>\n",
       "      <td>NaN</td>\n",
       "      <td>NaN</td>\n",
       "      <td>NaN</td>\n",
       "      <td>NaN</td>\n",
       "    </tr>\n",
       "    <tr>\n",
       "      <th>2019-01-03</th>\n",
       "      <td>-0.000354</td>\n",
       "      <td>-0.032670</td>\n",
       "      <td>-0.023863</td>\n",
       "      <td>-0.000192</td>\n",
       "      <td>0.000566</td>\n",
       "      <td>NaN</td>\n",
       "      <td>-0.000920</td>\n",
       "      <td>-0.000920</td>\n",
       "      <td>0.000406</td>\n",
       "      <td>NaN</td>\n",
       "      <td>...</td>\n",
       "      <td>-0.000188</td>\n",
       "      <td>-0.000188</td>\n",
       "      <td>0.0</td>\n",
       "      <td>NaN</td>\n",
       "      <td>-0.000354</td>\n",
       "      <td>-0.000354</td>\n",
       "      <td>0.0</td>\n",
       "      <td>NaN</td>\n",
       "      <td>-0.000354</td>\n",
       "      <td>-0.000354</td>\n",
       "    </tr>\n",
       "    <tr>\n",
       "      <th>2019-01-04</th>\n",
       "      <td>0.008267</td>\n",
       "      <td>0.042785</td>\n",
       "      <td>0.033496</td>\n",
       "      <td>0.014808</td>\n",
       "      <td>0.010469</td>\n",
       "      <td>NaN</td>\n",
       "      <td>-0.002202</td>\n",
       "      <td>-0.002202</td>\n",
       "      <td>0.010476</td>\n",
       "      <td>NaN</td>\n",
       "      <td>...</td>\n",
       "      <td>-0.002248</td>\n",
       "      <td>-0.002248</td>\n",
       "      <td>0.0</td>\n",
       "      <td>NaN</td>\n",
       "      <td>0.008267</td>\n",
       "      <td>0.008267</td>\n",
       "      <td>0.0</td>\n",
       "      <td>NaN</td>\n",
       "      <td>0.008267</td>\n",
       "      <td>0.008267</td>\n",
       "    </tr>\n",
       "    <tr>\n",
       "      <th>2019-01-07</th>\n",
       "      <td>-0.004217</td>\n",
       "      <td>0.011906</td>\n",
       "      <td>0.007885</td>\n",
       "      <td>-0.006822</td>\n",
       "      <td>-0.005606</td>\n",
       "      <td>NaN</td>\n",
       "      <td>0.001389</td>\n",
       "      <td>0.001389</td>\n",
       "      <td>-0.005742</td>\n",
       "      <td>NaN</td>\n",
       "      <td>...</td>\n",
       "      <td>0.001101</td>\n",
       "      <td>0.001101</td>\n",
       "      <td>0.0</td>\n",
       "      <td>NaN</td>\n",
       "      <td>-0.004217</td>\n",
       "      <td>-0.004217</td>\n",
       "      <td>0.0</td>\n",
       "      <td>NaN</td>\n",
       "      <td>-0.004217</td>\n",
       "      <td>-0.004217</td>\n",
       "    </tr>\n",
       "    <tr>\n",
       "      <th>2019-01-08</th>\n",
       "      <td>0.012587</td>\n",
       "      <td>0.009045</td>\n",
       "      <td>0.009395</td>\n",
       "      <td>0.012402</td>\n",
       "      <td>0.009032</td>\n",
       "      <td>NaN</td>\n",
       "      <td>0.003555</td>\n",
       "      <td>0.003555</td>\n",
       "      <td>0.008993</td>\n",
       "      <td>NaN</td>\n",
       "      <td>...</td>\n",
       "      <td>0.004124</td>\n",
       "      <td>0.004124</td>\n",
       "      <td>0.0</td>\n",
       "      <td>NaN</td>\n",
       "      <td>0.012587</td>\n",
       "      <td>0.012587</td>\n",
       "      <td>0.0</td>\n",
       "      <td>NaN</td>\n",
       "      <td>0.012587</td>\n",
       "      <td>0.012587</td>\n",
       "    </tr>\n",
       "  </tbody>\n",
       "</table>\n",
       "<p>5 rows × 28 columns</p>\n",
       "</div>"
      ],
      "text/plain": [
       "                 DUK       QQQ       SPY       XLU  OLS_noint_Y_pred_in_samp  \\\n",
       "Date                                                                           \n",
       "2019-01-02       NaN       NaN       NaN       NaN                       NaN   \n",
       "2019-01-03 -0.000354 -0.032670 -0.023863 -0.000192                  0.000566   \n",
       "2019-01-04  0.008267  0.042785  0.033496  0.014808                  0.010469   \n",
       "2019-01-07 -0.004217  0.011906  0.007885 -0.006822                 -0.005606   \n",
       "2019-01-08  0.012587  0.009045  0.009395  0.012402                  0.009032   \n",
       "\n",
       "            OLS_noint_Y_pred_out_samp  OLS_noint_resid  OLS_noint_resid_norm  \\\n",
       "Date                                                                           \n",
       "2019-01-02                        NaN              NaN                   NaN   \n",
       "2019-01-03                        NaN        -0.000920             -0.000920   \n",
       "2019-01-04                        NaN        -0.002202             -0.002202   \n",
       "2019-01-07                        NaN         0.001389              0.001389   \n",
       "2019-01-08                        NaN         0.003555              0.003555   \n",
       "\n",
       "            OLS_int_Y_pred_in_samp  OLS_int_Y_pred_out_samp  ...  \\\n",
       "Date                                                         ...   \n",
       "2019-01-02                     NaN                      NaN  ...   \n",
       "2019-01-03                0.000406                      NaN  ...   \n",
       "2019-01-04                0.010476                      NaN  ...   \n",
       "2019-01-07               -0.005742                      NaN  ...   \n",
       "2019-01-08                0.008993                      NaN  ...   \n",
       "\n",
       "            Huber_int_resid  Huber_int_resid_norm  Tukey_noint_Y_pred_in_samp  \\\n",
       "Date                                                                            \n",
       "2019-01-02              NaN                   NaN                         NaN   \n",
       "2019-01-03        -0.000188             -0.000188                         0.0   \n",
       "2019-01-04        -0.002248             -0.002248                         0.0   \n",
       "2019-01-07         0.001101              0.001101                         0.0   \n",
       "2019-01-08         0.004124              0.004124                         0.0   \n",
       "\n",
       "            Tukey_noint_Y_pred_out_samp  Tukey_noint_resid  \\\n",
       "Date                                                         \n",
       "2019-01-02                          NaN                NaN   \n",
       "2019-01-03                          NaN          -0.000354   \n",
       "2019-01-04                          NaN           0.008267   \n",
       "2019-01-07                          NaN          -0.004217   \n",
       "2019-01-08                          NaN           0.012587   \n",
       "\n",
       "            Tukey_noint_resid_norm  Tukey_int_Y_pred_in_samp  \\\n",
       "Date                                                           \n",
       "2019-01-02                     NaN                       NaN   \n",
       "2019-01-03               -0.000354                       0.0   \n",
       "2019-01-04                0.008267                       0.0   \n",
       "2019-01-07               -0.004217                       0.0   \n",
       "2019-01-08                0.012587                       0.0   \n",
       "\n",
       "            Tukey_int_Y_pred_out_samp  Tukey_int_resid  Tukey_int_resid_norm  \n",
       "Date                                                                          \n",
       "2019-01-02                        NaN              NaN                   NaN  \n",
       "2019-01-03                        NaN        -0.000354             -0.000354  \n",
       "2019-01-04                        NaN         0.008267              0.008267  \n",
       "2019-01-07                        NaN        -0.004217             -0.004217  \n",
       "2019-01-08                        NaN         0.012587              0.012587  \n",
       "\n",
       "[5 rows x 28 columns]"
      ]
     },
     "execution_count": 5,
     "metadata": {},
     "output_type": "execute_result"
    }
   ],
   "source": [
    "# open h5\n",
    "stock_regressions = pd.HDFStore('stock_regressions.h5')\n",
    "\n",
    "# constains many ticker's predictor variables, predictions, and residuals\n",
    "stock_regressions['DUK'].head()"
   ]
  },
  {
   "cell_type": "code",
   "execution_count": 497,
   "metadata": {},
   "outputs": [
    {
     "data": {
      "text/plain": [
       "<matplotlib.axes._subplots.AxesSubplot at 0x1c1f9209b0>"
      ]
     },
     "execution_count": 497,
     "metadata": {},
     "output_type": "execute_result"
    },
    {
     "data": {
      "image/png": "[encoded data removed]",
      "text/plain": [
       "<Figure size 432x288 with 1 Axes>"
      ]
     },
     "metadata": {
      "needs_background": "light"
     },
     "output_type": "display_data"
    }
   ],
   "source": [
    "stock_regressions['DUK'].OLS_noint_resid.hist()"
   ]
  },
  {
   "cell_type": "markdown",
   "metadata": {},
   "source": [
    "Next, find the out-of-sample MSE (mean squared error) for each of the 12 regressions, store them in one dataframe with tickers as the index, and save it as _results.csv_."
   ]
  },
  {
   "cell_type": "code",
   "execution_count": 498,
   "metadata": {},
   "outputs": [],
   "source": [
    "# calculate MSEs for each ticker\n",
    "def calculate_mse(stock_regressions):\n",
    "    # takes in dictionary with keys=tickers and values=dataframe\n",
    "    t0 = time.time()\n",
    "    cols=['OLS_noint_resid','OLS_noint_resid_norm','OLS_int_resid','OLS_int_resid_norm',\n",
    "          'Huber_noint_resid','Huber_noint_resid_norm','Huber_int_resid','Huber_int_resid_norm',\n",
    "          'Tukey_noint_resid','Tukey_noint_resid_norm','Tukey_int_resid','Tukey_int_resid_norm']\n",
    "\n",
    "    # initilise dataframe with index of tickers\n",
    "    results = pd.DataFrame(data={'Ticker':[k.replace('/','') for k in list(stock_regressions.keys())]})\n",
    "    \n",
    "    # initialize columns\n",
    "    for c in cols:\n",
    "        results[c]=0.\n",
    "    \n",
    "    # make Ticker the index\n",
    "    results.set_index('Ticker', inplace=True)\n",
    "    \n",
    "    # for each ticker\n",
    "    for key, value in stock_regressions.items():\n",
    "        # select out-of-sample\n",
    "        data = stock_regressions[key].iloc[45:,:]\n",
    "        \n",
    "        # clean ticker\n",
    "        ticker = key.replace('/','')\n",
    "        \n",
    "        # for each model residuals needed\n",
    "        for col in results.columns.tolist():\n",
    "            if col=='Ticker': continue\n",
    "            else:\n",
    "                # compute MSE\n",
    "                rmse = np.sqrt((data[col]**2).mean())\n",
    "                # update MSE\n",
    "                results.at[ticker,col] = rmse\n",
    "                \n",
    "    print('Running time: {} secs'.format(round(time.time()-t0,2), 'seconds'))\n",
    "    return results"
   ]
  },
  {
   "cell_type": "code",
   "execution_count": 200,
   "metadata": {},
   "outputs": [
    {
     "name": "stdout",
     "output_type": "stream",
     "text": [
      "Running time: 8.77 secs\n"
     ]
    },
    {
     "data": {
      "text/html": [
       "<div>\n",
       "<style scoped>\n",
       "    .dataframe tbody tr th:only-of-type {\n",
       "        vertical-align: middle;\n",
       "    }\n",
       "\n",
       "    .dataframe tbody tr th {\n",
       "        vertical-align: top;\n",
       "    }\n",
       "\n",
       "    .dataframe thead th {\n",
       "        text-align: right;\n",
       "    }\n",
       "</style>\n",
       "<table border=\"1\" class=\"dataframe\">\n",
       "  <thead>\n",
       "    <tr style=\"text-align: right;\">\n",
       "      <th></th>\n",
       "      <th>OLS_noint_resid</th>\n",
       "      <th>OLS_noint_resid_norm</th>\n",
       "      <th>OLS_int_resid</th>\n",
       "      <th>OLS_int_resid_norm</th>\n",
       "      <th>Huber_noint_resid</th>\n",
       "      <th>Huber_noint_resid_norm</th>\n",
       "      <th>Huber_int_resid</th>\n",
       "      <th>Huber_int_resid_norm</th>\n",
       "      <th>Tukey_noint_resid</th>\n",
       "      <th>Tukey_noint_resid_norm</th>\n",
       "      <th>Tukey_int_resid</th>\n",
       "      <th>Tukey_int_resid_norm</th>\n",
       "    </tr>\n",
       "    <tr>\n",
       "      <th>Ticker</th>\n",
       "      <th></th>\n",
       "      <th></th>\n",
       "      <th></th>\n",
       "      <th></th>\n",
       "      <th></th>\n",
       "      <th></th>\n",
       "      <th></th>\n",
       "      <th></th>\n",
       "      <th></th>\n",
       "      <th></th>\n",
       "      <th></th>\n",
       "      <th></th>\n",
       "    </tr>\n",
       "  </thead>\n",
       "  <tbody>\n",
       "    <tr>\n",
       "      <th>A</th>\n",
       "      <td>0.006005</td>\n",
       "      <td>0.894652</td>\n",
       "      <td>0.006767</td>\n",
       "      <td>1.012882</td>\n",
       "      <td>0.006782</td>\n",
       "      <td>0.973997</td>\n",
       "      <td>0.006946</td>\n",
       "      <td>1.000340</td>\n",
       "      <td>0.013427</td>\n",
       "      <td>1.028400</td>\n",
       "      <td>0.013427</td>\n",
       "      <td>1.028400</td>\n",
       "    </tr>\n",
       "    <tr>\n",
       "      <th>AAP</th>\n",
       "      <td>0.017887</td>\n",
       "      <td>0.920279</td>\n",
       "      <td>0.017904</td>\n",
       "      <td>0.921174</td>\n",
       "      <td>0.017318</td>\n",
       "      <td>0.885733</td>\n",
       "      <td>0.017197</td>\n",
       "      <td>0.879722</td>\n",
       "      <td>0.017866</td>\n",
       "      <td>0.905128</td>\n",
       "      <td>0.017866</td>\n",
       "      <td>0.905128</td>\n",
       "    </tr>\n",
       "    <tr>\n",
       "      <th>ABBV</th>\n",
       "      <td>0.007832</td>\n",
       "      <td>0.543057</td>\n",
       "      <td>0.008314</td>\n",
       "      <td>0.578820</td>\n",
       "      <td>0.006748</td>\n",
       "      <td>0.453695</td>\n",
       "      <td>0.007233</td>\n",
       "      <td>0.482696</td>\n",
       "      <td>0.010087</td>\n",
       "      <td>0.548183</td>\n",
       "      <td>0.010087</td>\n",
       "      <td>0.548183</td>\n",
       "    </tr>\n",
       "    <tr>\n",
       "      <th>ABG</th>\n",
       "      <td>0.009339</td>\n",
       "      <td>0.689191</td>\n",
       "      <td>0.010334</td>\n",
       "      <td>0.763719</td>\n",
       "      <td>0.009811</td>\n",
       "      <td>0.720893</td>\n",
       "      <td>0.010839</td>\n",
       "      <td>0.787642</td>\n",
       "      <td>0.014525</td>\n",
       "      <td>0.807697</td>\n",
       "      <td>0.014525</td>\n",
       "      <td>0.807697</td>\n",
       "    </tr>\n",
       "    <tr>\n",
       "      <th>ABT</th>\n",
       "      <td>0.005837</td>\n",
       "      <td>0.661526</td>\n",
       "      <td>0.006044</td>\n",
       "      <td>0.685765</td>\n",
       "      <td>0.006095</td>\n",
       "      <td>0.674511</td>\n",
       "      <td>0.007041</td>\n",
       "      <td>0.797049</td>\n",
       "      <td>0.010421</td>\n",
       "      <td>0.692983</td>\n",
       "      <td>0.010421</td>\n",
       "      <td>0.692983</td>\n",
       "    </tr>\n",
       "  </tbody>\n",
       "</table>\n",
       "</div>"
      ],
      "text/plain": [
       "        OLS_noint_resid  OLS_noint_resid_norm  OLS_int_resid  \\\n",
       "Ticker                                                         \n",
       "A              0.006005              0.894652       0.006767   \n",
       "AAP            0.017887              0.920279       0.017904   \n",
       "ABBV           0.007832              0.543057       0.008314   \n",
       "ABG            0.009339              0.689191       0.010334   \n",
       "ABT            0.005837              0.661526       0.006044   \n",
       "\n",
       "        OLS_int_resid_norm  Huber_noint_resid  Huber_noint_resid_norm  \\\n",
       "Ticker                                                                  \n",
       "A                 1.012882           0.006782                0.973997   \n",
       "AAP               0.921174           0.017318                0.885733   \n",
       "ABBV              0.578820           0.006748                0.453695   \n",
       "ABG               0.763719           0.009811                0.720893   \n",
       "ABT               0.685765           0.006095                0.674511   \n",
       "\n",
       "        Huber_int_resid  Huber_int_resid_norm  Tukey_noint_resid  \\\n",
       "Ticker                                                             \n",
       "A              0.006946              1.000340           0.013427   \n",
       "AAP            0.017197              0.879722           0.017866   \n",
       "ABBV           0.007233              0.482696           0.010087   \n",
       "ABG            0.010839              0.787642           0.014525   \n",
       "ABT            0.007041              0.797049           0.010421   \n",
       "\n",
       "        Tukey_noint_resid_norm  Tukey_int_resid  Tukey_int_resid_norm  \n",
       "Ticker                                                                 \n",
       "A                     1.028400         0.013427              1.028400  \n",
       "AAP                   0.905128         0.017866              0.905128  \n",
       "ABBV                  0.548183         0.010087              0.548183  \n",
       "ABG                   0.807697         0.014525              0.807697  \n",
       "ABT                   0.692983         0.010421              0.692983  "
      ]
     },
     "execution_count": 200,
     "metadata": {},
     "output_type": "execute_result"
    }
   ],
   "source": [
    "rmse_by_ticker = calculate_mse(stock_regressions)\n",
    "\n",
    "# save as csv to avoid running code\n",
    "rmse_by_ticker.to_csv('rmse_by_ticker.csv', index=True)\n",
    "\n",
    "rmse_by_ticker.head()"
   ]
  },
  {
   "cell_type": "markdown",
   "metadata": {},
   "source": [
    "# Results"
   ]
  },
  {
   "cell_type": "markdown",
   "metadata": {},
   "source": [
    "Import the results from csv."
   ]
  },
  {
   "cell_type": "code",
   "execution_count": 329,
   "metadata": {},
   "outputs": [
    {
     "data": {
      "text/html": [
       "<div>\n",
       "<style scoped>\n",
       "    .dataframe tbody tr th:only-of-type {\n",
       "        vertical-align: middle;\n",
       "    }\n",
       "\n",
       "    .dataframe tbody tr th {\n",
       "        vertical-align: top;\n",
       "    }\n",
       "\n",
       "    .dataframe thead th {\n",
       "        text-align: right;\n",
       "    }\n",
       "</style>\n",
       "<table border=\"1\" class=\"dataframe\">\n",
       "  <thead>\n",
       "    <tr style=\"text-align: right;\">\n",
       "      <th></th>\n",
       "      <th>OLS_noint_resid</th>\n",
       "      <th>OLS_noint_resid_norm</th>\n",
       "      <th>OLS_int_resid</th>\n",
       "      <th>OLS_int_resid_norm</th>\n",
       "      <th>Huber_noint_resid</th>\n",
       "      <th>Huber_noint_resid_norm</th>\n",
       "      <th>Huber_int_resid</th>\n",
       "      <th>Huber_int_resid_norm</th>\n",
       "      <th>Tukey_noint_resid</th>\n",
       "      <th>Tukey_noint_resid_norm</th>\n",
       "      <th>Tukey_int_resid</th>\n",
       "      <th>Tukey_int_resid_norm</th>\n",
       "    </tr>\n",
       "    <tr>\n",
       "      <th>Ticker</th>\n",
       "      <th></th>\n",
       "      <th></th>\n",
       "      <th></th>\n",
       "      <th></th>\n",
       "      <th></th>\n",
       "      <th></th>\n",
       "      <th></th>\n",
       "      <th></th>\n",
       "      <th></th>\n",
       "      <th></th>\n",
       "      <th></th>\n",
       "      <th></th>\n",
       "    </tr>\n",
       "  </thead>\n",
       "  <tbody>\n",
       "    <tr>\n",
       "      <th>A</th>\n",
       "      <td>0.006005</td>\n",
       "      <td>0.894652</td>\n",
       "      <td>0.006767</td>\n",
       "      <td>1.012882</td>\n",
       "      <td>0.006782</td>\n",
       "      <td>0.973997</td>\n",
       "      <td>0.006946</td>\n",
       "      <td>1.000340</td>\n",
       "      <td>0.013427</td>\n",
       "      <td>1.028400</td>\n",
       "      <td>0.013427</td>\n",
       "      <td>1.028400</td>\n",
       "    </tr>\n",
       "    <tr>\n",
       "      <th>AAP</th>\n",
       "      <td>0.017887</td>\n",
       "      <td>0.920279</td>\n",
       "      <td>0.017904</td>\n",
       "      <td>0.921174</td>\n",
       "      <td>0.017318</td>\n",
       "      <td>0.885733</td>\n",
       "      <td>0.017197</td>\n",
       "      <td>0.879722</td>\n",
       "      <td>0.017866</td>\n",
       "      <td>0.905128</td>\n",
       "      <td>0.017866</td>\n",
       "      <td>0.905128</td>\n",
       "    </tr>\n",
       "    <tr>\n",
       "      <th>ABBV</th>\n",
       "      <td>0.007832</td>\n",
       "      <td>0.543057</td>\n",
       "      <td>0.008314</td>\n",
       "      <td>0.578820</td>\n",
       "      <td>0.006748</td>\n",
       "      <td>0.453695</td>\n",
       "      <td>0.007233</td>\n",
       "      <td>0.482696</td>\n",
       "      <td>0.010087</td>\n",
       "      <td>0.548183</td>\n",
       "      <td>0.010087</td>\n",
       "      <td>0.548183</td>\n",
       "    </tr>\n",
       "    <tr>\n",
       "      <th>ABG</th>\n",
       "      <td>0.009339</td>\n",
       "      <td>0.689191</td>\n",
       "      <td>0.010334</td>\n",
       "      <td>0.763719</td>\n",
       "      <td>0.009811</td>\n",
       "      <td>0.720893</td>\n",
       "      <td>0.010839</td>\n",
       "      <td>0.787642</td>\n",
       "      <td>0.014525</td>\n",
       "      <td>0.807697</td>\n",
       "      <td>0.014525</td>\n",
       "      <td>0.807697</td>\n",
       "    </tr>\n",
       "    <tr>\n",
       "      <th>ABT</th>\n",
       "      <td>0.005837</td>\n",
       "      <td>0.661526</td>\n",
       "      <td>0.006044</td>\n",
       "      <td>0.685765</td>\n",
       "      <td>0.006095</td>\n",
       "      <td>0.674511</td>\n",
       "      <td>0.007041</td>\n",
       "      <td>0.797049</td>\n",
       "      <td>0.010421</td>\n",
       "      <td>0.692983</td>\n",
       "      <td>0.010421</td>\n",
       "      <td>0.692983</td>\n",
       "    </tr>\n",
       "  </tbody>\n",
       "</table>\n",
       "</div>"
      ],
      "text/plain": [
       "        OLS_noint_resid  OLS_noint_resid_norm  OLS_int_resid  \\\n",
       "Ticker                                                         \n",
       "A              0.006005              0.894652       0.006767   \n",
       "AAP            0.017887              0.920279       0.017904   \n",
       "ABBV           0.007832              0.543057       0.008314   \n",
       "ABG            0.009339              0.689191       0.010334   \n",
       "ABT            0.005837              0.661526       0.006044   \n",
       "\n",
       "        OLS_int_resid_norm  Huber_noint_resid  Huber_noint_resid_norm  \\\n",
       "Ticker                                                                  \n",
       "A                 1.012882           0.006782                0.973997   \n",
       "AAP               0.921174           0.017318                0.885733   \n",
       "ABBV              0.578820           0.006748                0.453695   \n",
       "ABG               0.763719           0.009811                0.720893   \n",
       "ABT               0.685765           0.006095                0.674511   \n",
       "\n",
       "        Huber_int_resid  Huber_int_resid_norm  Tukey_noint_resid  \\\n",
       "Ticker                                                             \n",
       "A              0.006946              1.000340           0.013427   \n",
       "AAP            0.017197              0.879722           0.017866   \n",
       "ABBV           0.007233              0.482696           0.010087   \n",
       "ABG            0.010839              0.787642           0.014525   \n",
       "ABT            0.007041              0.797049           0.010421   \n",
       "\n",
       "        Tukey_noint_resid_norm  Tukey_int_resid  Tukey_int_resid_norm  \n",
       "Ticker                                                                 \n",
       "A                     1.028400         0.013427              1.028400  \n",
       "AAP                   0.905128         0.017866              0.905128  \n",
       "ABBV                  0.548183         0.010087              0.548183  \n",
       "ABG                   0.807697         0.014525              0.807697  \n",
       "ABT                   0.692983         0.010421              0.692983  "
      ]
     },
     "execution_count": 329,
     "metadata": {},
     "output_type": "execute_result"
    }
   ],
   "source": [
    "results_1 = pd.read_csv('rmse_by_ticker.csv', index_col=0)\n",
    "#results_1 = results_1**.5\n",
    "results_1.head()"
   ]
  },
  {
   "cell_type": "markdown",
   "metadata": {},
   "source": [
    "# Analysis\n",
    "These regressions were run with parameters (thresholds) of 0.003 for both Huber and Tukey regressions. This value was chosen since it lied roughly around the 75th and 25th percentiles for the residuals in the default-parameter regressions. More will be tested later.\n",
    "\n",
    "Next we compare the performance of the 6 estimators on the out-of-sample set using the residuals."
   ]
  },
  {
   "cell_type": "markdown",
   "metadata": {},
   "source": [
    "## Out-of-sample residuals"
   ]
  },
  {
   "cell_type": "code",
   "execution_count": 330,
   "metadata": {},
   "outputs": [
    {
     "data": {
      "text/html": [
       "<div>\n",
       "<style scoped>\n",
       "    .dataframe tbody tr th:only-of-type {\n",
       "        vertical-align: middle;\n",
       "    }\n",
       "\n",
       "    .dataframe tbody tr th {\n",
       "        vertical-align: top;\n",
       "    }\n",
       "\n",
       "    .dataframe thead th {\n",
       "        text-align: right;\n",
       "    }\n",
       "</style>\n",
       "<table border=\"1\" class=\"dataframe\">\n",
       "  <thead>\n",
       "    <tr style=\"text-align: right;\">\n",
       "      <th></th>\n",
       "      <th>OLS_noint_resid</th>\n",
       "      <th>OLS_noint_resid_norm</th>\n",
       "      <th>OLS_int_resid</th>\n",
       "      <th>OLS_int_resid_norm</th>\n",
       "      <th>Huber_noint_resid</th>\n",
       "      <th>Huber_noint_resid_norm</th>\n",
       "      <th>Huber_int_resid</th>\n",
       "      <th>Huber_int_resid_norm</th>\n",
       "      <th>Tukey_noint_resid</th>\n",
       "      <th>Tukey_noint_resid_norm</th>\n",
       "      <th>Tukey_int_resid</th>\n",
       "      <th>Tukey_int_resid_norm</th>\n",
       "    </tr>\n",
       "    <tr>\n",
       "      <th>Ticker</th>\n",
       "      <th></th>\n",
       "      <th></th>\n",
       "      <th></th>\n",
       "      <th></th>\n",
       "      <th></th>\n",
       "      <th></th>\n",
       "      <th></th>\n",
       "      <th></th>\n",
       "      <th></th>\n",
       "      <th></th>\n",
       "      <th></th>\n",
       "      <th></th>\n",
       "    </tr>\n",
       "  </thead>\n",
       "  <tbody>\n",
       "    <tr>\n",
       "      <th>A</th>\n",
       "      <td>0.006005</td>\n",
       "      <td>0.894652</td>\n",
       "      <td>0.006767</td>\n",
       "      <td>1.012882</td>\n",
       "      <td>0.006782</td>\n",
       "      <td>0.973997</td>\n",
       "      <td>0.006946</td>\n",
       "      <td>1.000340</td>\n",
       "      <td>0.013427</td>\n",
       "      <td>1.028400</td>\n",
       "      <td>0.013427</td>\n",
       "      <td>1.028400</td>\n",
       "    </tr>\n",
       "    <tr>\n",
       "      <th>AAP</th>\n",
       "      <td>0.017887</td>\n",
       "      <td>0.920279</td>\n",
       "      <td>0.017904</td>\n",
       "      <td>0.921174</td>\n",
       "      <td>0.017318</td>\n",
       "      <td>0.885733</td>\n",
       "      <td>0.017197</td>\n",
       "      <td>0.879722</td>\n",
       "      <td>0.017866</td>\n",
       "      <td>0.905128</td>\n",
       "      <td>0.017866</td>\n",
       "      <td>0.905128</td>\n",
       "    </tr>\n",
       "    <tr>\n",
       "      <th>ABBV</th>\n",
       "      <td>0.007832</td>\n",
       "      <td>0.543057</td>\n",
       "      <td>0.008314</td>\n",
       "      <td>0.578820</td>\n",
       "      <td>0.006748</td>\n",
       "      <td>0.453695</td>\n",
       "      <td>0.007233</td>\n",
       "      <td>0.482696</td>\n",
       "      <td>0.010087</td>\n",
       "      <td>0.548183</td>\n",
       "      <td>0.010087</td>\n",
       "      <td>0.548183</td>\n",
       "    </tr>\n",
       "    <tr>\n",
       "      <th>ABG</th>\n",
       "      <td>0.009339</td>\n",
       "      <td>0.689191</td>\n",
       "      <td>0.010334</td>\n",
       "      <td>0.763719</td>\n",
       "      <td>0.009811</td>\n",
       "      <td>0.720893</td>\n",
       "      <td>0.010839</td>\n",
       "      <td>0.787642</td>\n",
       "      <td>0.014525</td>\n",
       "      <td>0.807697</td>\n",
       "      <td>0.014525</td>\n",
       "      <td>0.807697</td>\n",
       "    </tr>\n",
       "    <tr>\n",
       "      <th>ABT</th>\n",
       "      <td>0.005837</td>\n",
       "      <td>0.661526</td>\n",
       "      <td>0.006044</td>\n",
       "      <td>0.685765</td>\n",
       "      <td>0.006095</td>\n",
       "      <td>0.674511</td>\n",
       "      <td>0.007041</td>\n",
       "      <td>0.797049</td>\n",
       "      <td>0.010421</td>\n",
       "      <td>0.692983</td>\n",
       "      <td>0.010421</td>\n",
       "      <td>0.692983</td>\n",
       "    </tr>\n",
       "  </tbody>\n",
       "</table>\n",
       "</div>"
      ],
      "text/plain": [
       "        OLS_noint_resid  OLS_noint_resid_norm  OLS_int_resid  \\\n",
       "Ticker                                                         \n",
       "A              0.006005              0.894652       0.006767   \n",
       "AAP            0.017887              0.920279       0.017904   \n",
       "ABBV           0.007832              0.543057       0.008314   \n",
       "ABG            0.009339              0.689191       0.010334   \n",
       "ABT            0.005837              0.661526       0.006044   \n",
       "\n",
       "        OLS_int_resid_norm  Huber_noint_resid  Huber_noint_resid_norm  \\\n",
       "Ticker                                                                  \n",
       "A                 1.012882           0.006782                0.973997   \n",
       "AAP               0.921174           0.017318                0.885733   \n",
       "ABBV              0.578820           0.006748                0.453695   \n",
       "ABG               0.763719           0.009811                0.720893   \n",
       "ABT               0.685765           0.006095                0.674511   \n",
       "\n",
       "        Huber_int_resid  Huber_int_resid_norm  Tukey_noint_resid  \\\n",
       "Ticker                                                             \n",
       "A              0.006946              1.000340           0.013427   \n",
       "AAP            0.017197              0.879722           0.017866   \n",
       "ABBV           0.007233              0.482696           0.010087   \n",
       "ABG            0.010839              0.787642           0.014525   \n",
       "ABT            0.007041              0.797049           0.010421   \n",
       "\n",
       "        Tukey_noint_resid_norm  Tukey_int_resid  Tukey_int_resid_norm  \n",
       "Ticker                                                                 \n",
       "A                     1.028400         0.013427              1.028400  \n",
       "AAP                   0.905128         0.017866              0.905128  \n",
       "ABBV                  0.548183         0.010087              0.548183  \n",
       "ABG                   0.807697         0.014525              0.807697  \n",
       "ABT                   0.692983         0.010421              0.692983  "
      ]
     },
     "execution_count": 330,
     "metadata": {},
     "output_type": "execute_result"
    }
   ],
   "source": [
    "results_1.head()"
   ]
  },
  {
   "cell_type": "markdown",
   "metadata": {},
   "source": [
    "The MSE was calculated for the six estimators (OLS, Huber, Tueky with an intercept and without, with standardization by in-sample standard error and without) on all 309 tickers. The results are shown above. Next, the root was taken and the mean of RMSE was taken across all 309 tickers. \n",
    "\n",
    "#### Weakness of RMSE\n",
    "It should be noted that the returns are not all on exactly the same scales across companies, so neither are the RMSEs. So some companies' RMSE could contribute more to the average MSE just because its returns happened to be generally larger, not because the model performed worse. That being said, we are averaging over all the companies so the averaged results should still be comparable. Moreover, if all companies have roughly the same volatility, then they will also have daily returns that are roughly on the same scale. Conversely, different volatilities means some companies returns would swing wildly and be on a larger scale that quiter companies. We do not investigate that question here. And one solution would be to make the returns to have the scale by normalizeing the predictor variables before running the regressions. But we do not do that here.\n",
    "\n",
    "Having different scales of the daily returns is bad because it's possible that a company with small-magnitude returns could hide poor estimator performance; the RMSE is small due to small-magnitude returns, not due to good performance. Similarly, it's possible that a company with high-magnitude returns could hide a high-performing estimator. These are downsides of the RMSE performance metric; these problems could be avoided a metric that doesn't depend on the scale of the underlying returns would avoid these problems. Indeed, other performance metrics will be investigated later. For this analysis, we use the RMSE and rely on averaging over multiple identical companies to average out the MSE's misrepresentations of performance."
   ]
  },
  {
   "cell_type": "markdown",
   "metadata": {},
   "source": [
    "Now we compare the performance of the 3 estimators, and the performance with and without intercept variables."
   ]
  },
  {
   "cell_type": "code",
   "execution_count": 367,
   "metadata": {},
   "outputs": [],
   "source": [
    "def plot_results_by_estimator(results_1, zoom=False, bottom=0.88, top=0.96, normalized=False):\n",
    "    # data to plot\n",
    "    n_groups = 3\n",
    "    if normalized==False:\n",
    "        means_noint = results_1.mean()[[0,4,8]] #(90, 55, 40, 65)\n",
    "        means_int = results_1.mean()[[2,6,10]] #(85, 62, 54, 20)\n",
    "    elif normalized==True:\n",
    "        means_noint = results_1.mean()[[1,5,9]] #(90, 55, 40, 65)\n",
    "        means_int = results_1.mean()[[3,7,11]] #(85, 62, 54, 20)\n",
    "\n",
    "    # create plot\n",
    "    fig, ax = plt.subplots()\n",
    "    index =  np.arange(n_groups)\n",
    "    bar_width = 0.35\n",
    "    opacity = 0.8\n",
    "\n",
    "    rects1 = plt.bar(index, means_noint, bar_width,\n",
    "                     alpha=opacity,\n",
    "                     #color='b',\n",
    "                     label='No intercept')\n",
    "\n",
    "    rects2 = plt.bar(index + bar_width, means_int, bar_width,\n",
    "                     alpha=opacity,\n",
    "                     #color='g',\n",
    "                     label='Intercept')\n",
    "\n",
    "    if zoom: \n",
    "        plt.ylim(bottom, top)\n",
    "        plt.annotate('...zoomed in', xy=(0.75, 0.92), xycoords='axes fraction')\n",
    "    plt.xlabel('Estimator')\n",
    "    plt.ylabel('mean RMSE')\n",
    "    if normalized: plt.title('Out-of-sample mean RMSE by estimator (normalized)')\n",
    "    else: plt.title('Out-of-sample mean RMSE by estimator (unnormalized)')\n",
    "    plt.xticks(index + bar_width/2, ('OLS', 'Huber', 'Tukey'))\n",
    "    plt.legend(loc='lower right', framealpha=1)\n",
    "\n",
    "    plt.tight_layout()\n",
    "    if normalized: print(results_1.mean()[[1,3,5,7,9,11]]) \n",
    "    else: print(results_1.mean()[[0,2,4,6,8,10]]) \n",
    "    plt.show()"
   ]
  },
  {
   "cell_type": "code",
   "execution_count": null,
   "metadata": {},
   "outputs": [],
   "source": [
    "plot_results_by_estimator(results_1, zoom=False, bottom=0.88, top=0.96, normalized=False)"
   ]
  },
  {
   "cell_type": "markdown",
   "metadata": {},
   "source": [
    "Let's zoom in to see the differences better."
   ]
  },
  {
   "cell_type": "code",
   "execution_count": 369,
   "metadata": {},
   "outputs": [
    {
     "name": "stdout",
     "output_type": "stream",
     "text": [
      "OLS_noint_resid      0.012610\n",
      "OLS_int_resid        0.012858\n",
      "Huber_noint_resid    0.012422\n",
      "Huber_int_resid      0.012607\n",
      "Tukey_noint_resid    0.018079\n",
      "Tukey_int_resid      0.018875\n",
      "dtype: float64\n"
     ]
    },
    {
     "data": {
      "image/png": "[encoded data removed]",
      "text/plain": [
       "<Figure size 432x288 with 1 Axes>"
      ]
     },
     "metadata": {
      "needs_background": "light"
     },
     "output_type": "display_data"
    }
   ],
   "source": [
    "plot_results_by_estimator(results_1, zoom=True, bottom=0.011, top=0.02, normalized=False)"
   ]
  },
  {
   "cell_type": "markdown",
   "metadata": {},
   "source": [
    "**Observations**:\n",
    "* It's hard to say whether the differences across the three estimators are \"large\" or not in an absolute sense. The magnitude of the MSE depends on the magnitude of the target variables, as discussed above. We will investigate only the relative performance of the estimators.\n",
    "* The Tukey estimator performed the worst (highest mean RMSE). This suggests that there the most extreme points in the trainig set should have been given higher weight and penalized larger than the Tukey esimator does. Recall that the Tukey estimator gives larger weight to farther points but after some distance it stops adding on more weight. So the farthest points are penalized just as much as the mildly-far points. The worse performance of Tukey suggest these points were important and represented relationships that showed up in the test set. Since the relationships weren't captured, Tukey performed worse.\n",
    "* OLS and Huber performed roughly the same. One possible explanation is that there were few \"far\" points, that is, there the farthest points were penalized similarly in the loss function of OLS and Huber, resulting in very similar straight line fits. This is inconsistent with the message from Tukey, which said that there were some very extreme points that were being underpenalized. This result says that there weren't many extreme points to even worry about.\n",
    "* The models _without_ intercepts (blue) performed better than models _with_ intercepts (orange). This is surprising. I would have expected that the stock's returns had some return that was not captured in their ETF's returns. There should be some \"unexplained\" part.\n",
    "* From a pure modeling point of view, using the intercept makes the model more flexible, which can avoid underfitting but risks overfitting. It's usually unclear from a theory which model will be better; and it should be determined empirically via out-of-sample performance. Since the model with an intercept performed better out-of-sample, including the intercept term is better.\n",
    "* It should be noted that the Huber and Tueky estimators do not account for the fact the the different input features might be at different scales. It this specific task, the inputs should be roughly at the same scale since they are all returns of ETFs, but a more careful analysis would standardize the inputs before running the regressions. \n",
    "\n",
    "Next we will normalize the out-of-sample residuals and re-analyze the results."
   ]
  },
  {
   "cell_type": "markdown",
   "metadata": {},
   "source": [
    "## Out-of-sample residuals, _normalized_"
   ]
  },
  {
   "cell_type": "markdown",
   "metadata": {},
   "source": [
    "We normalized the residuals by dividing by the standard deviation of the in-sample residuals. This addresses the issue of the MSE of each regression being at different scales. Now each ticker's MSE should contribute the _appropriate_ amount to the mean RMSE. These results should be more reliable than the un-normalized results above."
   ]
  },
  {
   "cell_type": "code",
   "execution_count": 370,
   "metadata": {},
   "outputs": [
    {
     "name": "stdout",
     "output_type": "stream",
     "text": [
      "OLS_noint_resid_norm      0.930475\n",
      "OLS_int_resid_norm        0.947665\n",
      "Huber_noint_resid_norm    0.905355\n",
      "Huber_int_resid_norm      0.921490\n",
      "Tukey_noint_resid_norm    0.928851\n",
      "Tukey_int_resid_norm      0.951127\n",
      "dtype: float64\n"
     ]
    },
    {
     "data": {
      "image/png": "[encoded data removed]",
      "text/plain": [
       "<Figure size 432x288 with 1 Axes>"
      ]
     },
     "metadata": {
      "needs_background": "light"
     },
     "output_type": "display_data"
    }
   ],
   "source": [
    "plot_results_by_estimator(results_1, zoom=False, bottom=0.88, top=0.96, normalized=True)"
   ]
  },
  {
   "cell_type": "code",
   "execution_count": 371,
   "metadata": {},
   "outputs": [
    {
     "name": "stdout",
     "output_type": "stream",
     "text": [
      "OLS_noint_resid_norm      0.930475\n",
      "OLS_int_resid_norm        0.947665\n",
      "Huber_noint_resid_norm    0.905355\n",
      "Huber_int_resid_norm      0.921490\n",
      "Tukey_noint_resid_norm    0.928851\n",
      "Tukey_int_resid_norm      0.951127\n",
      "dtype: float64\n"
     ]
    },
    {
     "data": {
      "image/png": "[encoded data removed]",
      "text/plain": [
       "<Figure size 432x288 with 1 Axes>"
      ]
     },
     "metadata": {
      "needs_background": "light"
     },
     "output_type": "display_data"
    }
   ],
   "source": [
    "plot_results_by_estimator(results_1, zoom=True, bottom=0.88, top=.96, normalized=True)"
   ]
  },
  {
   "cell_type": "markdown",
   "metadata": {},
   "source": [
    "**Observations**:\n",
    "* During normalization, the residual returns were divided by a small number, resutling in larger values. We can see the mean RMSE are of the order 1, instead of $10^{-2}$, and they have nice interpretations. The typical RMSE should be roughly equal to one, since the residuals were normalized. The RMSEs are slightly less than one though, suggesting that the out-of-sample residuals had smaller standard deviation than the in-sample residuals. I don't see a reason why this would be true, but the data seem to show it.\n",
    "* Now the Huber estimator performs the best, with OLS and Tukey being roughly equally poor. This suggests that there were some data points that were extreme enough to discount, but should be discounted only a little compared to OLS, not discounted heavily like Tukey does.\n",
    "* The fact that the performance changed suggests that averaging the RMSE was in fact sensitive to the scale issues described above. Normalizing corrected for these issues. Another approach would be to normalized all the input variables before running the regressions so they all have the same scale. The word \"Normalizing\" usually means making the values lie between 0 and 1, but here it means to make the value have standard deviation one.\n",
    "* Note that if the scale parameter were very larger, the outliers would be treated the same in the robust models as the OLS, because they would fall in the region where the loss function is the same for OLS and the robust models. We could decrease this parameter until the model cares almost solely about the data points near the the regression function and cares very little about the far points. And it's not clear whether this would perform better; it just depends on the observed distribution of the error term. There are scenarios when certain distrubitons and models would work better but we often cannot tell which scenario we are in until we find the best model. So we just select the model which performs best out-of-sample and conclude the data was such that it would lead to that being the best model. A sort of post-hoc rationalization."
   ]
  },
  {
   "cell_type": "markdown",
   "metadata": {},
   "source": [
    "# Tuning Parameters in Huber and Tukey\n",
    "Now we will find the optimal cutoff values _k_ of the Huber and Tukey regressions. We will compare performance based on the normalized residuals with no intercepts, since the models with no intercepts seemed to perform best.\n",
    "\n",
    "We perform a simple grid search to optimize these hyperparamters. Keep in miind that these parameters are optimized over all 309 datasets; they are not optimal on any one dataset."
   ]
  },
  {
   "cell_type": "code",
   "execution_count": 245,
   "metadata": {},
   "outputs": [],
   "source": [
    "def tune_hyperparams(ticker_returns_copy):\n",
    "    optimal_huber_param = np.nan\n",
    "    optimal_tukey_param = np.nan\n",
    "    lowest_rmse_huber = np.nan\n",
    "    lowest_rmse_tukey = np.nan\n",
    "    optimal_huber_rmse_by_ticker = np.nan\n",
    "    optimal_tukey_rmse_by_ticker = np.nan\n",
    "    params_huber_list = [0.06,0.07,0.08]\n",
    "    params_tukey_list = [0.02,0.03,0.04]\n",
    "    for i, k in enumerate(params_huber_list):\n",
    "        k_tukey = params_tukey_list[i]\n",
    "        print(k, k_tukey)\n",
    "        ticker_returns_2 = run_regression(ticker_returns_copy, huber_param=k, tukey_param=k_tukey)\n",
    "        rmse_by_ticker_2 = calculate_mse(ticker_returns_2)\n",
    "        print('k: {} | Huber mean RMSE: {} | Tukey mean RMSE: {}'.format(k, rmse_by_ticker_2.mean()[[5]][0], rmse_by_ticker_2.mean()[[9]][0]))\n",
    "        if i==0:\n",
    "            print(rmse_by_ticker_2.mean()[[5]][0])\n",
    "            optimal_huber_param = k\n",
    "            optimal_tukey_param = k_tukey\n",
    "            optimal_huber_rmse_by_ticker = rmse_by_ticker_2.copy()\n",
    "            optimal_tukey_rmse_by_ticker = rmse_by_ticker_2.copy()\n",
    "            lowest_rmse_huber = rmse_by_ticker_2.mean()[[5]][0].copy()\n",
    "            lowest_rmse_tukey = rmse_by_ticker_2.mean()[[9]][0].copy()\n",
    "            print('Initializing lowest for Tukey and Huber')\n",
    "        if lowest_rmse_huber > rmse_by_ticker_2.mean()[[5]][0]:\n",
    "            optimal_huber_param = k\n",
    "            optimal_huber_rmse_by_ticker = rmse_by_ticker_2\n",
    "            lowest_rmse_huber = rmse_by_ticker_2.mean()[[5]][0]\n",
    "            print('New lowest Huber')\n",
    "        if lowest_rmse_tukey > rmse_by_ticker_2.mean()[[9]][0]:\n",
    "            optimal_tukey_param = k_tukey\n",
    "            optimal_tukey_rmse_by_ticker = rmse_by_ticker_2\n",
    "            lowest_rmse_tukey = rmse_by_ticker_2.mean()[[9]][0]\n",
    "            print('New lower Tukey')\n",
    "        print('Done {}'.format(k))    \n",
    "    return optimal_huber_param, optimal_tukey_param, lowest_rmse_huber, lowest_rmse_tukey, optimal_huber_rmse_by_ticker, optimal_tukey_rmse_by_ticker"
   ]
  },
  {
   "cell_type": "code",
   "execution_count": 249,
   "metadata": {},
   "outputs": [
    {
     "name": "stdout",
     "output_type": "stream",
     "text": [
      "0.06 0.02\n",
      "Running 3 regressions for 309 tickers:\n",
      "Running time: 52 secs\n",
      "Running time: 3.53 secs\n",
      "k: 0.06 | Huber mean RMSE: 0.9052352625021405 | Tukey mean RMSE: 0.9131189571311285\n",
      "0.9052352625021405\n",
      "Initializing lowest for Tukey and Huber\n",
      "Done 0.06\n",
      "0.07 0.03\n",
      "Running 3 regressions for 309 tickers:\n",
      "Running time: 52 secs\n",
      "Running time: 3.14 secs\n",
      "k: 0.07 | Huber mean RMSE: 0.9052026240143048 | Tukey mean RMSE: 0.9082966962457049\n",
      "New lowest Huber\n",
      "New lower Tukey\n",
      "Done 0.07\n",
      "0.08 0.04\n",
      "Running 3 regressions for 309 tickers:\n",
      "Running time: 50 secs\n",
      "Running time: 3.25 secs\n",
      "k: 0.08 | Huber mean RMSE: 0.9052314603103921 | Tukey mean RMSE: 0.9139032312315927\n",
      "Done 0.08\n"
     ]
    }
   ],
   "source": [
    "optimal_huber_param, optimal_tukey_param, lowest_rmse_huber, lowest_rmse_tukey, optimal_huber_rmse_by_ticker, optimal_tukey_rmse_by_ticker = tune_hyperparams(ticker_returns_copy)"
   ]
  },
  {
   "cell_type": "code",
   "execution_count": 250,
   "metadata": {},
   "outputs": [
    {
     "name": "stdout",
     "output_type": "stream",
     "text": [
      "Optimal Huber parameter is 0.07 with mean RMSE 0.905\n",
      "Optimal Tukey parameter is 0.03 with mean RMSE 0.908\n"
     ]
    }
   ],
   "source": [
    "print('Optimal Huber parameter is {} with mean RMSE {}'.format(optimal_huber_param, round(lowest_rmse_huber,3)))\n",
    "print('Optimal Tukey parameter is {} with mean RMSE {}'.format(optimal_tukey_param, round(lowest_rmse_tukey,3)))"
   ]
  },
  {
   "cell_type": "markdown",
   "metadata": {},
   "source": [
    "Next, we'll demonstrate which datasets perform better with robust regression and which perform better iwth OLS."
   ]
  },
  {
   "cell_type": "markdown",
   "metadata": {},
   "source": [
    "# Now try $R^2$\n",
    "Now we will measure performance using $R^2$ instead of RMSE. Also, we will take the 20th percentile value of $R^2$ across tickers, rather than the mean. The rationale is we want to optimize performance on the worse performing regressions, not the average regression."
   ]
  },
  {
   "cell_type": "code",
   "execution_count": 573,
   "metadata": {},
   "outputs": [],
   "source": [
    "# calculate R-sqaured for each ticker\n",
    "\n",
    "from sklearn.metrics import r2_score\n",
    "\n",
    "def calculate_rsquared(stock_regressions):\n",
    "    # takes in dictionary with keys=tickers and values=dataframe\n",
    "    t0 = time.time()\n",
    "    cols = ['OLS_noint_Y_pred_out_samp',\n",
    "            'OLS_int_Y_pred_out_samp',\n",
    "            'Huber_noint_Y_pred_out_samp',\n",
    "            'Huber_int_Y_pred_out_samp',\n",
    "            'Tukey_noint_Y_pred_out_samp',\n",
    "            'Tukey_int_Y_pred_out_samp']\n",
    "\n",
    "    # initilise dataframe with index of tickers\n",
    "    results = pd.DataFrame(data={'Ticker':[k.replace('/','') for k in list(stock_regressions.keys())]})\n",
    "    \n",
    "    # initialize columns\n",
    "    for c in [co.replace('_Y_pred_out_samp','') for co in cols]: # ['OLS_noint','OLS_int','Huber_noint','Huber_int','Tukey_noint','Tukey_int']:\n",
    "        results[c]=0.\n",
    "    \n",
    "    # make Ticker the index\n",
    "    results.set_index('Ticker', inplace=True)\n",
    "    \n",
    "    # for each ticker\n",
    "    for key, value in stock_regressions.items():\n",
    "        \n",
    "        # clean ticker\n",
    "        ticker = key.replace('/','')\n",
    "        \n",
    "        # select out-of-sample\n",
    "        data = stock_regressions[key].iloc[45:,:].loc[:,[ticker]+cols].copy()\n",
    "        \n",
    "        # for each model residuals needed\n",
    "        for col in results.columns.tolist():\n",
    "            if col=='Ticker': continue\n",
    "            else:\n",
    "                # compute R2\n",
    "                r2 = r2_score( data.loc[:,ticker].values , data.loc[:,col+'_Y_pred_out_samp'] )\n",
    "                 \n",
    "                # update R2\n",
    "                results.at[ticker,col] = r2\n",
    "        \n",
    "    print('Running time: {} secs'.format(round(time.time()-t0,2), 'seconds'))\n",
    "    return results"
   ]
  },
  {
   "cell_type": "code",
   "execution_count": 574,
   "metadata": {},
   "outputs": [],
   "source": [
    "#ticker_returns_2 = run_regression(ticker_returns_copy, huber_param=0.07, tukey_param=0.03)\n",
    "\n",
    "# save as csv to avoid running code\n",
    "#rsquared_by_ticker.to_csv('rsquared_by_ticker.csv', index=True)"
   ]
  },
  {
   "cell_type": "code",
   "execution_count": 575,
   "metadata": {},
   "outputs": [
    {
     "name": "stdout",
     "output_type": "stream",
     "text": [
      "Running time: 3.67 secs\n"
     ]
    }
   ],
   "source": [
    "rsquared_by_ticker_2 = calculate_rsquared(ticker_returns_2)"
   ]
  },
  {
   "cell_type": "code",
   "execution_count": 577,
   "metadata": {},
   "outputs": [
    {
     "data": {
      "text/html": [
       "<div>\n",
       "<style scoped>\n",
       "    .dataframe tbody tr th:only-of-type {\n",
       "        vertical-align: middle;\n",
       "    }\n",
       "\n",
       "    .dataframe tbody tr th {\n",
       "        vertical-align: top;\n",
       "    }\n",
       "\n",
       "    .dataframe thead th {\n",
       "        text-align: right;\n",
       "    }\n",
       "</style>\n",
       "<table border=\"1\" class=\"dataframe\">\n",
       "  <thead>\n",
       "    <tr style=\"text-align: right;\">\n",
       "      <th></th>\n",
       "      <th>OLS_noint</th>\n",
       "      <th>OLS_int</th>\n",
       "      <th>Huber_noint</th>\n",
       "      <th>Huber_int</th>\n",
       "      <th>Tukey_noint</th>\n",
       "      <th>Tukey_int</th>\n",
       "    </tr>\n",
       "    <tr>\n",
       "      <th>Ticker</th>\n",
       "      <th></th>\n",
       "      <th></th>\n",
       "      <th></th>\n",
       "      <th></th>\n",
       "      <th></th>\n",
       "      <th></th>\n",
       "    </tr>\n",
       "  </thead>\n",
       "  <tbody>\n",
       "    <tr>\n",
       "      <th>NEE</th>\n",
       "      <td>0.857270</td>\n",
       "      <td>0.848256</td>\n",
       "      <td>0.873062</td>\n",
       "      <td>0.874613</td>\n",
       "      <td>-0.071243</td>\n",
       "      <td>-0.594898</td>\n",
       "    </tr>\n",
       "    <tr>\n",
       "      <th>DUK</th>\n",
       "      <td>0.820498</td>\n",
       "      <td>0.825390</td>\n",
       "      <td>0.794696</td>\n",
       "      <td>0.799758</td>\n",
       "      <td>-0.002158</td>\n",
       "      <td>-0.002158</td>\n",
       "    </tr>\n",
       "    <tr>\n",
       "      <th>D</th>\n",
       "      <td>0.499016</td>\n",
       "      <td>0.508339</td>\n",
       "      <td>0.512398</td>\n",
       "      <td>0.430811</td>\n",
       "      <td>-0.003205</td>\n",
       "      <td>-0.003205</td>\n",
       "    </tr>\n",
       "    <tr>\n",
       "      <th>SO</th>\n",
       "      <td>0.836831</td>\n",
       "      <td>0.801843</td>\n",
       "      <td>0.840707</td>\n",
       "      <td>0.772795</td>\n",
       "      <td>0.372263</td>\n",
       "      <td>-0.056872</td>\n",
       "    </tr>\n",
       "    <tr>\n",
       "      <th>EXC</th>\n",
       "      <td>0.869144</td>\n",
       "      <td>0.873900</td>\n",
       "      <td>0.892463</td>\n",
       "      <td>0.895381</td>\n",
       "      <td>-0.038164</td>\n",
       "      <td>-0.071010</td>\n",
       "    </tr>\n",
       "  </tbody>\n",
       "</table>\n",
       "</div>"
      ],
      "text/plain": [
       "        OLS_noint   OLS_int  Huber_noint  Huber_int  Tukey_noint  Tukey_int\n",
       "Ticker                                                                     \n",
       "NEE      0.857270  0.848256     0.873062   0.874613    -0.071243  -0.594898\n",
       "DUK      0.820498  0.825390     0.794696   0.799758    -0.002158  -0.002158\n",
       "D        0.499016  0.508339     0.512398   0.430811    -0.003205  -0.003205\n",
       "SO       0.836831  0.801843     0.840707   0.772795     0.372263  -0.056872\n",
       "EXC      0.869144  0.873900     0.892463   0.895381    -0.038164  -0.071010"
      ]
     },
     "execution_count": 577,
     "metadata": {},
     "output_type": "execute_result"
    }
   ],
   "source": [
    "rsquared_by_ticker_2.head()"
   ]
  },
  {
   "cell_type": "markdown",
   "metadata": {},
   "source": [
    "Now let's plot the historgrams of the $R^2$ values across tickers to get a sense of their values, and compare across the three estimators."
   ]
  },
  {
   "cell_type": "code",
   "execution_count": 610,
   "metadata": {},
   "outputs": [
    {
     "data": {
      "image/png": "[encoded data removed]",
      "text/plain": [
       "<Figure size 1296x720 with 6 Axes>"
      ]
     },
     "metadata": {
      "needs_background": "light"
     },
     "output_type": "display_data"
    }
   ],
   "source": [
    "fig = plt.figure(figsize=(18,10))\n",
    "fig.subplots_adjust(hspace=0.4, wspace=0.4)\n",
    "for i in range(1, 7):\n",
    "    ax = fig.add_subplot(3, 2, i)\n",
    "    ax.hist(rsquared_by_ticker_2.iloc[:,i-1],bins=20)\n",
    "    ax.set_title(rsquared_by_ticker_2.columns.tolist()[i-1])\n",
    "    ax.grid()\n",
    "    #ax.text(0.5, 0.5, str((2, 3, i)),\n",
    "    #       fontsize=18, ha='center')"
   ]
  },
  {
   "cell_type": "markdown",
   "metadata": {},
   "source": [
    "Observations:\n",
    "* Both the OLS and Huber estimators seem to have most of their weight above 0, with a small number of regressions giving $R^2$ values far less than zero. This represents regression where the predictions are worse than predicting the mean of the out-of-sample set (it's impossible to know the mean of the out-of-sample set when we make the predictions, but using the in-sample mean would be a pretty good guess). Needless to say, negaitive $R^2$ values represents very poor performance.\n",
    "* The Tueky with no intercept seems to have most of its weight above 0, but the Tukey with the intercept seems to have most of the regressions with $R^2$ values _below_ zero. this indicates very poor performance by Tukey, which is what we also observed from the RMSE.\n",
    "* We used the \"optimal\" parameters for Huber and Tukey. However, these might not be optimal because the Tukey and Huber with optimal parameters should perform as good or better than OLS; if the parameters are very large then Huber/Tukey are equivalent to OLS. Therefore, a large range of parameter values should be tried to find the true optimum, not a local optimum (or at least a better local optimum)."
   ]
  },
  {
   "cell_type": "markdown",
   "metadata": {},
   "source": [
    "## Datasets with outliers\n",
    "* **Hypothesis**: Robust regression should outperform on datasets with many in-sample outliers, but few out-of-sample outliers. Similarly, OLS should outperform robust regression on datasets with very outliers in both in-sample and out-of-sample sets.\n",
    "* To find such tickers:\n",
    "  * we will run OLS, Huber, Tukey on all tickers.\n",
    "  * Standardize the residuals by dividing by their standard deviation (the mean should already have zero).\n",
    "  * Select tickers that have more than 10% of in-sample residuals above 4, and less than 1% of ou-of-sample residuals above 2. On this subset of tickers, robust methods should outperform OLS.\n",
    "  * Select tickers have fewer than 1% of in-sample and out-of-sample residuals above 2. On these tickers, OLS should outperform robust methods.\n",
    "  * Now, select tickers than have fewer than 1% of in-sample residuals above 2, and more than 10% of out-of-sample residuals above 4. For these tickers, it's not clear which methods would perform best. It's possible that the small-outliers could be somewhat predictive of larger outliers, then robust methods would outperform. On the other hand, it's possible that the in-sample datapoints don't predict the large outliers in the out-fo-sample set at all; then both methods would perform equally.\n",
    "* Then select tickers which have very few outliers in both the in-sample and out-of-sample sets. For these tickers, OLS should outperform huber and Tukey.\n",
    "* I only outline this test; I'm not going to perform it due to time constraints. Also, there are probably better ways to find outliers than my methods. One reason is that the OLS can \"mask\" an outlier by twisting hard to fit it. Even though it's an outlier that has large leverage, it may not have a large residual. So my test might not be best for detecting outliers."
   ]
  },
  {
   "cell_type": "markdown",
   "metadata": {},
   "source": [
    "# Add LASSO\n",
    "Next, we'll add LASSO to the list of models. LASSO helps when the model is overfitting by lowering the capacity of the model i.e. regularization. LASSO add a sum of sqaured weights term to the loss function which is optimized during training: $loss = \\frac{1}{n}\\sum_i^N (\\hat y_i - y_i)^2 + \\lambda \\sum_j |W_{j}|)$. This regularization term is the L1-norm of the weights vector, and the strength of the regularization is controlled by the parameter $\\lambda$. For large $\\lambda$, large weights are penalized heavily and thus shrink to small values. The set of possible values is reduced. Conversely, when $lambda$ is small the weights are free to remain large. And if $\\lambda = 0$, then the model reduces to standard linear regression. The hyperparameter $\\lambda$ must be selected by choosing the value which performs best on a test set. LASSO can also be written as a Bayesian regression with independent identical Laplace (double-exponential) priors. However, I find the regularization-term formulation more intuitive.\n",
    "\n",
    "## Changes\n",
    "LASSO is compared to OLS, Huber, and Tukey but with a few twists.  \n",
    "* The input features are standardized before training the models. The test set features are standardized using the training set mean and standard deviation. This standardization removes the need to divide the residuals of the test set by the standard deviation of the residuals of the training set, as was done previously. All the features are on the same scale, so later standardization should not be needed.\n",
    "* For each regression (ticker) of Huber and LASSO, a grid search is used to choose the optimal value of the distance parameters (huber) and regularization parameter (LASSO). This is because these two models are implemented in Scikit-Learn, which has easy functions to optimize hyperparameters with grid search. \n",
    "* Tukey is not implemented in Scikit-Learn, and I couldn't get it to fit in a sklearn estimator in a way that would allow similar grid search. Therefore, Tukey regression is always run with a value of 1.0, which is one standard deviation if the returns are normal.\n",
    "\n",
    "## Predictions\n",
    "Which model with perform best? LASSO is ussually used to address a different problem than Huber/Tukey. LASSO helps fight overfitting while Huber/Tukey help fight oversensitivity to outliers in the training set. However, there is reason to think that LASSO can help fight oversensitivity to outliers in the training, because LASSO helps fight oversitivity to _all_ samples in the training set. Any data point or curve that appears in the training set but not the test set will be \"discounted\" or \"ignored\" by the LASSO. When the LASSO regularization term appears, it constrains the direction and location of the fitted hyper-plane. So, it can constrain the hyperplane to prevent it from perturbing to reach outliers in the training set.  \n",
    "\n",
    "LASSO also performs variable selection by reducing some of parameter coefficients down to zero. As such, it reduces sensitivity to features that to not \"appear\" in the test set. This is an added feature of LASSO; Huber and Tukey do not offer this protection against fitting unpredictive features. Therefore, I predict that LASSO will outperform Huber (recall that we won't be finding optimal hyperparamters for Tukey, so we can't draw many conclusions from its results)."
   ]
  },
  {
   "cell_type": "code",
   "execution_count": 454,
   "metadata": {},
   "outputs": [
    {
     "name": "stdout",
     "output_type": "stream",
     "text": [
      "309\n"
     ]
    }
   ],
   "source": [
    "# load returns_by_ticker dictionary\n",
    "with open('returns_by_ticker.pickle', 'rb') as handle:\n",
    "    returns_by_ticker = pickle.load(handle)\n",
    "\n",
    "print(len(returns_by_ticker))"
   ]
  },
  {
   "cell_type": "code",
   "execution_count": 455,
   "metadata": {},
   "outputs": [
    {
     "data": {
      "text/html": [
       "<div>\n",
       "<style scoped>\n",
       "    .dataframe tbody tr th:only-of-type {\n",
       "        vertical-align: middle;\n",
       "    }\n",
       "\n",
       "    .dataframe tbody tr th {\n",
       "        vertical-align: top;\n",
       "    }\n",
       "\n",
       "    .dataframe thead th {\n",
       "        text-align: right;\n",
       "    }\n",
       "</style>\n",
       "<table border=\"1\" class=\"dataframe\">\n",
       "  <thead>\n",
       "    <tr style=\"text-align: right;\">\n",
       "      <th></th>\n",
       "      <th>NEE</th>\n",
       "      <th>QQQ</th>\n",
       "      <th>SPY</th>\n",
       "      <th>XLU</th>\n",
       "    </tr>\n",
       "    <tr>\n",
       "      <th>Date</th>\n",
       "      <th></th>\n",
       "      <th></th>\n",
       "      <th></th>\n",
       "      <th></th>\n",
       "    </tr>\n",
       "  </thead>\n",
       "  <tbody>\n",
       "    <tr>\n",
       "      <th>2019-01-02</th>\n",
       "      <td>NaN</td>\n",
       "      <td>NaN</td>\n",
       "      <td>NaN</td>\n",
       "      <td>NaN</td>\n",
       "    </tr>\n",
       "    <tr>\n",
       "      <th>2019-01-03</th>\n",
       "      <td>-0.002473</td>\n",
       "      <td>-0.032670</td>\n",
       "      <td>-0.023863</td>\n",
       "      <td>-0.000192</td>\n",
       "    </tr>\n",
       "    <tr>\n",
       "      <th>2019-01-04</th>\n",
       "      <td>0.018417</td>\n",
       "      <td>0.042785</td>\n",
       "      <td>0.033496</td>\n",
       "      <td>0.014808</td>\n",
       "    </tr>\n",
       "    <tr>\n",
       "      <th>2019-01-07</th>\n",
       "      <td>-0.001449</td>\n",
       "      <td>0.011906</td>\n",
       "      <td>0.007885</td>\n",
       "      <td>-0.006822</td>\n",
       "    </tr>\n",
       "    <tr>\n",
       "      <th>2019-01-08</th>\n",
       "      <td>0.007314</td>\n",
       "      <td>0.009045</td>\n",
       "      <td>0.009395</td>\n",
       "      <td>0.012402</td>\n",
       "    </tr>\n",
       "  </tbody>\n",
       "</table>\n",
       "</div>"
      ],
      "text/plain": [
       "                 NEE       QQQ       SPY       XLU\n",
       "Date                                              \n",
       "2019-01-02       NaN       NaN       NaN       NaN\n",
       "2019-01-03 -0.002473 -0.032670 -0.023863 -0.000192\n",
       "2019-01-04  0.018417  0.042785  0.033496  0.014808\n",
       "2019-01-07 -0.001449  0.011906  0.007885 -0.006822\n",
       "2019-01-08  0.007314  0.009045  0.009395  0.012402"
      ]
     },
     "execution_count": 455,
     "metadata": {},
     "output_type": "execute_result"
    }
   ],
   "source": [
    "df = returns_by_ticker['NEE'].copy()\n",
    "df.head()"
   ]
  },
  {
   "cell_type": "code",
   "execution_count": null,
   "metadata": {},
   "outputs": [],
   "source": []
  },
  {
   "cell_type": "code",
   "execution_count": 24,
   "metadata": {},
   "outputs": [],
   "source": []
  },
  {
   "cell_type": "markdown",
   "metadata": {},
   "source": [
    "## DEPRECATED\n",
    "This was my failed attempt to turn Tukey from statsmodels into a scikit-learn estimator."
   ]
  },
  {
   "cell_type": "code",
   "execution_count": 266,
   "metadata": {},
   "outputs": [],
   "source": [
    "# https://stackoverflow.com/questions/41045752/using-statsmodel-estimations-with-scikit-learn-cross-validation-is-it-possible\n",
    "\n",
    "import statsmodels.api as sm\n",
    "from sklearn.base import BaseEstimator, RegressorMixin\n",
    "\n",
    "class SMWrapper(BaseEstimator, RegressorMixin):\n",
    "    \"\"\" A universal sklearn-style wrapper for statsmodels regressors \"\"\"\n",
    "    def __init__(self, model_class, fit_intercept=True):\n",
    "        self.model_class = model_class\n",
    "        self.fit_intercept = fit_intercept\n",
    "    \n",
    "    def fit(self, X, y):\n",
    "        if self.fit_intercept:\n",
    "            X = sm.add_constant(X)\n",
    "        self.model_ = self.model_class(y, X)\n",
    "        self.results_ = self.model_.fit()\n",
    "    \n",
    "    def predict(self, X):\n",
    "        if self.fit_intercept:\n",
    "            X = sm.add_constant(X)\n",
    "        return self.results_.predict(X)"
   ]
  },
  {
   "cell_type": "code",
   "execution_count": 326,
   "metadata": {},
   "outputs": [
    {
     "name": "stdout",
     "output_type": "stream",
     "text": [
      "[0.27590772 0.38541996 0.45140208]\n",
      "[0.28592315 0.37367557 0.47972639]\n"
     ]
    },
    {
     "name": "stderr",
     "output_type": "stream",
     "text": [
      "/Users/roberthatem/anaconda3/lib/python3.6/site-packages/sklearn/model_selection/_split.py:2053: FutureWarning: You should specify a value for 'cv' instead of relying on the default value. The default value will change from 3 to 5 in version 0.22.\n",
      "  warnings.warn(CV_WARNING, FutureWarning)\n"
     ]
    }
   ],
   "source": [
    "from sklearn.datasets import make_regression\n",
    "from sklearn.model_selection import cross_val_score\n",
    "from sklearn.linear_model import LinearRegression\n",
    "\n",
    "X, y = make_regression(random_state=1, n_samples=300, noise=100)\n",
    "\n",
    "huber_t = sm.RLM(X, y, M=sm.robust.norms.HuberT())\n",
    "\n",
    "print(cross_val_score(SMWrapper(sm.RLM), X, y, scoring='r2'))\n",
    "print(cross_val_score(LinearRegression(), X, y, scoring='r2'))"
   ]
  },
  {
   "cell_type": "code",
   "execution_count": 389,
   "metadata": {},
   "outputs": [],
   "source": [
    "from sklearn.base import BaseEstimator, RegressorMixin\n",
    "import statsmodels.formula.api as smf\n",
    "import statsmodels.api as sm\n",
    " \n",
    "class statsmodel(BaseEstimator, RegressorMixin):\n",
    "    def __init__(self, sm_class, c, fit_intercept=True):\n",
    "        self.sm_class = sm_class\n",
    "        #self.formula = formula\n",
    "        self.M = sm.robust.norms.TukeyBiweight(c=c)\n",
    "        self.fit_intercept = fit_intercept\n",
    "        self.model = None\n",
    "        self.result = None\n",
    " \n",
    "    def fit(self, X, y):\n",
    "        if self.fit_intercept:\n",
    "            X = sm.add_constant(X)\n",
    "        self.model = self.sm_class(y, X)\n",
    "        self.result = self.model.fit()\n",
    " \n",
    "    def predict(self,X):\n",
    "        return self.result.predict(X)"
   ]
  },
  {
   "cell_type": "markdown",
   "metadata": {},
   "source": [
    "...continue"
   ]
  },
  {
   "cell_type": "markdown",
   "metadata": {},
   "source": [
    "This function finds the optimal hyperparameters of the three regressions (excluding Tukey), and returns the test $R^2$ from the optimal hyperparameter."
   ]
  },
  {
   "cell_type": "code",
   "execution_count": 17,
   "metadata": {},
   "outputs": [],
   "source": [
    "from sklearn import linear_model\n",
    "from sklearn.model_selection import GridSearchCV, PredefinedSplit\n",
    "from sklearn.preprocessing import StandardScaler\n",
    "from sklearn.metrics import r2_score\n",
    "import statsmodels.api as sm\n",
    "\n",
    "def optimal_r_squared(df, reg_type = 'linear', fit_intercept=True):\n",
    "\n",
    "    X = df.dropna().iloc[:,1:].values.copy() #.reshape(-1,1)\n",
    "    y = df.dropna().iloc[:,0].values.copy()\n",
    "\n",
    "    # standardize inputs, based on training set\n",
    "    scaler = StandardScaler().fit(X[0:30])\n",
    "    X[0:30] = scaler.transform(X[0:30])\n",
    "    X[30:45] = scaler.transform(X[30:45])\n",
    "\n",
    "    # https://stackoverflow.com/questions/48390601/explicitly-specifying-test-train-sets-in-gridsearchcv\n",
    "    # The indices which have the value -1 will be kept in train.\n",
    "    train_indices = np.full((30,), -1, dtype=int)\n",
    "\n",
    "    # The indices which have zero or positive values, will be kept in test\n",
    "    test_indices = np.full((15,), 0, dtype=int)\n",
    "    test_fold = np.append(train_indices, test_indices)\n",
    "\n",
    "    ps = PredefinedSplit(test_fold)\n",
    "    \n",
    "    if reg_type=='linear':\n",
    "        reg = linear_model.LinearRegression(fit_intercept=fit_intercept).fit(X[0:30], y[0:30])\n",
    "        return reg.score(X[30:45], y[30:45])\n",
    "    \n",
    "    elif reg_type=='huber':\n",
    "        parameters = {'epsilon': [1.01,1.2,1.35, 1.5, 1.75, 1.9,2,3,4,5,7,10,20]}\n",
    "        huber = linear_model.HuberRegressor(fit_intercept=fit_intercept, alpha=0.0)\n",
    "        clf = GridSearchCV(huber, parameters, scoring='r2', cv=ps)  # https://scikit-learn.org/stable/modules/generated/sklearn.model_selection.GridSearchCV.html\n",
    "        clf.fit(X, y)\n",
    "        return clf.best_score_\n",
    "    \n",
    "    elif reg_type=='tukey':\n",
    "        #parameters = {'c': [4.684, 5,6]}\n",
    "        #parameters = {'M': [sm.robust.norms.TukeyBiweight(c=4.684)] }\n",
    "        \n",
    "        #clf = statsmodel(smf.ols, \"AVGEXP ~ AGE + INCOME\")\n",
    "        #tukey = statsmodel(sm.RLM, c=4.684)\n",
    "        if fit_intercept==True:\n",
    "            X = sm.add_constant(X)\n",
    "        \n",
    "        model = sm.RLM(y[0:30], X[0:30], missing='drop', M=sm.robust.norms.TukeyBiweight(c=1.0))  # default is 4.684\n",
    "        \n",
    "        #clf = GridSearchCV(tukey, parameters, scoring='r2', cv=ps)  # https://scikit-learn.org/stable/modules/generated/sklearn.model_selection.GridSearchCV.html\n",
    "        #clf.fit(X, y)\n",
    "        results = model.fit()\n",
    "        y_pred = model.predict(results.params, X[30:45]) \n",
    "        #clf.best_score_\n",
    "        return r2_score(y[30:45], y_pred)\n",
    "\n",
    "    elif reg_type=='lasso':\n",
    "        parameters = {'alpha':np.logspace(-7, -0.1, 20)}\n",
    "        lasso = linear_model.Lasso(fit_intercept=fit_intercept)\n",
    "        clf = GridSearchCV(lasso, parameters, scoring='r2', cv=ps)\n",
    "        clf.fit(X, y)\n",
    "        return clf.best_score_\n"
   ]
  },
  {
   "cell_type": "code",
   "execution_count": 492,
   "metadata": {},
   "outputs": [
    {
     "name": "stdout",
     "output_type": "stream",
     "text": [
      "0.12443687722668084\n"
     ]
    }
   ],
   "source": [
    "result = optimal_r_squared(df, reg_type = 'tukey', fit_intercept=True)\n",
    "print(result)"
   ]
  },
  {
   "cell_type": "markdown",
   "metadata": {},
   "source": [
    "This function takes in the dataframe for one ticker and returns the optimal test $R^2$ for all four regressions as a dictionary."
   ]
  },
  {
   "cell_type": "code",
   "execution_count": 493,
   "metadata": {},
   "outputs": [],
   "source": [
    "def optimal_r_squared_one_ticker(df):\n",
    "    result = {}\n",
    "    result['Linear_noint'] = optimal_r_squared(df, reg_type = 'linear', fit_intercept=False)\n",
    "    result['Linear_int'] = optimal_r_squared(df, reg_type = 'linear', fit_intercept=True)\n",
    "    result['Huber_noint'] = optimal_r_squared(df, reg_type = 'huber', fit_intercept=False)\n",
    "    result['Huber_int'] = optimal_r_squared(df, reg_type = 'huber', fit_intercept=True)\n",
    "    result['Tukey_noint'] = optimal_r_squared(df, reg_type = 'tukey', fit_intercept=False)\n",
    "    result['Tukey_int'] = optimal_r_squared(df, reg_type = 'tukey', fit_intercept=True)\n",
    "    result['Lasso_noint'] = optimal_r_squared(df, reg_type = 'lasso', fit_intercept=False)\n",
    "    result['Lasso_int'] = optimal_r_squared(df, reg_type = 'lasso', fit_intercept=True)\n",
    "    return result #pd.DataFrame(index=[0],data=result)"
   ]
  },
  {
   "cell_type": "code",
   "execution_count": 494,
   "metadata": {},
   "outputs": [
    {
     "data": {
      "text/plain": [
       "{'Linear_noint': -0.3937591296479607,\n",
       " 'Linear_int': -0.016660665295743282,\n",
       " 'Huber_noint': -0.3349135314679137,\n",
       " 'Huber_int': 0.2987420612559931,\n",
       " 'Tukey_noint': -0.4645945610765212,\n",
       " 'Tukey_int': 0.12443687722668084,\n",
       " 'Lasso_noint': -0.05463077784563031,\n",
       " 'Lasso_int': 0.4628364180563608}"
      ]
     },
     "execution_count": 494,
     "metadata": {},
     "output_type": "execute_result"
    }
   ],
   "source": [
    "# example\n",
    "res = optimal_r_squared_one_ticker(df)\n",
    "res"
   ]
  },
  {
   "cell_type": "markdown",
   "metadata": {},
   "source": [
    "Finally, this function iterates through tickers, calculates the four optimal $R^2$s and returns them in one dataframe with tickers as the rows."
   ]
  },
  {
   "cell_type": "code",
   "execution_count": 495,
   "metadata": {},
   "outputs": [],
   "source": [
    "def optimal_r_squared_by_ticker(returns_by_ticker):\n",
    "    # calculate R-sqaured for each ticker\n",
    "    result = {'Linear_noint': [],\n",
    "             'Linear_int': [],\n",
    "             'Huber_noint': [],\n",
    "             'Huber_int': [],\n",
    "             'Tukey_noint': [],\n",
    "             'Tukey_int': [],\n",
    "             'Lasso_noint': [],\n",
    "             'Lasso_int': []}\n",
    "    \n",
    "    ind = []\n",
    "    \n",
    "    for key, value in returns_by_ticker.items():\n",
    "        ticker = key.replace('.','')\n",
    "        #print(ticker)\n",
    "        ind.append(ticker)\n",
    "        df_copy = value.copy()\n",
    "        r_squared = optimal_r_squared_one_ticker(df_copy)\n",
    "        for col, r_sqr in r_squared.items():\n",
    "            result[col].append(r_sqr)\n",
    "    \n",
    "    return pd.DataFrame(index=ind, data=result)"
   ]
  },
  {
   "cell_type": "code",
   "execution_count": 496,
   "metadata": {},
   "outputs": [
    {
     "data": {
      "text/html": [
       "<div>\n",
       "<style scoped>\n",
       "    .dataframe tbody tr th:only-of-type {\n",
       "        vertical-align: middle;\n",
       "    }\n",
       "\n",
       "    .dataframe tbody tr th {\n",
       "        vertical-align: top;\n",
       "    }\n",
       "\n",
       "    .dataframe thead th {\n",
       "        text-align: right;\n",
       "    }\n",
       "</style>\n",
       "<table border=\"1\" class=\"dataframe\">\n",
       "  <thead>\n",
       "    <tr style=\"text-align: right;\">\n",
       "      <th></th>\n",
       "      <th>Linear_noint</th>\n",
       "      <th>Linear_int</th>\n",
       "      <th>Huber_noint</th>\n",
       "      <th>Huber_int</th>\n",
       "      <th>Tukey_noint</th>\n",
       "      <th>Tukey_int</th>\n",
       "      <th>Lasso_noint</th>\n",
       "      <th>Lasso_int</th>\n",
       "    </tr>\n",
       "  </thead>\n",
       "  <tbody>\n",
       "    <tr>\n",
       "      <th>NEE</th>\n",
       "      <td>-0.393759</td>\n",
       "      <td>-0.016661</td>\n",
       "      <td>-0.334914</td>\n",
       "      <td>0.298742</td>\n",
       "      <td>-0.464595</td>\n",
       "      <td>0.124437</td>\n",
       "      <td>-0.054631</td>\n",
       "      <td>0.462836</td>\n",
       "    </tr>\n",
       "    <tr>\n",
       "      <th>DUK</th>\n",
       "      <td>0.465139</td>\n",
       "      <td>0.547174</td>\n",
       "      <td>0.471914</td>\n",
       "      <td>0.547175</td>\n",
       "      <td>0.468258</td>\n",
       "      <td>0.533116</td>\n",
       "      <td>0.465095</td>\n",
       "      <td>0.547160</td>\n",
       "    </tr>\n",
       "    <tr>\n",
       "      <th>D</th>\n",
       "      <td>-0.165093</td>\n",
       "      <td>-0.027978</td>\n",
       "      <td>-0.114181</td>\n",
       "      <td>0.092647</td>\n",
       "      <td>-0.124011</td>\n",
       "      <td>0.111535</td>\n",
       "      <td>-0.107624</td>\n",
       "      <td>0.012283</td>\n",
       "    </tr>\n",
       "    <tr>\n",
       "      <th>SO</th>\n",
       "      <td>0.395828</td>\n",
       "      <td>0.500729</td>\n",
       "      <td>0.395828</td>\n",
       "      <td>0.500729</td>\n",
       "      <td>0.387117</td>\n",
       "      <td>0.488247</td>\n",
       "      <td>0.396268</td>\n",
       "      <td>0.500705</td>\n",
       "    </tr>\n",
       "    <tr>\n",
       "      <th>EXC</th>\n",
       "      <td>0.392026</td>\n",
       "      <td>0.440015</td>\n",
       "      <td>0.412684</td>\n",
       "      <td>0.440019</td>\n",
       "      <td>0.419103</td>\n",
       "      <td>0.216811</td>\n",
       "      <td>0.392205</td>\n",
       "      <td>0.460060</td>\n",
       "    </tr>\n",
       "  </tbody>\n",
       "</table>\n",
       "</div>"
      ],
      "text/plain": [
       "     Linear_noint  Linear_int  Huber_noint  Huber_int  Tukey_noint  Tukey_int  \\\n",
       "NEE     -0.393759   -0.016661    -0.334914   0.298742    -0.464595   0.124437   \n",
       "DUK      0.465139    0.547174     0.471914   0.547175     0.468258   0.533116   \n",
       "D       -0.165093   -0.027978    -0.114181   0.092647    -0.124011   0.111535   \n",
       "SO       0.395828    0.500729     0.395828   0.500729     0.387117   0.488247   \n",
       "EXC      0.392026    0.440015     0.412684   0.440019     0.419103   0.216811   \n",
       "\n",
       "     Lasso_noint  Lasso_int  \n",
       "NEE    -0.054631   0.462836  \n",
       "DUK     0.465095   0.547160  \n",
       "D      -0.107624   0.012283  \n",
       "SO      0.396268   0.500705  \n",
       "EXC     0.392205   0.460060  "
      ]
     },
     "execution_count": 496,
     "metadata": {},
     "output_type": "execute_result"
    }
   ],
   "source": [
    "# example\n",
    "df1 = optimal_r_squared_by_ticker(returns_by_ticker)\n",
    "df1.head()"
   ]
  },
  {
   "cell_type": "markdown",
   "metadata": {},
   "source": [
    "## Analysis\n",
    "\n",
    "Plot histograms of the optimal $R^2$ values, with and without intercepts."
   ]
  },
  {
   "cell_type": "code",
   "execution_count": 497,
   "metadata": {},
   "outputs": [
    {
     "data": {
      "image/png": "[encoded data removed]",
      "text/plain": [
       "<Figure size 1296x720 with 8 Axes>"
      ]
     },
     "metadata": {
      "needs_background": "light"
     },
     "output_type": "display_data"
    }
   ],
   "source": [
    "fig = plt.figure(figsize=(18,10))\n",
    "fig.subplots_adjust(hspace=0.4, wspace=0.4)\n",
    "for i in range(1, 9):\n",
    "    ax = fig.add_subplot(4, 2, i)\n",
    "    ax.hist(df1.iloc[:,i-1],bins=20)\n",
    "    ax.set_title(df1.columns.tolist()[i-1])\n",
    "    ax.grid()\n",
    "    #ax.text(0.5, 0.5, str((2, 3, i)),\n",
    "    #       fontsize=18, ha='center')"
   ]
  },
  {
   "cell_type": "markdown",
   "metadata": {},
   "source": [
    "Observations:\n",
    "* All eight histograms show their weight centered above 0, meaning the regression performs better than predicting the target variable mean.\n",
    "* However, Huber seems to have the largest mass below 0; even more than Tukey apparently. This suggests that Huber's parameter grid was poor. After adding in some more values to the grid, the same results appears, but less strongly. This result is very counter-intuitive; Tukey seems to be outperforming Huber even without any hyperparameter optimization.\n",
    "* Linear regression appears to have smaller variance of $R^2$ than the other methods. LASSO especially has a large spread.\n",
    "* The models with intercepts seem to outperform models without intercepts. For linear, Huber, and Tukey, this could be a cause of overfitting (having too many variables can often lead to overfitting). LASSO would not suffer from this problem because it has regularization to restrict the model and reduce overfitting.\n",
    "* It's hard to tell which of the four models is performing the best. To get a more precise measure of accuracy, we will look at some specific percentile values. This will tell us how a typical \"bad\" model, \"good\", and typical dataset is performing under the different models."
   ]
  },
  {
   "cell_type": "code",
   "execution_count": 538,
   "metadata": {},
   "outputs": [
    {
     "data": {
      "image/png": "[encoded data removed]",
      "text/plain": [
       "<Figure size 432x288 with 1 Axes>"
      ]
     },
     "metadata": {
      "needs_background": "light"
     },
     "output_type": "display_data"
    }
   ],
   "source": [
    "# quantiles, no intercept\n",
    "df1.quantile(np.linspace(0.1,0.9,100), axis=0).iloc[:,[0,2,4,6]].plot()\n",
    "plt.xlabel('Percentile')\n",
    "plt.ylabel('Quantile')\n",
    "plt.title('R2, no intercept');\n",
    "plt.grid()"
   ]
  },
  {
   "cell_type": "markdown",
   "metadata": {},
   "source": [
    "* Among the models with no intercept, LASSO performs the best. At (almost) all percentiles, the $R^2$ is highest among the four models (red line is highest). This is what we predicted above; refer to the previous section for the reasons. \n",
    "* Second best is Huber, which makes sense because it can simplify to linear regression with a hyperparameter large enough. The linear regression is the most restricted model, with no parameters to adjust, so it cannot be regularized to address outliers, heavy-tailed errors, or overfitting. The Tukey model performed worse than the the Huber, which is reassuring given that the hyperparameter was not optimized. \n",
    "* Even still, Tukey outperformed the linear regression, suggesting that the error distribution was heavy-tailed compared to the Gaussian, and thus benefitted from the Tukey loss (even if un-optimized).\n",
    "\n",
    "Next we'll look at the models that have the intercept term."
   ]
  },
  {
   "cell_type": "code",
   "execution_count": 539,
   "metadata": {},
   "outputs": [
    {
     "data": {
      "image/png": "[encoded data removed]",
      "text/plain": [
       "<Figure size 432x288 with 1 Axes>"
      ]
     },
     "metadata": {
      "needs_background": "light"
     },
     "output_type": "display_data"
    }
   ],
   "source": [
    "# quantiles, intercept\n",
    "df1.quantile(np.linspace(0.1,0.9,100), axis=0).iloc[:,[1,3,5,7]].plot()\n",
    "plt.xlabel('Percentile')\n",
    "plt.ylabel('Quantile')\n",
    "plt.title('R2, intercept')\n",
    "plt.grid()"
   ]
  },
  {
   "cell_type": "markdown",
   "metadata": {},
   "source": [
    "* The LASSO still performs well, but it gets beat by Huber for the higher percentiles of regressions. Tukey and OLS also overlap more, but are still clearly below LASSO and Huber.\n",
    "* Overall, it seems that LASSO performs the best best on test $R^2$. It offers protection against overfitting to the patterns in the training set, outliers and more-extreme data pionts included. However, LASSO offers protection from outliers only if those outliers are above the y=0 plane because LASSO usually \"flattens\" the regression surface towards the y=0 plane. As such, LASSO will not help correct the surface from outliers if the correction needs to steepen the line. This is easy to see with one preictor variable, as shown below."
   ]
  },
  {
   "cell_type": "code",
   "execution_count": 120,
   "metadata": {},
   "outputs": [
    {
     "data": {
      "image/png": "[encoded data removed]",
      "text/plain": [
       "<Figure size 432x288 with 1 Axes>"
      ]
     },
     "metadata": {
      "needs_background": "light"
     },
     "output_type": "display_data"
    }
   ],
   "source": [
    "X = np.arange(10).reshape(-1,1)\n",
    "y = 2*x + np.random.normal(0,2,10)\n",
    "y[8] -= 40\n",
    "\n",
    "X1 = X[[0,1,2,3,4,5,6,7,9]]\n",
    "y1 = y[[0,1,2,3,4,5,6,7,9]]\n",
    "\n",
    "reg = linear_model.LinearRegression().fit(X, y)\n",
    "y_pred = reg.predict(X)\n",
    "\n",
    "reg1 = linear_model.LinearRegression().fit(X1, y1)\n",
    "y_pred1 = reg1.predict(X1)\n",
    "\n",
    "reg2 = linear_model.Lasso(alpha=2).fit(X, y)\n",
    "y_pred2 = reg2.predict(X)\n",
    "\n",
    "reg3 = linear_model.HuberRegressor().fit(X, y)\n",
    "y_pred3 = reg3.predict(X)\n",
    "\n",
    "\n",
    "plt.scatter(X,y)\n",
    "#plt.plot(X1,y_pred1)\n",
    "plt.plot(X,y_pred)\n",
    "plt.plot(X,y_pred2)\n",
    "plt.plot(X, y_pred3)\n",
    "plt.legend(['OLS','Lasso','Huber'])\n",
    "plt.text(4, 0.2, r'LASSO is worse than OLS!', fontsize=11)\n",
    "plt.text(5, -18, r'Outlier is below $y=0$', fontsize=11);"
   ]
  },
  {
   "cell_type": "markdown",
   "metadata": {},
   "source": [
    "When the outlier is below the line $y=0$, the line should be pulled up. However, LASSO pulls the line down, making the outlier problem even worse. Huber outperforms in this scenario."
   ]
  },
  {
   "cell_type": "code",
   "execution_count": 140,
   "metadata": {},
   "outputs": [
    {
     "data": {
      "image/png": "[encoded data removed]",
      "text/plain": [
       "<Figure size 432x288 with 1 Axes>"
      ]
     },
     "metadata": {
      "needs_background": "light"
     },
     "output_type": "display_data"
    }
   ],
   "source": [
    "X = np.arange(10).reshape(-1,1)\n",
    "y = 2*x + np.random.normal(0,2,10)\n",
    "y[8] += 40\n",
    "\n",
    "X1 = X[[0,1,2,3,4,5,6,7,9]]\n",
    "y1 = y[[0,1,2,3,4,5,6,7,9]]\n",
    "\n",
    "reg = linear_model.LinearRegression().fit(X, y)\n",
    "y_pred = reg.predict(X)\n",
    "\n",
    "reg1 = linear_model.LinearRegression().fit(X1, y1)\n",
    "y_pred1 = reg1.predict(X1)\n",
    "\n",
    "reg2 = linear_model.Lasso(alpha=10).fit(X, y)\n",
    "y_pred2 = reg2.predict(X)\n",
    "\n",
    "reg3 = linear_model.HuberRegressor().fit(X, y)\n",
    "y_pred3 = reg3.predict(X)\n",
    "\n",
    "\n",
    "plt.scatter(X,y)\n",
    "#plt.plot(X1,y_pred1)\n",
    "plt.plot(X,y_pred)\n",
    "plt.plot(X,y_pred2)\n",
    "plt.plot(X, y_pred3)\n",
    "plt.legend(['OLS','Lasso','Huber'])\n",
    "plt.text(3, 26, r'LASSO bow better than OLS', fontsize=11)\n",
    "plt.text(5, 47, r'Outlier is above $y=0$', fontsize=11);"
   ]
  },
  {
   "cell_type": "markdown",
   "metadata": {},
   "source": [
    "When the outlier is _above_ the line $y=0$, the line needs to be pulled down. LASSO fulfills the task by flattening the regression line. So LASSO beats OLS here. However, LASSO still gets beat by Huber. Stronger regularization tends to reduce the slope, but not lower the intercept term to match Huber's intercept.\n",
    "\n",
    "This demonstrates a scenario where LASSO can provide protection against outliers, and one where it can't. Beyond outliers, LASSO can provide protection against features that aren't predictive in test sets. HUber cannot. This feature of LASSO might be a large reason why it outperforms Huber overall in our datasets."
   ]
  }
 ],
 "metadata": {
  "kernelspec": {
   "display_name": "Python 3",
   "language": "python",
   "name": "python3"
  },
  "language_info": {
   "codemirror_mode": {
    "name": "ipython",
    "version": 3
   },
   "file_extension": ".py",
   "mimetype": "text/x-python",
   "name": "python",
   "nbconvert_exporter": "python",
   "pygments_lexer": "ipython3",
   "version": "3.6.8"
  }
 },
 "nbformat": 4,
 "nbformat_minor": 2
}
