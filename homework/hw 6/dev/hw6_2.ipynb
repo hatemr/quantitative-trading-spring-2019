{
 "cells": [
  {
   "cell_type": "markdown",
   "metadata": {},
   "source": [
    "# Homework: Financial Ratio Quantile Strategy\n",
    "Robert Hatem"
   ]
  },
  {
   "cell_type": "code",
   "execution_count": 1,
   "metadata": {},
   "outputs": [],
   "source": [
    "import matplotlib.pyplot as plt\n",
    "import pandas as pd\n",
    "import numpy as np\n",
    "import scipy as sp\n",
    "import quandl\n",
    "import functools\n",
    "import seaborn as sns\n",
    "import time\n",
    "%matplotlib inline"
   ]
  },
  {
   "cell_type": "code",
   "execution_count": 2,
   "metadata": {},
   "outputs": [],
   "source": [
    "# API key\n",
    "quandl.ApiConfig.api_key = \"wFcUAbwJv3FbxzDwExsY\""
   ]
  },
  {
   "cell_type": "code",
   "execution_count": 3,
   "metadata": {},
   "outputs": [],
   "source": [
    "# for quandl data\n",
    "@functools.lru_cache(maxsize=16)\n",
    "def fetch_quandl(my_securities, start_date=\"2011-01-01\", end_date=\"2018-01-01\"):\n",
    "    #print(\"Fetching from Quandl\")\n",
    "    if len(my_securities) != 1:\n",
    "        qdata = quandl.get(list(my_securities), start_date=\"2010-12-01\", end_date=\"2018-01-01\", returns=\"pandas\")\n",
    "    elif len(my_securities) == 1:\n",
    "        my_securities = my_securities[0]\n",
    "        qdata = quandl.get(list(my_securities), start_date=\"2010-12-01\", end_date=\"2018-01-01\", returns=\"pandas\")\n",
    "    return qdata"
   ]
  },
  {
   "cell_type": "code",
   "execution_count": 7,
   "metadata": {},
   "outputs": [],
   "source": [
    "# clean data\n",
    "def clean_quandl_columns(dataframe):\n",
    "    replacement_columns = {}\n",
    "    for c in dataframe.columns:\n",
    "        series_name, variable = c.split(' - ')\n",
    "        source_name, asset = series_name.split('/')\n",
    "        replacement_columns[c] = asset+\":\"+variable\n",
    "    renamed_data = dataframe.rename(columns=replacement_columns)\n",
    "    return renamed_data\n",
    "\n",
    "#data = clean_quandl_columns(raw_data)"
   ]
  },
  {
   "cell_type": "code",
   "execution_count": null,
   "metadata": {},
   "outputs": [],
   "source": []
  },
  {
   "cell_type": "code",
   "execution_count": 5,
   "metadata": {},
   "outputs": [],
   "source": [
    "#df = pd.read_csv('ticker_list.csv')  # after filtering out inactive ones"
   ]
  },
  {
   "cell_type": "code",
   "execution_count": null,
   "metadata": {},
   "outputs": [],
   "source": []
  },
  {
   "cell_type": "code",
   "execution_count": 308,
   "metadata": {},
   "outputs": [],
   "source": [
    "df1 = pd.read_csv('EOD tickers.csv')  # only has tickers on NYSE and NASDAQ\n",
    "\n",
    "def query_data(ticker='AAPL'):\n",
    "    cols = ('ZFB/'+ticker+'_TOT_DEBT_TOT_EQUITY_Q', # debt to market cap\n",
    "            'ZFB/'+ticker+'_BOOK_VAL_PER_SHARE_Q', # price to book\n",
    "            'ZFB/'+ticker+'_DILUTED_NET_EPS_Q')    # price to earnings\n",
    "    raw_data = fetch_quandl(cols)\n",
    "    if len([1 for col in raw_data.columns if 'Not Found' in col]) > 0:  # if one of the columns is missing\n",
    "        return pd.DataFrame(), False \n",
    "    if raw_data.shape[0]==0:  # if the column is found but it contains no data\n",
    "        return pd.DataFrame(), False \n",
    "    raw_data.iloc[:,0].fillna(0, inplace=True)  # fill NaN for debt to mkt cap with zeros\n",
    "    \n",
    "    cols1 = ['TICKER'] + raw_data.columns.tolist()  # for swtitching order of columns\n",
    "    raw_data1 = raw_data.assign(TICKER=ticker)\n",
    "    raw_data2 = raw_data1.loc[:,cols1].copy()  # switch order of columns\n",
    "    \n",
    "    raw_data3 = raw_data2.reset_index().merge(df1.loc[:, ['ticker','is_active','Sector Code']], left_on='TICKER',right_on='ticker', how='left').set_index('PER_END_DATE').drop(columns=['ticker'])    \n",
    "    \n",
    "    return raw_data3, True\n",
    "\n",
    "df, found_cols = query_data(ticker='AAWW')"
   ]
  },
  {
   "cell_type": "code",
   "execution_count": 309,
   "metadata": {},
   "outputs": [
    {
     "data": {
      "text/html": [
       "<div>\n",
       "<style scoped>\n",
       "    .dataframe tbody tr th:only-of-type {\n",
       "        vertical-align: middle;\n",
       "    }\n",
       "\n",
       "    .dataframe tbody tr th {\n",
       "        vertical-align: top;\n",
       "    }\n",
       "\n",
       "    .dataframe thead th {\n",
       "        text-align: right;\n",
       "    }\n",
       "</style>\n",
       "<table border=\"1\" class=\"dataframe\">\n",
       "  <thead>\n",
       "    <tr style=\"text-align: right;\">\n",
       "      <th></th>\n",
       "      <th>TICKER</th>\n",
       "      <th>ZFB/AAWW_TOT_DEBT_TOT_EQUITY_Q - TOT_DEBT_TOT_EQUITY</th>\n",
       "      <th>ZFB/AAWW_BOOK_VAL_PER_SHARE_Q - BOOK_VAL_PER_SHARE</th>\n",
       "      <th>ZFB/AAWW_DILUTED_NET_EPS_Q - DILUTED_NET_EPS</th>\n",
       "      <th>is_active</th>\n",
       "      <th>Sector Code</th>\n",
       "    </tr>\n",
       "    <tr>\n",
       "      <th>PER_END_DATE</th>\n",
       "      <th></th>\n",
       "      <th></th>\n",
       "      <th></th>\n",
       "      <th></th>\n",
       "      <th></th>\n",
       "      <th></th>\n",
       "    </tr>\n",
       "  </thead>\n",
       "  <tbody>\n",
       "    <tr>\n",
       "      <th>2010-12-31</th>\n",
       "      <td>AAWW</td>\n",
       "      <td>0.4640</td>\n",
       "      <td>40.4862</td>\n",
       "      <td>1.58</td>\n",
       "      <td>Y</td>\n",
       "      <td>15</td>\n",
       "    </tr>\n",
       "    <tr>\n",
       "      <th>2011-03-31</th>\n",
       "      <td>AAWW</td>\n",
       "      <td>0.4479</td>\n",
       "      <td>40.4501</td>\n",
       "      <td>0.40</td>\n",
       "      <td>Y</td>\n",
       "      <td>15</td>\n",
       "    </tr>\n",
       "    <tr>\n",
       "      <th>2011-06-30</th>\n",
       "      <td>AAWW</td>\n",
       "      <td>0.3821</td>\n",
       "      <td>41.4504</td>\n",
       "      <td>0.90</td>\n",
       "      <td>Y</td>\n",
       "      <td>15</td>\n",
       "    </tr>\n",
       "    <tr>\n",
       "      <th>2011-09-30</th>\n",
       "      <td>AAWW</td>\n",
       "      <td>0.4735</td>\n",
       "      <td>42.0730</td>\n",
       "      <td>1.07</td>\n",
       "      <td>Y</td>\n",
       "      <td>15</td>\n",
       "    </tr>\n",
       "    <tr>\n",
       "      <th>2011-12-31</th>\n",
       "      <td>AAWW</td>\n",
       "      <td>0.6571</td>\n",
       "      <td>43.3900</td>\n",
       "      <td>1.27</td>\n",
       "      <td>Y</td>\n",
       "      <td>15</td>\n",
       "    </tr>\n",
       "  </tbody>\n",
       "</table>\n",
       "</div>"
      ],
      "text/plain": [
       "             TICKER  ZFB/AAWW_TOT_DEBT_TOT_EQUITY_Q - TOT_DEBT_TOT_EQUITY  \\\n",
       "PER_END_DATE                                                                \n",
       "2010-12-31     AAWW                                             0.4640      \n",
       "2011-03-31     AAWW                                             0.4479      \n",
       "2011-06-30     AAWW                                             0.3821      \n",
       "2011-09-30     AAWW                                             0.4735      \n",
       "2011-12-31     AAWW                                             0.6571      \n",
       "\n",
       "              ZFB/AAWW_BOOK_VAL_PER_SHARE_Q - BOOK_VAL_PER_SHARE  \\\n",
       "PER_END_DATE                                                       \n",
       "2010-12-31                                              40.4862    \n",
       "2011-03-31                                              40.4501    \n",
       "2011-06-30                                              41.4504    \n",
       "2011-09-30                                              42.0730    \n",
       "2011-12-31                                              43.3900    \n",
       "\n",
       "              ZFB/AAWW_DILUTED_NET_EPS_Q - DILUTED_NET_EPS is_active  \\\n",
       "PER_END_DATE                                                           \n",
       "2010-12-31                                            1.58         Y   \n",
       "2011-03-31                                            0.40         Y   \n",
       "2011-06-30                                            0.90         Y   \n",
       "2011-09-30                                            1.07         Y   \n",
       "2011-12-31                                            1.27         Y   \n",
       "\n",
       "              Sector Code  \n",
       "PER_END_DATE               \n",
       "2010-12-31             15  \n",
       "2011-03-31             15  \n",
       "2011-06-30             15  \n",
       "2011-09-30             15  \n",
       "2011-12-31             15  "
      ]
     },
     "execution_count": 309,
     "metadata": {},
     "output_type": "execute_result"
    }
   ],
   "source": [
    "df.head()"
   ]
  },
  {
   "cell_type": "code",
   "execution_count": 375,
   "metadata": {},
   "outputs": [],
   "source": [
    "def test_data(df, found_cols):\n",
    "    if found_cols==False:  # if one of the ratios is not available\n",
    "        return pd.DataFrame(), False\n",
    "    if df['is_active'].isna().all() or df['Sector Code'].isna().all():  # if the stock isn't in the universe of stocks with sector codes (from Suraj)\n",
    "        #print('')\n",
    "        return pd.DataFrame(), False\n",
    "    if len([1 for col in df.columns if 'Not Found' in col]) > 0:  # if one of the ratio columns is not found\n",
    "        return pd.DataFrame(), False\n",
    "    else:\n",
    "        new_cols = ['TICKER', 'TOT_DEBT_TOT_EQUITY_Q','BOOK_VAL_PER_SHARE_Q','DILUTED_NET_EPS_Q', 'is_active','Sector Code']  # clean up the column names\n",
    "        df.columns = new_cols\n",
    "    \n",
    "    ticker = df.TICKER[0]\n",
    "    data1 = quandl.get(('EOD/'+ticker+'.11'), start_date=\"2010-12-31\", end_date=\"2018-01-01\", returns=\"pandas\")  # adjusted close price\n",
    "    \n",
    "    if data1.shape[0]!=1762:   # if full history of closing prices not available\n",
    "        return pd.DataFrame(), False\n",
    "    elif sum(df.iloc[:,1] > 0.1) < 1:  # if not enough debt\n",
    "        return pd.DataFrame(), False\n",
    "    elif df['Sector Code'].iat[0] in [5, 13]:  # if in auto/banking/insurance\n",
    "        return pd.DataFrame(), False\n",
    "    else:\n",
    "        data2 = data1.merge(df, left_index=True, right_index=True, how='left').fillna(method='ffill')  # join closing prices with quarterly numbers\n",
    "        \n",
    "        cols1 = data2.columns.tolist()\n",
    "        new_cols1 = [cols1[1], cols1[0]] + cols1[2:5]  # for swtitching order of columns\n",
    "        data3 = data2.loc[:, new_cols1].copy()\n",
    "        data3['TICKER'] = data3['TICKER'].fillna(method='bfill').values\n",
    "        \n",
    "        debt_to_mktcap = data3['TOT_DEBT_TOT_EQUITY_Q'].values    # rename columns\n",
    "        price_to_book = data3['Adj_Close']/data3['BOOK_VAL_PER_SHARE_Q']   # compute new columns\n",
    "        price_to_earnings = data3['Adj_Close']/data3['DILUTED_NET_EPS_Q']\n",
    "        data3 = data3.assign(debt_to_mktcap=debt_to_mktcap).assign(price_to_book=price_to_book).assign(price_to_earnings=price_to_earnings)\n",
    "        return data3, True\n",
    "           \n",
    "d, is_valid = test_data(df, found_cols)"
   ]
  },
  {
   "cell_type": "code",
   "execution_count": 376,
   "metadata": {},
   "outputs": [
    {
     "data": {
      "text/html": [
       "<div>\n",
       "<style scoped>\n",
       "    .dataframe tbody tr th:only-of-type {\n",
       "        vertical-align: middle;\n",
       "    }\n",
       "\n",
       "    .dataframe tbody tr th {\n",
       "        vertical-align: top;\n",
       "    }\n",
       "\n",
       "    .dataframe thead th {\n",
       "        text-align: right;\n",
       "    }\n",
       "</style>\n",
       "<table border=\"1\" class=\"dataframe\">\n",
       "  <thead>\n",
       "    <tr style=\"text-align: right;\">\n",
       "      <th></th>\n",
       "    </tr>\n",
       "  </thead>\n",
       "  <tbody>\n",
       "  </tbody>\n",
       "</table>\n",
       "</div>"
      ],
      "text/plain": [
       "Empty DataFrame\n",
       "Columns: []\n",
       "Index: []"
      ]
     },
     "execution_count": 376,
     "metadata": {},
     "output_type": "execute_result"
    }
   ],
   "source": [
    "d.head()"
   ]
  },
  {
   "cell_type": "code",
   "execution_count": 313,
   "metadata": {},
   "outputs": [],
   "source": [
    "tickers = pd.read_csv('ticker_list.csv')"
   ]
  },
  {
   "cell_type": "code",
   "execution_count": 4,
   "metadata": {},
   "outputs": [
    {
     "data": {
      "text/plain": [
       "\"\\ntotal=tickers['Ticker'].values.shape[0]\\ncounter_dots = []\\n\\nfor i, ticker in enumerate(tickers['Ticker'].values):\\n    if ticker!=ticker.replace('.',''):\\n        counter_dots.append(ticker)\\n    else:\\n        ticker1 = ticker\\n        df, found_cols = query_data(ticker=ticker1)\\n        df_output, is_valid = test_data(df, found_cols)\\n        if is_valid==True:\\n            print('{} of {} | Add {}'.format(i, total, ticker1))\\n            final_tickers[ticker1] = df_output\\n        else:\\n            print('{} of {} | SKIP {}'.format(i, total, ticker1))\\n\""
      ]
     },
     "execution_count": 4,
     "metadata": {},
     "output_type": "execute_result"
    }
   ],
   "source": [
    "final_tickers = {}\n",
    "'''\n",
    "total=tickers['Ticker'].values.shape[0]\n",
    "counter_dots = []\n",
    "\n",
    "for i, ticker in enumerate(tickers['Ticker'].values):\n",
    "    if ticker!=ticker.replace('.',''):\n",
    "        counter_dots.append(ticker)\n",
    "    else:\n",
    "        ticker1 = ticker\n",
    "        df, found_cols = query_data(ticker=ticker1)\n",
    "        df_output, is_valid = test_data(df, found_cols)\n",
    "        if is_valid==True:\n",
    "            print('{} of {} | Add {}'.format(i, total, ticker1))\n",
    "            final_tickers[ticker1] = df_output\n",
    "        else:\n",
    "            print('{} of {} | SKIP {}'.format(i, total, ticker1))\n",
    "'''"
   ]
  },
  {
   "cell_type": "code",
   "execution_count": 380,
   "metadata": {},
   "outputs": [
    {
     "data": {
      "text/plain": [
       "['A', 'AAL', 'AAN']"
      ]
     },
     "execution_count": 380,
     "metadata": {},
     "output_type": "execute_result"
    }
   ],
   "source": [
    "list(final_tickers.keys())[0:3]"
   ]
  },
  {
   "cell_type": "code",
   "execution_count": 1,
   "metadata": {},
   "outputs": [
    {
     "ename": "NameError",
     "evalue": "name 'final_tickers' is not defined",
     "output_type": "error",
     "traceback": [
      "\u001b[0;31m---------------------------------------------------------------------------\u001b[0m",
      "\u001b[0;31mNameError\u001b[0m                                 Traceback (most recent call last)",
      "\u001b[0;32m<ipython-input-1-5b30fbbb9b67>\u001b[0m in \u001b[0;36m<module>\u001b[0;34m\u001b[0m\n\u001b[0;32m----> 1\u001b[0;31m \u001b[0mfinal_tickers\u001b[0m\u001b[0;34m[\u001b[0m\u001b[0;34m'SPB'\u001b[0m\u001b[0;34m]\u001b[0m\u001b[0;34m.\u001b[0m\u001b[0mhead\u001b[0m\u001b[0;34m(\u001b[0m\u001b[0;34m)\u001b[0m\u001b[0;34m\u001b[0m\u001b[0;34m\u001b[0m\u001b[0m\n\u001b[0m",
      "\u001b[0;31mNameError\u001b[0m: name 'final_tickers' is not defined"
     ]
    }
   ],
   "source": [
    "final_tickers['SPB'].head()"
   ]
  },
  {
   "cell_type": "code",
   "execution_count": 377,
   "metadata": {},
   "outputs": [
    {
     "data": {
      "text/plain": [
       "1835"
      ]
     },
     "execution_count": 377,
     "metadata": {},
     "output_type": "execute_result"
    }
   ],
   "source": [
    "len(list(final_tickers))"
   ]
  },
  {
   "cell_type": "code",
   "execution_count": 403,
   "metadata": {},
   "outputs": [],
   "source": [
    "eod_etf = quandl.get((\"EOD/SPY\"), start_date=\"2010-12-01\", end_date=\"2018-01-01\", returns=\"pandas\")\n",
    "eod_etf1 = eod_etf.loc[:,['Adj_Close']]\n",
    "eod_etf1['etf_returns'] = eod_etf1['Adj_Close'].pct_change()"
   ]
  },
  {
   "cell_type": "code",
   "execution_count": 405,
   "metadata": {},
   "outputs": [
    {
     "data": {
      "text/html": [
       "<div>\n",
       "<style scoped>\n",
       "    .dataframe tbody tr th:only-of-type {\n",
       "        vertical-align: middle;\n",
       "    }\n",
       "\n",
       "    .dataframe tbody tr th {\n",
       "        vertical-align: top;\n",
       "    }\n",
       "\n",
       "    .dataframe thead th {\n",
       "        text-align: right;\n",
       "    }\n",
       "</style>\n",
       "<table border=\"1\" class=\"dataframe\">\n",
       "  <thead>\n",
       "    <tr style=\"text-align: right;\">\n",
       "      <th></th>\n",
       "      <th>Adj_Close</th>\n",
       "      <th>etf_returns</th>\n",
       "    </tr>\n",
       "    <tr>\n",
       "      <th>Date</th>\n",
       "      <th></th>\n",
       "      <th></th>\n",
       "    </tr>\n",
       "  </thead>\n",
       "  <tbody>\n",
       "    <tr>\n",
       "      <th>2010-12-01</th>\n",
       "      <td>101.928029</td>\n",
       "      <td>NaN</td>\n",
       "    </tr>\n",
       "    <tr>\n",
       "      <th>2010-12-02</th>\n",
       "      <td>103.233608</td>\n",
       "      <td>0.012809</td>\n",
       "    </tr>\n",
       "    <tr>\n",
       "      <th>2010-12-03</th>\n",
       "      <td>103.511571</td>\n",
       "      <td>0.002693</td>\n",
       "    </tr>\n",
       "  </tbody>\n",
       "</table>\n",
       "</div>"
      ],
      "text/plain": [
       "             Adj_Close  etf_returns\n",
       "Date                               \n",
       "2010-12-01  101.928029          NaN\n",
       "2010-12-02  103.233608     0.012809\n",
       "2010-12-03  103.511571     0.002693"
      ]
     },
     "execution_count": 405,
     "metadata": {},
     "output_type": "execute_result"
    }
   ],
   "source": [
    "eod_etf1.head(3)"
   ]
  },
  {
   "cell_type": "code",
   "execution_count": 413,
   "metadata": {},
   "outputs": [],
   "source": [
    "data = final_tickers['AAPL'].copy()\n",
    "data['stock_returns'] = data['Adj_Close'].pct_change()"
   ]
  },
  {
   "cell_type": "code",
   "execution_count": 414,
   "metadata": {},
   "outputs": [
    {
     "data": {
      "text/html": [
       "<div>\n",
       "<style scoped>\n",
       "    .dataframe tbody tr th:only-of-type {\n",
       "        vertical-align: middle;\n",
       "    }\n",
       "\n",
       "    .dataframe tbody tr th {\n",
       "        vertical-align: top;\n",
       "    }\n",
       "\n",
       "    .dataframe thead th {\n",
       "        text-align: right;\n",
       "    }\n",
       "</style>\n",
       "<table border=\"1\" class=\"dataframe\">\n",
       "  <thead>\n",
       "    <tr style=\"text-align: right;\">\n",
       "      <th></th>\n",
       "      <th>TICKER</th>\n",
       "      <th>Adj_Close</th>\n",
       "      <th>TOT_DEBT_TOT_EQUITY_Q</th>\n",
       "      <th>BOOK_VAL_PER_SHARE_Q</th>\n",
       "      <th>DILUTED_NET_EPS_Q</th>\n",
       "      <th>debt_to_mktcap</th>\n",
       "      <th>price_to_book</th>\n",
       "      <th>price_to_earnings</th>\n",
       "      <th>stock_returns</th>\n",
       "    </tr>\n",
       "    <tr>\n",
       "      <th>Date</th>\n",
       "      <th></th>\n",
       "      <th></th>\n",
       "      <th></th>\n",
       "      <th></th>\n",
       "      <th></th>\n",
       "      <th></th>\n",
       "      <th></th>\n",
       "      <th></th>\n",
       "      <th></th>\n",
       "    </tr>\n",
       "  </thead>\n",
       "  <tbody>\n",
       "    <tr>\n",
       "      <th>2010-12-31</th>\n",
       "      <td>AAPL</td>\n",
       "      <td>40.362872</td>\n",
       "      <td>0.0</td>\n",
       "      <td>8.479</td>\n",
       "      <td>0.9186</td>\n",
       "      <td>0.0</td>\n",
       "      <td>4.760334</td>\n",
       "      <td>43.939552</td>\n",
       "      <td>NaN</td>\n",
       "    </tr>\n",
       "    <tr>\n",
       "      <th>2011-01-03</th>\n",
       "      <td>AAPL</td>\n",
       "      <td>41.240054</td>\n",
       "      <td>0.0</td>\n",
       "      <td>8.479</td>\n",
       "      <td>0.9186</td>\n",
       "      <td>0.0</td>\n",
       "      <td>4.863787</td>\n",
       "      <td>44.894463</td>\n",
       "      <td>0.021732</td>\n",
       "    </tr>\n",
       "    <tr>\n",
       "      <th>2011-01-04</th>\n",
       "      <td>AAPL</td>\n",
       "      <td>41.455283</td>\n",
       "      <td>0.0</td>\n",
       "      <td>8.479</td>\n",
       "      <td>0.9186</td>\n",
       "      <td>0.0</td>\n",
       "      <td>4.889171</td>\n",
       "      <td>45.128764</td>\n",
       "      <td>0.005219</td>\n",
       "    </tr>\n",
       "    <tr>\n",
       "      <th>2011-01-05</th>\n",
       "      <td>AAPL</td>\n",
       "      <td>41.794393</td>\n",
       "      <td>0.0</td>\n",
       "      <td>8.479</td>\n",
       "      <td>0.9186</td>\n",
       "      <td>0.0</td>\n",
       "      <td>4.929165</td>\n",
       "      <td>45.497924</td>\n",
       "      <td>0.008180</td>\n",
       "    </tr>\n",
       "    <tr>\n",
       "      <th>2011-01-06</th>\n",
       "      <td>AAPL</td>\n",
       "      <td>41.760607</td>\n",
       "      <td>0.0</td>\n",
       "      <td>8.479</td>\n",
       "      <td>0.9186</td>\n",
       "      <td>0.0</td>\n",
       "      <td>4.925181</td>\n",
       "      <td>45.461144</td>\n",
       "      <td>-0.000808</td>\n",
       "    </tr>\n",
       "  </tbody>\n",
       "</table>\n",
       "</div>"
      ],
      "text/plain": [
       "           TICKER  Adj_Close  TOT_DEBT_TOT_EQUITY_Q  BOOK_VAL_PER_SHARE_Q  \\\n",
       "Date                                                                        \n",
       "2010-12-31   AAPL  40.362872                    0.0                 8.479   \n",
       "2011-01-03   AAPL  41.240054                    0.0                 8.479   \n",
       "2011-01-04   AAPL  41.455283                    0.0                 8.479   \n",
       "2011-01-05   AAPL  41.794393                    0.0                 8.479   \n",
       "2011-01-06   AAPL  41.760607                    0.0                 8.479   \n",
       "\n",
       "            DILUTED_NET_EPS_Q  debt_to_mktcap  price_to_book  \\\n",
       "Date                                                           \n",
       "2010-12-31             0.9186             0.0       4.760334   \n",
       "2011-01-03             0.9186             0.0       4.863787   \n",
       "2011-01-04             0.9186             0.0       4.889171   \n",
       "2011-01-05             0.9186             0.0       4.929165   \n",
       "2011-01-06             0.9186             0.0       4.925181   \n",
       "\n",
       "            price_to_earnings  stock_returns  \n",
       "Date                                          \n",
       "2010-12-31          43.939552            NaN  \n",
       "2011-01-03          44.894463       0.021732  \n",
       "2011-01-04          45.128764       0.005219  \n",
       "2011-01-05          45.497924       0.008180  \n",
       "2011-01-06          45.461144      -0.000808  "
      ]
     },
     "execution_count": 414,
     "metadata": {},
     "output_type": "execute_result"
    }
   ],
   "source": [
    "data.head()"
   ]
  },
  {
   "cell_type": "code",
   "execution_count": null,
   "metadata": {},
   "outputs": [],
   "source": []
  },
  {
   "cell_type": "code",
   "execution_count": null,
   "metadata": {},
   "outputs": [],
   "source": []
  }
 ],
 "metadata": {
  "kernelspec": {
   "display_name": "Python 3",
   "language": "python",
   "name": "python3"
  },
  "language_info": {
   "codemirror_mode": {
    "name": "ipython",
    "version": 3
   },
   "file_extension": ".py",
   "mimetype": "text/x-python",
   "name": "python",
   "nbconvert_exporter": "python",
   "pygments_lexer": "ipython3",
   "version": "3.6.8"
  }
 },
 "nbformat": 4,
 "nbformat_minor": 2
}
